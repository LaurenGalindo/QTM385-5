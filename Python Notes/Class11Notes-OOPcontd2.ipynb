{
 "cells": [
  {
   "cell_type": "markdown",
   "metadata": {},
   "source": [
    "# QTM 385\n",
    "\n",
    "> Classes and OOP - Final Class"
   ]
  },
  {
   "cell_type": "markdown",
   "metadata": {},
   "source": [
    "## Operator Comparison\n",
    "\n",
    "If you have two objects with the same data, they are probably not equal to each other! That's is weird, but it is easy to fix."
   ]
  },
  {
   "cell_type": "code",
   "execution_count": 1,
   "metadata": {},
   "outputs": [],
   "source": [
    "# My code here\n",
    "class Student:\n",
    "    def __init__(self, nam, num, gr, lg):\n",
    "        self.name = nam\n",
    "        self.number = num\n",
    "        self.grades = gr\n",
    "        self.login = lg\n",
    "        \n",
    "    def avg_grades(self):\n",
    "        avg = 0\n",
    "        for i in self.grades:\n",
    "            avg += i\n",
    "            \n",
    "        avg = avg / len(self.grades)\n",
    "        return avg\n",
    "    \n",
    "stu1 = Student('John', 1234, [10,8,10], 'johnsmith')\n",
    "stu2 = Student('Ann', 4321, [9,10,10], 'annlee')\n",
    "stu3 = Student('Ann', 4321, [9,10,10], 'annlee')"
   ]
  },
  {
   "cell_type": "markdown",
   "metadata": {},
   "source": [
    "### Check if the two classes are the same:\n",
    "\n",
    "The problem is that these students are referred by their address in the memory. \n",
    "* Since they're in different addresses in the memory, they will be different objects ( Even though they have the exact same contents)."
   ]
  },
  {
   "cell_type": "code",
   "execution_count": 2,
   "metadata": {},
   "outputs": [
    {
     "data": {
      "text/plain": [
       "False"
      ]
     },
     "execution_count": 2,
     "metadata": {},
     "output_type": "execute_result"
    }
   ],
   "source": [
    "stu1 == stu2"
   ]
  },
  {
   "cell_type": "code",
   "execution_count": 3,
   "metadata": {},
   "outputs": [
    {
     "data": {
      "text/plain": [
       "False"
      ]
     },
     "execution_count": 3,
     "metadata": {},
     "output_type": "execute_result"
    }
   ],
   "source": [
    "stu1 == stu3"
   ]
  },
  {
   "cell_type": "code",
   "execution_count": 4,
   "metadata": {},
   "outputs": [
    {
     "data": {
      "text/plain": [
       "False"
      ]
     },
     "execution_count": 4,
     "metadata": {},
     "output_type": "execute_result"
    }
   ],
   "source": [
    "stu2 == stu3"
   ]
  },
  {
   "cell_type": "markdown",
   "metadata": {},
   "source": [
    "We can define each of these classes here:\n",
    "\n",
    "| Operator | Method   |\n",
    "|----------|----------|\n",
    "| `==`     | `__eq__` |\n",
    "| `!=`     | `__ne__` |\n",
    "| `>=`     | `__ge__` |\n",
    "| `<=`     | `__le__` |\n",
    "| `>`      | `__gt__` |\n",
    "| `<`      | `__lt__` |"
   ]
  },
  {
   "cell_type": "code",
   "execution_count": 5,
   "metadata": {},
   "outputs": [],
   "source": [
    "# My code here\n",
    "class Student:\n",
    "    def __init__(self, nam, num, gr, lg):\n",
    "        self.name = nam\n",
    "        self.number = num\n",
    "        self.grade = gr\n",
    "        self.login = lg\n",
    "        \n",
    "    def avg_grades(self):\n",
    "        avg = 0\n",
    "        for i in self.grades:\n",
    "            avg += i\n",
    "            \n",
    "        avg = avg / len(self.grades)\n",
    "        return avg\n",
    "    \n",
    "    def __eq__(self, other):\n",
    "        return self.login == other.login\n",
    "    \n",
    "stu1 = Student('John', 1234, [10,8,10], 'johnsmith')\n",
    "stu2 = Student('Ann', 4321, [9,10,10], 'annlee')\n",
    "stu3 = Student('Ann', 4321, [9,10,10], 'annlee')"
   ]
  },
  {
   "cell_type": "markdown",
   "metadata": {},
   "source": [
    "Why does this change work? \n",
    "\n",
    "We are using strings!\n",
    "If we had a nested class, we can use it because they're all defined together"
   ]
  },
  {
   "cell_type": "code",
   "execution_count": 6,
   "metadata": {},
   "outputs": [
    {
     "data": {
      "text/plain": [
       "False"
      ]
     },
     "execution_count": 6,
     "metadata": {},
     "output_type": "execute_result"
    }
   ],
   "source": [
    "stu1 == stu2"
   ]
  },
  {
   "cell_type": "code",
   "execution_count": 7,
   "metadata": {},
   "outputs": [
    {
     "data": {
      "text/plain": [
       "True"
      ]
     },
     "execution_count": 7,
     "metadata": {},
     "output_type": "execute_result"
    }
   ],
   "source": [
    "stu2 == stu3"
   ]
  },
  {
   "cell_type": "markdown",
   "metadata": {},
   "source": [
    "**Exercise**: For the Voter class, create one equality and one inequality operator."
   ]
  },
  {
   "cell_type": "code",
   "execution_count": 8,
   "metadata": {},
   "outputs": [],
   "source": [
    "## Your answers here!\n",
    "\n",
    "class Voter:\n",
    "    MIN_AGE = 17\n",
    "    \n",
    "    def __init__(self, name, age):\n",
    "        self.name = name\n",
    "        self.age = age\n",
    "            \n",
    "    def __eq__(self, other):\n",
    "        return self.name == other.name and self.age == other.age\n",
    "        \n",
    "    def __ne__(self, other):\n",
    "        return self.name >= other.name and self.age != other.age\n",
    "        \n",
    "vt1 = Voter('Matt', 22)\n",
    "vt2 = Voter('Matt', 22)\n",
    "vt3 = Voter('Ann', 22)"
   ]
  },
  {
   "cell_type": "code",
   "execution_count": 9,
   "metadata": {},
   "outputs": [
    {
     "data": {
      "text/plain": [
       "True"
      ]
     },
     "execution_count": 9,
     "metadata": {},
     "output_type": "execute_result"
    }
   ],
   "source": [
    "vt1 == vt2"
   ]
  },
  {
   "cell_type": "markdown",
   "metadata": {},
   "source": [
    "We can also add the methods for representation and printing:\n",
    "\n",
    "* Make sure you use \"str\" when printing avggr.\n",
    "* The formatting is useful!"
   ]
  },
  {
   "cell_type": "code",
   "execution_count": 10,
   "metadata": {
    "scrolled": true
   },
   "outputs": [
    {
     "name": "stdout",
     "output_type": "stream",
     "text": [
      "<__main__.Student object at 0x7fa2eab32fa0>\n"
     ]
    }
   ],
   "source": [
    "# My code here\n",
    "print(stu1)\n",
    "\n",
    "# My code here\n",
    "class Student:\n",
    "    def __init__(self, nam, num, gr, lg):\n",
    "        self.name = nam\n",
    "        self.number = num\n",
    "        self.grades = gr\n",
    "        self.login = lg\n",
    "        \n",
    "    def avg_grades(self):\n",
    "        avg = 0\n",
    "        for i in self.grades:\n",
    "            avg += i\n",
    "            \n",
    "        avg = avg / len(self.grades)\n",
    "        return avg\n",
    "    \n",
    "    def __eq__(self, other):\n",
    "        return self.login == other.login\n",
    "    \n",
    "    def __str__(self):\n",
    "        st_info = \"\"\"\n",
    "Student:\n",
    "    name: {nam}\n",
    "    login: {lg}\n",
    "    avg_grade: {avggr}\n",
    "    \"\"\".format(nam = self.name, lg = self.login, avggr = str(Student.avg_grades(self)))\n",
    "        return st_info\n",
    "    \n",
    "stu1 = Student('John', 1234, [10,8,10], 'johnsmith')\n",
    "stu2 = Student('Ann', 4321, [9,10,10], 'annlee')\n",
    "stu3 = Student('Ann', 4321, [9,10,10], 'annlee')"
   ]
  },
  {
   "cell_type": "code",
   "execution_count": 11,
   "metadata": {},
   "outputs": [
    {
     "name": "stdout",
     "output_type": "stream",
     "text": [
      "\n",
      "Student:\n",
      "    name: John\n",
      "    login: johnsmith\n",
      "    avg_grade: 9.333333333333334\n",
      "    \n"
     ]
    }
   ],
   "source": [
    "print(stu1)"
   ]
  },
  {
   "cell_type": "code",
   "execution_count": 12,
   "metadata": {},
   "outputs": [],
   "source": [
    "# My code here\n",
    "class Student:\n",
    "    def __init__(self, nam, num, gr, lg):\n",
    "        self.name = nam\n",
    "        self.number = num\n",
    "        self.grades = gr\n",
    "        self.login = lg\n",
    "        \n",
    "    def avg_grades(self):\n",
    "        avg = 0\n",
    "        for i in self.grades:\n",
    "            avg += i\n",
    "            \n",
    "        avg = avg / len(self.grades)\n",
    "        return avg\n",
    "    \n",
    "    def __eq__(self, other):\n",
    "        return self.login == other.login\n",
    "    \n",
    "    def __str__(self):\n",
    "        st_info = \"\"\"\n",
    "Student:\n",
    "    name: {nam}\n",
    "    login: {lg}\n",
    "    avg_grade: {avggr}\n",
    "    \"\"\".format(nam = self.name, lg = self.login, avggr = str(Student.avg_grades(self)))\n",
    "        return st_info\n",
    "    \n",
    "    def __repr__(self):\n",
    "        return \"Student: {nam}, login: {lg}\".format(nam = self.name, lg = self.login)\n",
    "    \n",
    "stu1 = Student('John', 1234, [10,8,10], 'johnsmith')"
   ]
  },
  {
   "cell_type": "code",
   "execution_count": 13,
   "metadata": {},
   "outputs": [
    {
     "data": {
      "text/plain": [
       "Student: John, login: johnsmith"
      ]
     },
     "execution_count": 13,
     "metadata": {},
     "output_type": "execute_result"
    }
   ],
   "source": [
    "stu1"
   ]
  },
  {
   "cell_type": "markdown",
   "metadata": {},
   "source": [
    "## String Representation"
   ]
  },
  {
   "cell_type": "markdown",
   "metadata": {},
   "source": [
    "We can also add the representation:"
   ]
  },
  {
   "cell_type": "code",
   "execution_count": 14,
   "metadata": {},
   "outputs": [],
   "source": [
    "# My code here"
   ]
  },
  {
   "cell_type": "markdown",
   "metadata": {},
   "source": [
    "**Exercise**: For the Voter class, add str and a repr."
   ]
  },
  {
   "cell_type": "code",
   "execution_count": 15,
   "metadata": {},
   "outputs": [],
   "source": [
    "## Your answers here!\n",
    "\n",
    "class Voter:\n",
    "    MIN_AGE = 17\n",
    "    \n",
    "    def __init__(self, name, age):\n",
    "        self.name = name\n",
    "        self.age = age\n",
    "            \n",
    "    def __eq__(self, other):\n",
    "        return self.name == other.name and self.age == other.age\n",
    "        \n",
    "    def __ne__(self, other):\n",
    "        return self.name >= other.name and self.age != other.age\n",
    "        \n",
    "    def __str__(self):\n",
    "        str_info = \"\"\"\n",
    "Voter:\n",
    "    Name: {name}\n",
    "    Age: {age}\n",
    "        \"\"\".format(name = self.name, age = self.age)\n",
    "        return str_info\n",
    "    \n",
    "    def __repr__(self):\n",
    "        return \"Voter:\\n\\tName: {name}\\n\\tAge: {age}\".format(name = self.name, age = self.age)\n",
    "    \n",
    "    \n",
    "vt1 = Voter('Matt', 22)\n",
    "vt2 = Voter('Matt', 22)\n",
    "vt3 = Voter('Ann', 22)"
   ]
  },
  {
   "cell_type": "code",
   "execution_count": 16,
   "metadata": {},
   "outputs": [
    {
     "name": "stdout",
     "output_type": "stream",
     "text": [
      "\n",
      "Voter:\n",
      "    Name: Matt\n",
      "    Age: 22\n",
      "        \n"
     ]
    },
    {
     "data": {
      "text/plain": [
       "Voter:\n",
       "\tName: Matt\n",
       "\tAge: 22"
      ]
     },
     "execution_count": 16,
     "metadata": {},
     "output_type": "execute_result"
    }
   ],
   "source": [
    "print(vt1)\n",
    "vt1"
   ]
  },
  {
   "cell_type": "markdown",
   "metadata": {},
   "source": [
    "# Project\n",
    "\n",
    "In this project, we are going to create a Matrix operator."
   ]
  },
  {
   "cell_type": "code",
   "execution_count": 17,
   "metadata": {},
   "outputs": [
    {
     "ename": "NameError",
     "evalue": "name 'other' is not defined",
     "output_type": "error",
     "traceback": [
      "\u001b[0;31m---------------------------------------------------------------------------\u001b[0m",
      "\u001b[0;31mNameError\u001b[0m                                 Traceback (most recent call last)",
      "\u001b[0;32m<ipython-input-17-2579086e104e>\u001b[0m in \u001b[0;36m<module>\u001b[0;34m\u001b[0m\n\u001b[1;32m     10\u001b[0m     \u001b[0;31m#    return self.n1 == other.n1 and self.n2 == other.n2 and self.n3 == other.n3 and self.n4 == other.n4\u001b[0m\u001b[0;34m\u001b[0m\u001b[0;34m\u001b[0m\u001b[0;34m\u001b[0m\u001b[0m\n\u001b[1;32m     11\u001b[0m \u001b[0;34m\u001b[0m\u001b[0m\n\u001b[0;32m---> 12\u001b[0;31m \u001b[0mm1\u001b[0m \u001b[0;34m=\u001b[0m \u001b[0mMatrix\u001b[0m\u001b[0;34m(\u001b[0m\u001b[0;36m1\u001b[0m\u001b[0;34m,\u001b[0m\u001b[0;36m2\u001b[0m\u001b[0;34m,\u001b[0m\u001b[0;36m3\u001b[0m\u001b[0;34m,\u001b[0m\u001b[0;36m4\u001b[0m\u001b[0;34m)\u001b[0m\u001b[0;34m\u001b[0m\u001b[0;34m\u001b[0m\u001b[0m\n\u001b[0m\u001b[1;32m     13\u001b[0m \u001b[0mm2\u001b[0m \u001b[0;34m=\u001b[0m \u001b[0mMatrix\u001b[0m\u001b[0;34m(\u001b[0m\u001b[0;36m1\u001b[0m\u001b[0;34m,\u001b[0m\u001b[0;36m2\u001b[0m\u001b[0;34m,\u001b[0m\u001b[0;36m3\u001b[0m\u001b[0;34m,\u001b[0m\u001b[0;36m5\u001b[0m\u001b[0;34m)\u001b[0m\u001b[0;34m\u001b[0m\u001b[0;34m\u001b[0m\u001b[0m\n\u001b[1;32m     14\u001b[0m \u001b[0mm3\u001b[0m \u001b[0;34m=\u001b[0m \u001b[0mMatrix\u001b[0m\u001b[0;34m(\u001b[0m\u001b[0;36m1\u001b[0m\u001b[0;34m,\u001b[0m\u001b[0;36m2\u001b[0m\u001b[0;34m,\u001b[0m\u001b[0;36m3\u001b[0m\u001b[0;34m,\u001b[0m\u001b[0;36m4\u001b[0m\u001b[0;34m)\u001b[0m\u001b[0;34m\u001b[0m\u001b[0;34m\u001b[0m\u001b[0m\n",
      "\u001b[0;32m<ipython-input-17-2579086e104e>\u001b[0m in \u001b[0;36m__init__\u001b[0;34m(self, n1, n2, n3, n4)\u001b[0m\n\u001b[1;32m      2\u001b[0m \u001b[0;32mclass\u001b[0m \u001b[0mMatrix\u001b[0m\u001b[0;34m:\u001b[0m\u001b[0;34m\u001b[0m\u001b[0;34m\u001b[0m\u001b[0m\n\u001b[1;32m      3\u001b[0m     \u001b[0;32mdef\u001b[0m \u001b[0m__init__\u001b[0m\u001b[0;34m(\u001b[0m\u001b[0mself\u001b[0m\u001b[0;34m,\u001b[0m \u001b[0mn1\u001b[0m\u001b[0;34m,\u001b[0m \u001b[0mn2\u001b[0m\u001b[0;34m,\u001b[0m \u001b[0mn3\u001b[0m\u001b[0;34m,\u001b[0m \u001b[0mn4\u001b[0m\u001b[0;34m)\u001b[0m\u001b[0;34m:\u001b[0m\u001b[0;34m\u001b[0m\u001b[0;34m\u001b[0m\u001b[0m\n\u001b[0;32m----> 4\u001b[0;31m         \u001b[0mself\u001b[0m\u001b[0;34m.\u001b[0m\u001b[0mn1\u001b[0m \u001b[0;34m=\u001b[0m \u001b[0mother\u001b[0m\u001b[0;34m.\u001b[0m\u001b[0mn1\u001b[0m\u001b[0;34m\u001b[0m\u001b[0;34m\u001b[0m\u001b[0m\n\u001b[0m\u001b[1;32m      5\u001b[0m         \u001b[0mself\u001b[0m\u001b[0;34m.\u001b[0m\u001b[0mn1\u001b[0m \u001b[0;34m=\u001b[0m \u001b[0mother\u001b[0m\u001b[0;34m.\u001b[0m\u001b[0mn2\u001b[0m\u001b[0;34m\u001b[0m\u001b[0;34m\u001b[0m\u001b[0m\n\u001b[1;32m      6\u001b[0m         \u001b[0mself\u001b[0m\u001b[0;34m.\u001b[0m\u001b[0mn1\u001b[0m \u001b[0;34m=\u001b[0m \u001b[0mother\u001b[0m\u001b[0;34m.\u001b[0m\u001b[0mn3\u001b[0m\u001b[0;34m\u001b[0m\u001b[0;34m\u001b[0m\u001b[0m\n",
      "\u001b[0;31mNameError\u001b[0m: name 'other' is not defined"
     ]
    }
   ],
   "source": [
    "# My code here\n",
    "class Matrix:\n",
    "    def __init__(self, n1, n2, n3, n4):\n",
    "        self.n1 = other.n1\n",
    "        self.n1 = other.n2\n",
    "        self.n1 = other.n3\n",
    "        self.n1 = other.n4\n",
    "        \n",
    "    #def __eq__(self, other):\n",
    "    #    return self.n1 == other.n1 and self.n2 == other.n2 and self.n3 == other.n3 and self.n4 == other.n4\n",
    "\n",
    "m1 = Matrix(1,2,3,4)\n",
    "m2 = Matrix(1,2,3,5)\n",
    "m3 = Matrix(1,2,3,4)\n",
    "\n",
    "print(m1 == m2) # false\n",
    "print(m1 == m3) # true"
   ]
  },
  {
   "cell_type": "code",
   "execution_count": 18,
   "metadata": {},
   "outputs": [
    {
     "name": "stdout",
     "output_type": "stream",
     "text": [
      "False\n",
      "True\n"
     ]
    }
   ],
   "source": [
    "# Answer\n",
    "\n",
    "class Matrix:\n",
    "    def __init__(self, a, b, c, d):\n",
    "        self.nums = [a, b, c, d]\n",
    "        \n",
    "    def __eq__(self, other):\n",
    "        return self.nums == other.nums\n",
    "    \n",
    "m1 = Matrix(1,2,3,4)\n",
    "m2 = Matrix(1,2,3,5)\n",
    "m3 = Matrix(1,2,3,4)\n",
    "\n",
    "print(m1 == m2) # false\n",
    "print(m1 == m3) # true"
   ]
  },
  {
   "cell_type": "code",
   "execution_count": 19,
   "metadata": {},
   "outputs": [
    {
     "name": "stdout",
     "output_type": "stream",
     "text": [
      "False\n",
      "True\n"
     ]
    }
   ],
   "source": [
    "# Other efficient way to compare matrices\n",
    "class Matrix:\n",
    "    def __init__(self, a, b, c, d):\n",
    "        self.nums = [a, b, c, d]\n",
    "        \n",
    "    def __eq__(self, other):\n",
    "        for i in range(len(self.nums)):\n",
    "            if self.nums[i] != other.nums[i]:\n",
    "                return False\n",
    "        return True\n",
    "    \n",
    "m1 = Matrix(1,2,3,4)\n",
    "m2 = Matrix(1,2,3,5)\n",
    "m3 = Matrix(1,2,3,4)\n",
    "\n",
    "print(m1 == m2) # false\n",
    "print(m1 == m3) # true"
   ]
  },
  {
   "cell_type": "code",
   "execution_count": 20,
   "metadata": {},
   "outputs": [],
   "source": [
    "# Sum two matrices\n",
    "class Matrix:\n",
    "    def __init__(self, a, b, c, d):\n",
    "        self.nums = [a, b, c, d]\n",
    "        \n",
    "    def __eq__(self, other):\n",
    "        for i in range(len(self.nums)):\n",
    "            if self.nums[i] != other.nums[i]:\n",
    "                return False\n",
    "        return True\n",
    "    \n",
    "    def __repr__(self):\n",
    "        rpinfo = \"\"\"\n",
    "--    --\n",
    "| {a}, {b} |\n",
    "| {c}, {d} |\n",
    "--    --\"\"\".format(a = self.nums[0], b = self.nums[1], c = self.nums[2], d = self.nums[3])\n",
    "        return rpinfo\n",
    "    \n",
    "    def __add__(self, other):\n",
    "        res = []\n",
    "        for i in range(len(self.nums)):\n",
    "            res.append(self.nums[i] + other.nums[i])\n",
    "        return Matrix(res[0], res[1], res[2], res[3])\n",
    "            \n",
    "    def det(self):\n",
    "        return self.nums[0]*self.nums[3] - self.nums[1]*self.nums[2]\n",
    "\n",
    "    # ON MIDTERM\n",
    "    def __mul__(s, o):\n",
    "        a = s.nums[0]*o.nums[0] + s.nums[2]*o.nums[1]\n",
    "        b = s.nums[1]*o.nums[0] + s.nums[3]*o.nums[1]\n",
    "        c = s.nums[0]*o.nums[2] + s.nums[2]*o.nums[3]\n",
    "        d = s.nums[1]*o.nums[2] + s.nums[3]*o.nums[3]\n",
    "        return Matrix(a,b,c,d)\n",
    "    \n",
    "m1 = Matrix(1,2,3,4)\n",
    "m2 = Matrix(1,2,3,5)\n",
    "m3 = Matrix(1,2,3,4)"
   ]
  },
  {
   "cell_type": "code",
   "execution_count": 21,
   "metadata": {},
   "outputs": [
    {
     "data": {
      "text/plain": [
       "\n",
       "--    --\n",
       "| 2, 4 |\n",
       "| 6, 9 |\n",
       "--    --"
      ]
     },
     "execution_count": 21,
     "metadata": {},
     "output_type": "execute_result"
    }
   ],
   "source": [
    "m1 + m2"
   ]
  },
  {
   "cell_type": "code",
   "execution_count": 22,
   "metadata": {},
   "outputs": [
    {
     "data": {
      "text/plain": [
       "-2"
      ]
     },
     "execution_count": 22,
     "metadata": {},
     "output_type": "execute_result"
    }
   ],
   "source": [
    "m1.det()"
   ]
  },
  {
   "cell_type": "code",
   "execution_count": 23,
   "metadata": {},
   "outputs": [
    {
     "data": {
      "text/plain": [
       "\n",
       "--    --\n",
       "| 7, 10 |\n",
       "| 18, 26 |\n",
       "--    --"
      ]
     },
     "execution_count": 23,
     "metadata": {},
     "output_type": "execute_result"
    }
   ],
   "source": [
    "m1 * m2"
   ]
  },
  {
   "cell_type": "markdown",
   "metadata": {},
   "source": [
    "**Great job!!!**"
   ]
  }
 ],
 "metadata": {
  "kernelspec": {
   "display_name": "Python 3",
   "language": "python",
   "name": "python3"
  },
  "language_info": {
   "codemirror_mode": {
    "name": "ipython",
    "version": 3
   },
   "file_extension": ".py",
   "mimetype": "text/x-python",
   "name": "python",
   "nbconvert_exporter": "python",
   "pygments_lexer": "ipython3",
   "version": "3.8.3"
  }
 },
 "nbformat": 4,
 "nbformat_minor": 4
}
