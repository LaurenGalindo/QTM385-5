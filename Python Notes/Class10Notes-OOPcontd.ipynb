{
 "cells": [
  {
   "cell_type": "markdown",
   "metadata": {},
   "source": [
    "# QTM 385\n",
    "\n",
    "> Classes and OOP"
   ]
  },
  {
   "cell_type": "markdown",
   "metadata": {},
   "source": [
    "# Object Oriented Programming (cont'd)\n",
    "\n",
    "So far, we learned:\n",
    "\n",
    "1. How to build classes\n",
    "2. How to change attributes and modules\n",
    "3. How to add constructors to our classes\n",
    "\n",
    "This class we are going to study why classes are important and useful.\n",
    "\n",
    "Let us start with this class here:\n",
    "\n",
    "```\n",
    "# My code here\n",
    "class Student:\n",
    "    # My constructor for the student class\n",
    "    def __init__(self, nam, num, gr, lg):\n",
    "        self.name = nam\n",
    "        self.number = num\n",
    "        self.grades = gr\n",
    "        self.login = lg\n",
    "```\n",
    "\n",
    "Today we are going to study and inheritance and polymorphisms."
   ]
  },
  {
   "cell_type": "markdown",
   "metadata": {},
   "source": [
    "## Getting started\n",
    "\n",
    "Create the class `Student`, and add the following:\n",
    "\n",
    "- Function to compute the average of the grades (without using numpy or pandas! use for!)"
   ]
  },
  {
   "cell_type": "code",
   "execution_count": 1,
   "metadata": {},
   "outputs": [],
   "source": [
    "# Creating Student class\n",
    "class Student:\n",
    "    \n",
    "    # My constructor for the student class\n",
    "    def __init__(self, nam, num, gr, lg):\n",
    "        self.name = nam\n",
    "        self.number = num\n",
    "        self.grades = gr\n",
    "        self.login = lg\n",
    "\n",
    "    # Creating function to compute average of grades in self\n",
    "    def avg_grades(self):\n",
    "        avg = 0\n",
    "        for i in self.grades:\n",
    "            avg += i\n",
    "        avg = avg/len(self.grades)\n",
    "        return avg"
   ]
  },
  {
   "cell_type": "code",
   "execution_count": 2,
   "metadata": {},
   "outputs": [
    {
     "name": "stdout",
     "output_type": "stream",
     "text": [
      "6.0\n"
     ]
    }
   ],
   "source": [
    "stu = Student('Ann', 1234, [8, 7, 3], 'annlee')\n",
    "print(stu.avg_grades())"
   ]
  },
  {
   "cell_type": "markdown",
   "metadata": {},
   "source": [
    "## Class-Level Data\n",
    "\n",
    "Suppose that all students now have an email `@emory.edu`, and their emails is: their login + `@emory.edu`. We can add the `@emory.edu` to the class, as a class-level data."
   ]
  },
  {
   "cell_type": "code",
   "execution_count": 3,
   "metadata": {},
   "outputs": [],
   "source": [
    "# My code here\n",
    "# Creating Student class\n",
    "class Student:\n",
    "\n",
    "    EMAIL = '@emory.edu'# A constant that belongs to the class\n",
    "                        # We differentiated it by using all upper class letters\n",
    "    \n",
    "    # My constructor for the student class\n",
    "    def __init__(self, nam, num, gr, lg):\n",
    "        self.name = nam\n",
    "        self.number = num\n",
    "        self.grades = gr\n",
    "        self.login = lg\n",
    "\n",
    "    # Creating function to compute average of grades in self\n",
    "    def avg_grades(self):\n",
    "        avg = 0\n",
    "        for i in self.grades:\n",
    "            avg += i\n",
    "        avg = avg/len(self.grades)\n",
    "        return avg\n",
    "    \n",
    "    def email(self):\n",
    "        return self.login + self.EMAIL"
   ]
  },
  {
   "cell_type": "code",
   "execution_count": 4,
   "metadata": {},
   "outputs": [
    {
     "name": "stdout",
     "output_type": "stream",
     "text": [
      "annlee@emory.edu\n"
     ]
    }
   ],
   "source": [
    "# Recall our student\n",
    "stu = Student('Ann', 1234, [8, 7, 3], 'annlee')\n",
    "\n",
    "print(stu.email())"
   ]
  },
  {
   "cell_type": "markdown",
   "metadata": {},
   "source": [
    "What if you want to change the constant in avg_grades?\n",
    "* You can do this but it isn't that convenient:\n",
    "    * The change to one student wouldn't apply to all students :(\n",
    "    * Now our changes aren't uniform\n",
    "    \n",
    "When you create a class, you are making a box. Creating your students and applying changes to individual students, does not change the original Class \n",
    "* Classes carry information themselves!\n",
    "    * They save memory becasue now you aren't creating individual functions for emails for each person"
   ]
  },
  {
   "cell_type": "code",
   "execution_count": 5,
   "metadata": {},
   "outputs": [
    {
     "name": "stdout",
     "output_type": "stream",
     "text": [
      "annlee@gmail.com\n",
      "marklee@emory.edu\n",
      "marklee@gmail.com\n"
     ]
    }
   ],
   "source": [
    "# Only changing the student\n",
    "stu.EMAIL = '@gmail.com'\n",
    "print(stu.email())\n",
    "\n",
    "stu2 = Student('Mark', 4321, [4, 5, 4], 'marklee')\n",
    "print(stu2.email())\n",
    "\n",
    "# Changing the class\n",
    "Student.EMAIL = '@gmail.com'\n",
    "print(stu2.email())"
   ]
  },
  {
   "cell_type": "markdown",
   "metadata": {},
   "source": [
    "**Exercise**: Suppose you have the following class:\n",
    "\n",
    "```\n",
    "class Voter:\n",
    "    def __init__(self, name, age):\n",
    "        self.name = name\n",
    "        self.age = age\n",
    "```\n",
    "\n",
    "The voter cannot be younger than 17 years old. Create a minimum age class level data, that changes any younger age set by the user to 17."
   ]
  },
  {
   "cell_type": "code",
   "execution_count": 6,
   "metadata": {},
   "outputs": [],
   "source": [
    "## Your answers here!\n",
    "\n",
    "class Voter:\n",
    "    \n",
    "    MIN_AGE = 17\n",
    "    \n",
    "    # Constructor\n",
    "    def __init__(self, name, age):  \n",
    "            self.name = name\n",
    "            if age < self.MIN_AGE:\n",
    "                self.age = self.MIN_AGE\n",
    "                print('ERROR! Too young to vote!\\n')\n",
    "            else:\n",
    "                self.age = age\n",
    "                \n",
    "    # Print age\n",
    "    def print_age(self):\n",
    "        print('The voter ' + self.name + ' is ' + str(self.age) + ' years old.')"
   ]
  },
  {
   "cell_type": "code",
   "execution_count": 7,
   "metadata": {},
   "outputs": [
    {
     "name": "stdout",
     "output_type": "stream",
     "text": [
      "The voter John is 30 years old.\n",
      "ERROR! Too young to vote!\n",
      "\n",
      "The voter Mary is 17 years old.\n"
     ]
    }
   ],
   "source": [
    "# Someone old enough\n",
    "vt = Voter('John', 30)\n",
    "vt.print_age()\n",
    "\n",
    "# Someone NOT old enough to vote\n",
    "vt2 = Voter('Mary', 15)\n",
    "vt2.print_age()"
   ]
  },
  {
   "cell_type": "markdown",
   "metadata": {},
   "source": [
    "## Inheritance\n",
    "\n",
    "Inheritance are situations when we build one class on the top of another. The idea is that the new class inherits the old class functionality, adding some extra functions.\n",
    "\n",
    "For instance, consider our student class:\n",
    "\n",
    "```\n",
    "# My code here\n",
    "class Student:\n",
    "    # My constructor for the student class\n",
    "    def __init__(self, nam, num, gr, lg):\n",
    "        self.name = nam\n",
    "        self.number = num\n",
    "        self.grades = gr\n",
    "        self.login = lg\n",
    "    def average_grade(self):\n",
    "        pass\n",
    "```\n",
    "\n",
    "Suppose that we want to add a GradStudent class on the top of it. The GradStudent class has other functionalities, such as the name of the advisor, and the field that the person is studying.\n",
    "\n",
    "Ideally, this class should have all atributes that the Student class, plus two:\n",
    "\n",
    "- Field\n",
    "- Advisor\n",
    "\n",
    "Let's try it?"
   ]
  },
  {
   "cell_type": "code",
   "execution_count": 8,
   "metadata": {},
   "outputs": [],
   "source": [
    "# Creating Parent class\n",
    "class Student:\n",
    "    EMAIL = '@emory.edu'\n",
    "    \n",
    "    # My constructor for the student class\n",
    "    def __init__(self, nam, num, gr, lg):\n",
    "        self.name = nam\n",
    "        self.number = num\n",
    "        self.grades = gr\n",
    "        self.login = lg\n",
    "\n",
    "    # Creating function to compute average of grades in self\n",
    "    def avg_grades(self):\n",
    "        avg = 0\n",
    "        for i in self.grades:\n",
    "            avg += i\n",
    "        avg = avg/len(self.grades)\n",
    "        return avg\n",
    "    \n",
    "    def email(self):\n",
    "        return self.login + self.EMAIL"
   ]
  },
  {
   "cell_type": "code",
   "execution_count": 9,
   "metadata": {},
   "outputs": [],
   "source": [
    "# Creating Child class\n",
    "\n",
    "# Inheritance -- When you create the new class, the methods from the old class carry over\n",
    "# Rewrite the methods if you want to create a class from scratch\n",
    "\n",
    "class GradStudent(Student):\n",
    "    pass"
   ]
  },
  {
   "cell_type": "markdown",
   "metadata": {},
   "source": [
    "The new class (the Child) has all the attributes of the late class (the Parent).\n",
    "\n",
    "For instance:"
   ]
  },
  {
   "cell_type": "code",
   "execution_count": 10,
   "metadata": {},
   "outputs": [
    {
     "name": "stdout",
     "output_type": "stream",
     "text": [
      "9.666666666666666\n"
     ]
    }
   ],
   "source": [
    "# My code here\n",
    "stu = GradStudent('Matt', 8123, [10, 10, 9], 'mattbrown')\n",
    "stu2 = Student('Rose', 12345, [10,10,10], 'rosej')\n",
    "\n",
    "# Has all the same functionalities as Student\n",
    "print(stu.avg_grades())"
   ]
  },
  {
   "cell_type": "markdown",
   "metadata": {},
   "source": [
    "And the GradStudent is a Student. However, the Student **is not** a GradStudent:"
   ]
  },
  {
   "cell_type": "markdown",
   "metadata": {},
   "source": [
    "* `isinstance` determines whether the student is of a certain class"
   ]
  },
  {
   "cell_type": "code",
   "execution_count": 11,
   "metadata": {},
   "outputs": [
    {
     "data": {
      "text/plain": [
       "False"
      ]
     },
     "execution_count": 11,
     "metadata": {},
     "output_type": "execute_result"
    }
   ],
   "source": [
    "# Is this Student from the Parent class?\n",
    "isinstance(stu, Student)\n",
    "\n",
    "# Is this Student from the GradStudent class?\n",
    "isinstance(stu, GradStudent)\n",
    "\n",
    "# Is this Student a GradStudent?\n",
    "isinstance(stu2, GradStudent)"
   ]
  },
  {
   "cell_type": "markdown",
   "metadata": {},
   "source": [
    "**Exercise**: Create a SpecialVoter class, based on the Voter class."
   ]
  },
  {
   "cell_type": "code",
   "execution_count": 12,
   "metadata": {},
   "outputs": [],
   "source": [
    "## Your answers here!\n",
    "class SpecialVoter(Voter):\n",
    "    pass"
   ]
  },
  {
   "cell_type": "markdown",
   "metadata": {},
   "source": [
    "### Customizing constructors\n",
    "\n",
    "The new class may have a different contructor, because it has more parameters.\n",
    "\n",
    "For instance, my GradStudent class needs the name of the advisor, and the field of study.\n",
    "\n",
    "Let's see how we add these to the child class:"
   ]
  },
  {
   "cell_type": "code",
   "execution_count": 13,
   "metadata": {
    "scrolled": true
   },
   "outputs": [],
   "source": [
    "# My code here\n",
    "class GradStudent(Student):\n",
    "    def __init__(self, nam, num, gr, lg, dt, field):\n",
    "        Student.__init__(self, nam, num, gr, lg)\n",
    "        self.debt = dt\n",
    "        self.field = field"
   ]
  },
  {
   "cell_type": "code",
   "execution_count": 14,
   "metadata": {},
   "outputs": [
    {
     "name": "stdout",
     "output_type": "stream",
     "text": [
      "Evolutionary Biology\n",
      "9.666666666666666\n"
     ]
    }
   ],
   "source": [
    "stu = GradStudent('Matt', 8123, [10, 10, 9], 'mattbrown', 40000, 'Evolutionary Biology')\n",
    "\n",
    "print(stu.field)\n",
    "print(stu.avg_grades())"
   ]
  },
  {
   "cell_type": "markdown",
   "metadata": {},
   "source": [
    "We can also edit the methods of the original class. And this is an example of polymorphism!"
   ]
  },
  {
   "cell_type": "code",
   "execution_count": 22,
   "metadata": {},
   "outputs": [],
   "source": [
    "class GradStudent(Student):\n",
    "    def __init__(self, nam, num, gr, lg, dt, field):\n",
    "        Student.__init__(self, nam, num, gr, lg)\n",
    "        self.debt = dt\n",
    "        self.field = field\n",
    "        \n",
    "    def avg_grades(self):\n",
    "        avg = Student.avg_grades(self)\n",
    "        avg = (avg * 4) / 10\n",
    "        return avg"
   ]
  },
  {
   "cell_type": "code",
   "execution_count": 23,
   "metadata": {},
   "outputs": [
    {
     "name": "stdout",
     "output_type": "stream",
     "text": [
      "3.8666666666666663\n"
     ]
    }
   ],
   "source": [
    "stu = GradStudent('Matt', 8123, [10, 10, 9], 'mattbrown', 40000, 'Evolutionary Biology')\n",
    "print(stu.avg_grades())"
   ]
  },
  {
   "cell_type": "markdown",
   "metadata": {},
   "source": [
    "## Operator Comparison\n",
    "\n",
    "If you have two objects with the same data, they are probably not equal to each other! That's is weird, but it is easy to fix."
   ]
  },
  {
   "cell_type": "code",
   "execution_count": 17,
   "metadata": {},
   "outputs": [],
   "source": [
    "# My code here"
   ]
  },
  {
   "cell_type": "markdown",
   "metadata": {},
   "source": [
    "We can define each of these classes here:\n",
    "\n",
    "| Operator | Method   |\n",
    "|----------|----------|\n",
    "| `==`     | `__eq__` |\n",
    "| `!=`     | `__ne__` |\n",
    "| `>=`     | `__ge__` |\n",
    "| `<=`     | `__le__` |\n",
    "| `>`      | `__gt__` |\n",
    "| `<`      | `__lt__` |"
   ]
  },
  {
   "cell_type": "markdown",
   "metadata": {},
   "source": [
    "**Exercise**: For the Voter class, create one equality and one inequality operator."
   ]
  },
  {
   "cell_type": "code",
   "execution_count": 18,
   "metadata": {},
   "outputs": [],
   "source": [
    "## Your answers here!"
   ]
  },
  {
   "cell_type": "markdown",
   "metadata": {},
   "source": [
    "## String Representation"
   ]
  },
  {
   "cell_type": "markdown",
   "metadata": {},
   "source": [
    "We can also add the methods for representation and printing:"
   ]
  },
  {
   "cell_type": "code",
   "execution_count": 19,
   "metadata": {},
   "outputs": [],
   "source": [
    "# My code here"
   ]
  },
  {
   "cell_type": "markdown",
   "metadata": {},
   "source": [
    "We can also add the representation:"
   ]
  },
  {
   "cell_type": "code",
   "execution_count": 20,
   "metadata": {},
   "outputs": [],
   "source": [
    "# My code here"
   ]
  },
  {
   "cell_type": "markdown",
   "metadata": {},
   "source": [
    "**Exercise**: For the Voter class, add str and a repr."
   ]
  },
  {
   "cell_type": "code",
   "execution_count": 21,
   "metadata": {},
   "outputs": [],
   "source": [
    "## Your answers here!"
   ]
  },
  {
   "cell_type": "markdown",
   "metadata": {},
   "source": [
    "**Great job!!!**"
   ]
  }
 ],
 "metadata": {
  "kernelspec": {
   "display_name": "Python 3",
   "language": "python",
   "name": "python3"
  },
  "language_info": {
   "codemirror_mode": {
    "name": "ipython",
    "version": 3
   },
   "file_extension": ".py",
   "mimetype": "text/x-python",
   "name": "python",
   "nbconvert_exporter": "python",
   "pygments_lexer": "ipython3",
   "version": "3.8.3"
  }
 },
 "nbformat": 4,
 "nbformat_minor": 4
}
