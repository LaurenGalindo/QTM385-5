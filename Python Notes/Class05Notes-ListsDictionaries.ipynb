{
 "cells": [
  {
   "cell_type": "markdown",
   "metadata": {},
   "source": [
    "# QTM 385\n",
    "\n",
    "> Data Types continued: Dictionaries and others"
   ]
  },
  {
   "cell_type": "markdown",
   "metadata": {},
   "source": [
    "## Lists"
   ]
  },
  {
   "cell_type": "code",
   "execution_count": 2,
   "metadata": {},
   "outputs": [
    {
     "name": "stdout",
     "output_type": "stream",
     "text": [
      "[1, 2, 3]\n"
     ]
    }
   ],
   "source": [
    "# My code here\n",
    "L = [1,2,3]\n",
    "print(L)"
   ]
  },
  {
   "cell_type": "code",
   "execution_count": 8,
   "metadata": {},
   "outputs": [
    {
     "name": "stdout",
     "output_type": "stream",
     "text": [
      "3\n",
      "1\n",
      "2\n",
      "3\n"
     ]
    }
   ],
   "source": [
    "print(len(L)) # Length of the list\n",
    "print(L[0])\n",
    "print(L[-2])\n",
    "print(L[-1])"
   ]
  },
  {
   "cell_type": "markdown",
   "metadata": {},
   "source": [
    "**Exercise**: Create a list with the following elements:\n",
    "\n",
    "- 'I want'\n",
    "- 3\n",
    "- 'cups of coffee'\n",
    "- 'now!'\n",
    "\n",
    "Now:\n",
    "\n",
    "1. Find the length of this list\n",
    "2. Use the first and last element to create: 'I want coffee now!'"
   ]
  },
  {
   "cell_type": "code",
   "execution_count": 8,
   "metadata": {},
   "outputs": [
    {
     "name": "stdout",
     "output_type": "stream",
     "text": [
      "4\n",
      "I want cups of coffee now!\n"
     ]
    }
   ],
   "source": [
    "## Your answers here!\n",
    "List = ['I want', 3, 'cups of coffee', 'now!']\n",
    "print(len(List))\n",
    "print(List[0]+' '+List[-2]+' '+List[-1])"
   ]
  },
  {
   "cell_type": "markdown",
   "metadata": {},
   "source": [
    "### Methods and slicing\n",
    "The plus sign for lists \"glues\" different value types together (Polymorphism only works if the two objects are of the same type. \n",
    "\n",
    "(Ex: List + List, String + String)"
   ]
  },
  {
   "cell_type": "code",
   "execution_count": 16,
   "metadata": {},
   "outputs": [
    {
     "name": "stdout",
     "output_type": "stream",
     "text": [
      "[1, 2, 3, '3', '2', '1']\n",
      "[1, 2, 3, 1, 2, 3, 1, 2, 3]\n",
      "['Emory', 'Emory', 'Emory']\n"
     ]
    }
   ],
   "source": [
    "# My code here\n",
    "print([1,2,3] + ['3','2','1'])\n",
    "\n",
    "print([1,2,3]*3)\n",
    "print(['Emory']*3)"
   ]
  },
  {
   "cell_type": "code",
   "execution_count": 23,
   "metadata": {},
   "outputs": [
    {
     "name": "stdout",
     "output_type": "stream",
     "text": [
      "[1, 2]\n",
      "[1, 2]34\n",
      "[1, 2, '3', '4']\n",
      "['t', 'h', 'i', 's', '_', 'i', 's', '_', 'a', '_', 't', 'e', 'x', 't']\n"
     ]
    }
   ],
   "source": [
    "print(str([1,2])) #Makes the objects in the list as a string.\n",
    "print(str([1,2]) + '34')\n",
    "print([1,2] + list('34')) #Text doesn't turn into a number even if it is one.\n",
    "print(list('this_is_a_text')) #You can seperate each element in the entry"
   ]
  },
  {
   "cell_type": "markdown",
   "metadata": {},
   "source": [
    "### Special Methods\n",
    "**in** is equivalent to asking membership"
   ]
  },
  {
   "cell_type": "code",
   "execution_count": 44,
   "metadata": {},
   "outputs": [
    {
     "name": "stdout",
     "output_type": "stream",
     "text": [
      "1  2  3  1\t2\t3\thouse\n"
     ]
    }
   ],
   "source": [
    "# My code here\n",
    "L = [1,2,3]\n",
    "3 in L        # in is equivalent to asking about membership\n",
    "'3' in L\n",
    "\n",
    "# List iterations\n",
    "for x in L:\n",
    "    print(x, end='  ')\n",
    "    \n",
    "for x in L:\n",
    "    print(x, end='\\t')\n",
    "\n",
    "print('house')"
   ]
  },
  {
   "cell_type": "code",
   "execution_count": 49,
   "metadata": {},
   "outputs": [
    {
     "name": "stdout",
     "output_type": "stream",
     "text": [
      "[1, 2, 3]\n",
      "[1, 2, 3, 'four']\n",
      "[1, 2, 3]\n"
     ]
    }
   ],
   "source": [
    "L=[1,2,3]\n",
    "print(L)\n",
    "L.append('four')\n",
    "print(L)\n",
    "\n",
    "L.pop() #Gets rid of the text element (Comes from linked list feature)\n",
    "print(L)"
   ]
  },
  {
   "cell_type": "markdown",
   "metadata": {},
   "source": [
    "### Sort and reverse\n",
    "`.sort` sorts in Lexographic order (Starts with capital A and ends with lowercase z)\n",
    "`.reverse` reverses the order of your list."
   ]
  },
  {
   "cell_type": "code",
   "execution_count": 54,
   "metadata": {},
   "outputs": [
    {
     "name": "stdout",
     "output_type": "stream",
     "text": [
      "['House', 'QTM', 'ad', 'cc', 'ml']\n",
      "['ml', 'cc', 'ad', 'QTM', 'House']\n"
     ]
    }
   ],
   "source": [
    "# My code here\n",
    "L = ['ad', 'cc', 'ml', 'QTM','House']\n",
    "L.sort()\n",
    "print(L)\n",
    "L.reverse()\n",
    "print(L)"
   ]
  },
  {
   "cell_type": "markdown",
   "metadata": {},
   "source": [
    "**Exercise**: Create a list with the following elements:\n",
    "\n",
    "- 'QTM'\n",
    "- 385\n",
    "\n",
    "Now sort them."
   ]
  },
  {
   "cell_type": "code",
   "execution_count": 57,
   "metadata": {},
   "outputs": [
    {
     "name": "stdout",
     "output_type": "stream",
     "text": [
      "['385', 'QTM']\n"
     ]
    }
   ],
   "source": [
    "## Your answers here!\n",
    "L = ['QTM', '385']\n",
    "L.sort()\n",
    "print(L)"
   ]
  },
  {
   "cell_type": "markdown",
   "metadata": {},
   "source": [
    "### Out of boundaries\n",
    "What if you try to find the text out of the boundaries of a list?"
   ]
  },
  {
   "cell_type": "code",
   "execution_count": 59,
   "metadata": {},
   "outputs": [
    {
     "ename": "IndexError",
     "evalue": "list index out of range",
     "output_type": "error",
     "traceback": [
      "\u001b[0;31m---------------------------------------------------------------------------\u001b[0m",
      "\u001b[0;31mIndexError\u001b[0m                                Traceback (most recent call last)",
      "\u001b[0;32m<ipython-input-59-6eec650e8ecf>\u001b[0m in \u001b[0;36m<module>\u001b[0;34m\u001b[0m\n\u001b[1;32m      1\u001b[0m \u001b[0;31m# My code here\u001b[0m\u001b[0;34m\u001b[0m\u001b[0;34m\u001b[0m\u001b[0;34m\u001b[0m\u001b[0m\n\u001b[0;32m----> 2\u001b[0;31m \u001b[0mL\u001b[0m\u001b[0;34m[\u001b[0m\u001b[0;36m22\u001b[0m\u001b[0;34m]\u001b[0m\u001b[0;34m\u001b[0m\u001b[0;34m\u001b[0m\u001b[0m\n\u001b[0m",
      "\u001b[0;31mIndexError\u001b[0m: list index out of range"
     ]
    }
   ],
   "source": [
    "# My code here\n",
    "L[22]"
   ]
  },
  {
   "cell_type": "markdown",
   "metadata": {},
   "source": [
    "If your list doesn't support a specified range, you will get an error."
   ]
  },
  {
   "cell_type": "markdown",
   "metadata": {},
   "source": [
    "### Nesting\n",
    "You are putting one list inside of the other.\n",
    "\n",
    "Use [ ][ ] to find elements inside of the nested list."
   ]
  },
  {
   "cell_type": "code",
   "execution_count": 65,
   "metadata": {},
   "outputs": [
    {
     "name": "stdout",
     "output_type": "stream",
     "text": [
      "[[1, 2, 3], [4, 5, 6], [7, 8, 9]]\n",
      "5\n"
     ]
    }
   ],
   "source": [
    "# My code here\n",
    "L = [[1,2,3], [4,5,6], [7,8,9]]\n",
    "print(L)\n",
    "\n",
    "print(L[1][1])"
   ]
  },
  {
   "cell_type": "code",
   "execution_count": 73,
   "metadata": {},
   "outputs": [
    {
     "name": "stdout",
     "output_type": "stream",
     "text": [
      "[1, 4, 7]\n",
      "[2, 5, 8]\n",
      "[3, 6, 9]\n"
     ]
    }
   ],
   "source": [
    "#List a row by calling a loop for each element in that row\n",
    "print([row[0] for row in L])\n",
    "print([row[1] for row in L])\n",
    "print([row[2] for row in L])"
   ]
  },
  {
   "cell_type": "code",
   "execution_count": 80,
   "metadata": {},
   "outputs": [
    {
     "name": "stdout",
     "output_type": "stream",
     "text": [
      "1\n",
      "5\n",
      "9\n"
     ]
    }
   ],
   "source": [
    "[L[i][i] for i in [0,1,2]]\n",
    "\n",
    "for i in [0,1,2]:\n",
    "    print(L[i][i])\n",
    "    \n",
    "# Find out how to do this in a diagonal!"
   ]
  },
  {
   "cell_type": "markdown",
   "metadata": {},
   "source": [
    "**Exercise**: Create a list with the following elements:\n",
    "\n",
    "- ['QTM', '385']\n",
    "- ['Professor','Umberto']\n",
    "- ['Student', YOUR FIRST NAME, YOUR LAST NAME]"
   ]
  },
  {
   "cell_type": "code",
   "execution_count": 91,
   "metadata": {},
   "outputs": [
    {
     "name": "stdout",
     "output_type": "stream",
     "text": [
      "['QTM', 'Umberto', 'Galindo']\n",
      "QTM\n",
      "Umberto\n",
      "Galindo\n"
     ]
    }
   ],
   "source": [
    "## Your answers here!\n",
    "L = [['QTM', '385'], ['Professor','Umberto'], ['Student', 'Lauren', 'Galindo']]\n",
    "\n",
    "#Solution 1\n",
    "print([L[i][i] for i in [0,1,2]])\n",
    "\n",
    "#Solution 2\n",
    "for i in [0,1,2]:\n",
    "    print(L[i][i])"
   ]
  },
  {
   "cell_type": "markdown",
   "metadata": {},
   "source": [
    "## Dictionaries"
   ]
  },
  {
   "cell_type": "markdown",
   "metadata": {},
   "source": [
    "Like lists, but instead of elements being indexed as 1,2,3,..., they are indexed by a predetermined key."
   ]
  },
  {
   "cell_type": "code",
   "execution_count": 101,
   "metadata": {},
   "outputs": [
    {
     "name": "stdout",
     "output_type": "stream",
     "text": [
      "{'food': 'Salad', 'quantity': 3, 'color': 'green'}\n",
      "Salad\n",
      "{'food': 'Salad', 'quantity': 4, 'color': 'green'}\n"
     ]
    }
   ],
   "source": [
    "# My code here\n",
    "D = {'food': 'Salad', \n",
    "     'quantity': 3, \n",
    "     'color': 'green'}\n",
    "print(D)\n",
    "\n",
    "print(D['food'])\n",
    "\n",
    "#D['quantity'] = D['quantity'] + 1\n",
    "D['quantity']+=1\n",
    "print(D)"
   ]
  },
  {
   "cell_type": "markdown",
   "metadata": {},
   "source": [
    "**Exercise**: Suppose that you want to have a dictionary with first names and frequency of people. Create a simple dictionary to represent this situation. It has to:\n",
    "\n",
    "1. Have at least three names\n",
    "2. One first name has to have more than one person."
   ]
  },
  {
   "cell_type": "code",
   "execution_count": 107,
   "metadata": {},
   "outputs": [
    {
     "data": {
      "text/plain": [
       "{'Samuel': 4, 'Lauren': 1, 'Beatriz': 3}"
      ]
     },
     "execution_count": 107,
     "metadata": {},
     "output_type": "execute_result"
    }
   ],
   "source": [
    "## Your answers here!\n",
    "# Method 1\n",
    "D = {'Samuel':4, 'Lauren':1, 'Beatriz':3}\n",
    "\n",
    "# Method 2\n",
    "D = {}\n",
    "D['Samuel']=4\n",
    "D['Lauren']=1\n",
    "D['Beatriz']=3\n",
    "D"
   ]
  },
  {
   "cell_type": "markdown",
   "metadata": {},
   "source": [
    "### Indexing and changing"
   ]
  },
  {
   "cell_type": "code",
   "execution_count": 108,
   "metadata": {},
   "outputs": [
    {
     "name": "stdout",
     "output_type": "stream",
     "text": [
      "{'Samuel': 2, 'Lauren': 1, 'Beatriz': 3}\n"
     ]
    }
   ],
   "source": [
    "# My code here\n",
    "D['Samuel']=2\n",
    "print(D)"
   ]
  },
  {
   "cell_type": "markdown",
   "metadata": {},
   "source": [
    "**Exercise**: Using the previous list:\n",
    "\n",
    "1. Choose a name and find how many people with the name.\n",
    "2. Choose one name and add three more people to it."
   ]
  },
  {
   "cell_type": "code",
   "execution_count": 112,
   "metadata": {},
   "outputs": [
    {
     "name": "stdout",
     "output_type": "stream",
     "text": [
      "{'Samuel': 2, 'Lauren': 1, 'Beatriz': 3, 'Angela': 103}\n"
     ]
    }
   ],
   "source": [
    "D['Angela']=100\n",
    "\n",
    "D['Angela']+=3\n",
    "\n",
    "print(D)"
   ]
  },
  {
   "cell_type": "markdown",
   "metadata": {},
   "source": [
    "### Creating dictionaries: three ways"
   ]
  },
  {
   "cell_type": "code",
   "execution_count": 117,
   "metadata": {},
   "outputs": [
    {
     "name": "stdout",
     "output_type": "stream",
     "text": [
      "{'food': 'Salad', 'quantity': 3, 'color': 'green'}\n",
      "{'food': 'Salad', 'quantity': 3, 'color': 'green'}\n",
      "{'food': 'Salad', 'quantity': 3, 'color': 'green'}\n"
     ]
    }
   ],
   "source": [
    "# My code here\n",
    "# Method 1\n",
    "D = {'food': 'Salad', 'quantity': 3, 'color': 'green'}\n",
    "\n",
    "# Method 2\n",
    "D2 = {}\n",
    "D2['food']='Salad'\n",
    "D2['quantity'] = 3\n",
    "D2['color']='green'\n",
    "\n",
    "# Method 3\n",
    "D3 = dict(zip(['food', 'quantity', 'color'], ['Salad', 3, 'green']))\n",
    "\n",
    "print(D)\n",
    "print(D2)\n",
    "print(D3)"
   ]
  },
  {
   "cell_type": "markdown",
   "metadata": {},
   "source": [
    "### Nesting\n",
    "You can nest multiple types in a dictionary. Make sure to include commas, colons, and quotation marks!"
   ]
  },
  {
   "cell_type": "code",
   "execution_count": 122,
   "metadata": {},
   "outputs": [
    {
     "name": "stdout",
     "output_type": "stream",
     "text": [
      "{'name': {'first': 'Bob', 'last': 'Doe'}, 'job': ['manager', 'mechanic'], 'age': 40}\n"
     ]
    }
   ],
   "source": [
    "# My code here\n",
    "empl = {\n",
    "    'name': {\n",
    "        'first': 'Bob',\n",
    "        'last': 'Doe'\n",
    "    },\n",
    "    'job' : ['manager', 'mechanic'],\n",
    "    'age' : 40\n",
    "}\n",
    "\n",
    "print(empl)"
   ]
  },
  {
   "cell_type": "markdown",
   "metadata": {},
   "source": [
    "**Exercise**: Create the following dictionary:\n",
    "\n",
    "1. Keys: Class, Student, Professor, Software\n",
    "2. Inputs: class code, your name, my name, softwares we are using"
   ]
  },
  {
   "cell_type": "code",
   "execution_count": 125,
   "metadata": {},
   "outputs": [
    {
     "name": "stdout",
     "output_type": "stream",
     "text": [
      "{'Class': 'QTM 385-5', 'Student': {'first': 'Lauren', 'last': 'Galindo'}, 'Professor': 'Umberto Mignozetti', 'Software': ['Python', 'SQL', 'R']}\n"
     ]
    }
   ],
   "source": [
    "## Your answers here!\n",
    "ex = {'Class':'QTM 385-5',\n",
    "    'Student': {'first': 'Lauren', 'last': 'Galindo'},\n",
    "    'Professor': 'Umberto Mignozetti',\n",
    "    'Software': ['Python', 'SQL', 'R']}\n",
    "print(ex)"
   ]
  },
  {
   "cell_type": "markdown",
   "metadata": {},
   "source": [
    "### Missing keys\n",
    "We can check to see if a key is in the dictoinary with **in**\n",
    "\n",
    "`.get(\"value you want to look for\", 0)` will return either the value or a 0 if it isn't there."
   ]
  },
  {
   "cell_type": "code",
   "execution_count": 133,
   "metadata": {},
   "outputs": [
    {
     "name": "stdout",
     "output_type": "stream",
     "text": [
      "{'food': 'Salad', 'quantity': 3, 'color': 'green'}\n"
     ]
    },
    {
     "data": {
      "text/plain": [
       "0"
      ]
     },
     "execution_count": 133,
     "metadata": {},
     "output_type": "execute_result"
    }
   ],
   "source": [
    "# My code here\n",
    "print(D3)\n",
    "# D3['taste'] -- This doesn't exist\n",
    "\n",
    "'taste' in D3\n",
    "D3.get('taste', 0)"
   ]
  },
  {
   "cell_type": "markdown",
   "metadata": {},
   "source": [
    "**Exercise**: Ask the user for a key, and check if it is in the class dictionary that you created."
   ]
  },
  {
   "cell_type": "markdown",
   "metadata": {},
   "source": [
    "### Nesting"
   ]
  },
  {
   "cell_type": "code",
   "execution_count": 8,
   "metadata": {},
   "outputs": [],
   "source": [
    "# My code here"
   ]
  },
  {
   "cell_type": "code",
   "execution_count": 9,
   "metadata": {},
   "outputs": [],
   "source": [
    "## Your answers here!"
   ]
  },
  {
   "cell_type": "markdown",
   "metadata": {},
   "source": [
    "### Keys\n",
    "List the keys in your dictionary with `.keys()`"
   ]
  },
  {
   "cell_type": "code",
   "execution_count": 136,
   "metadata": {},
   "outputs": [
    {
     "name": "stdout",
     "output_type": "stream",
     "text": [
      "{'food': 'Salad', 'quantity': 3, 'color': 'green'}\n",
      "dict_keys(['food', 'quantity', 'color'])\n",
      "['food', 'quantity', 'color']\n"
     ]
    }
   ],
   "source": [
    "# My code here\n",
    "print(D3)\n",
    "print(D3.keys())       # Extract keys only\n",
    "print(list(D3.keys())) # Creating a list of keys"
   ]
  },
  {
   "cell_type": "markdown",
   "metadata": {},
   "source": [
    "**Exercise**: Sort the keys in your class dictionary and display them."
   ]
  },
  {
   "cell_type": "code",
   "execution_count": 11,
   "metadata": {},
   "outputs": [],
   "source": [
    "## Your answers here!"
   ]
  },
  {
   "cell_type": "markdown",
   "metadata": {},
   "source": [
    "## Files"
   ]
  },
  {
   "cell_type": "markdown",
   "metadata": {},
   "source": [
    "### Creating a file"
   ]
  },
  {
   "cell_type": "code",
   "execution_count": 12,
   "metadata": {},
   "outputs": [],
   "source": [
    "# My code here"
   ]
  },
  {
   "cell_type": "markdown",
   "metadata": {},
   "source": [
    "### Reading the file"
   ]
  },
  {
   "cell_type": "code",
   "execution_count": 13,
   "metadata": {},
   "outputs": [],
   "source": [
    "# My code here"
   ]
  },
  {
   "cell_type": "markdown",
   "metadata": {},
   "source": [
    "**Exercise**: Create a file with your first name, last name, and your age. Then read it."
   ]
  },
  {
   "cell_type": "code",
   "execution_count": 14,
   "metadata": {},
   "outputs": [],
   "source": [
    "## Your answers here!"
   ]
  },
  {
   "cell_type": "markdown",
   "metadata": {},
   "source": [
    "## Dates and Times"
   ]
  },
  {
   "cell_type": "markdown",
   "metadata": {},
   "source": [
    "### Dates and times: the wrong way"
   ]
  },
  {
   "cell_type": "code",
   "execution_count": 15,
   "metadata": {},
   "outputs": [],
   "source": [
    "# My code here"
   ]
  },
  {
   "cell_type": "markdown",
   "metadata": {},
   "source": [
    "### Dates and times: the right way, using pandas"
   ]
  },
  {
   "cell_type": "code",
   "execution_count": 16,
   "metadata": {},
   "outputs": [],
   "source": [
    "# My code here"
   ]
  },
  {
   "cell_type": "markdown",
   "metadata": {},
   "source": [
    "**Exercise**: Do the same for your birthday."
   ]
  },
  {
   "cell_type": "code",
   "execution_count": 17,
   "metadata": {},
   "outputs": [],
   "source": [
    "## Your answers here!"
   ]
  },
  {
   "cell_type": "markdown",
   "metadata": {},
   "source": [
    "### How many days"
   ]
  },
  {
   "cell_type": "code",
   "execution_count": 18,
   "metadata": {},
   "outputs": [],
   "source": [
    "# My code here"
   ]
  },
  {
   "cell_type": "markdown",
   "metadata": {},
   "source": [
    "**Exercise**: How old are you, in days?"
   ]
  },
  {
   "cell_type": "code",
   "execution_count": 19,
   "metadata": {},
   "outputs": [],
   "source": [
    "## Your answers here!"
   ]
  },
  {
   "cell_type": "markdown",
   "metadata": {},
   "source": [
    "**Great job!!!** Next class, we will finish all the data types."
   ]
  }
 ],
 "metadata": {
  "kernelspec": {
   "display_name": "Python 3",
   "language": "python",
   "name": "python3"
  },
  "language_info": {
   "codemirror_mode": {
    "name": "ipython",
    "version": 3
   },
   "file_extension": ".py",
   "mimetype": "text/x-python",
   "name": "python",
   "nbconvert_exporter": "python",
   "pygments_lexer": "ipython3",
   "version": "3.8.3"
  }
 },
 "nbformat": 4,
 "nbformat_minor": 4
}
