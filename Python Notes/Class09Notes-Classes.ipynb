{
 "cells": [
  {
   "cell_type": "markdown",
   "metadata": {},
   "source": [
    "# QTM 385\n",
    "\n",
    "> Classes"
   ]
  },
  {
   "cell_type": "markdown",
   "metadata": {},
   "source": [
    "# Python functions (cont'd)"
   ]
  },
  {
   "cell_type": "markdown",
   "metadata": {},
   "source": [
    "There are a few topics that we still need to talk about functions. We finished the previous class discussing the best practices to write a function:\n",
    "\n",
    "1. Document your function\n",
    "2. Don't repeat yourself\n",
    "3. Do one thing\n",
    "\n",
    "It remained to discuss the last issue. `Do one thing` stands for having a function that executes only one step of code at a time. This is important because making sure that the function only does one thing helps us XXXX.\n",
    "\n",
    "## Example: a function that does two things\n",
    "\n",
    "Consider the following function (BMI classification from [here](https://www.cancer.org/cancer/cancer-causes/diet-physical-activity/body-weight-and-cancer-risk/adult-bmi.html)):\n",
    "\n",
    "```\n",
    "def my_bmi(w, h):\n",
    "    \"\"\"Body mass index calculator.\n",
    "\n",
    "    Args:\n",
    "        w (int or float): Weight in pounds\n",
    "        h (int or float): Height in inches\n",
    "\n",
    "    Returns:\n",
    "        int for body mass index\n",
    "        str with info about the BMI\n",
    "    \"\"\"\n",
    "    w_in_kg = 0.453592 * w\n",
    "    h_in_m = 0.0254 * h\n",
    "    bmi = w_in_kg/(h_in_m ** 2)\n",
    "    if bmi < 18.5:\n",
    "        return (bmi, 'Underweight')\n",
    "    elif bmi >= 18.5 and bmi < 25:\n",
    "        return (bmi, 'Normal')\n",
    "    elif bmi >= 25 and bmi < 30:\n",
    "        return (bmi, 'Overweight')\n",
    "    else:\n",
    "        return (bmi, 'Obese')\n",
    "```\n",
    "\n",
    "This function does two things: computes BMI and classify it in four brackets. Also, it transforms weight and height from imperial to metric system.\n",
    "\n",
    "We can break this problem into three functions: \n",
    "\n",
    "1. A function that computes bmi from weights in kg and heights in meters.\n",
    "\n",
    "2. A couple of functions that convert pounds into kg and inches into meters\n",
    "\n",
    "3. A function that tells us which brackets our BMI falls into.\n",
    "\n",
    "Let's do them?!"
   ]
  },
  {
   "cell_type": "code",
   "execution_count": 1,
   "metadata": {},
   "outputs": [],
   "source": [
    "def my_bmi(w, h):\n",
    "    \"\"\"Body mass index calculator.\n",
    "\n",
    "    Args:\n",
    "        w (int or float): Weight in pounds\n",
    "        h (int or float): Height in inches\n",
    "\n",
    "    Returns:\n",
    "        int for body mass index\n",
    "        str with info about the BMI\n",
    "    \"\"\"\n",
    "    w_in_kg = 0.453592 * w\n",
    "    h_in_m = 0.0254 * h\n",
    "    bmi = w_in_kg/(h_in_m ** 2)\n",
    "    if bmi < 18.5:\n",
    "        return (bmi, 'Underweight')\n",
    "    elif bmi >= 18.5 and bmi < 25:\n",
    "        return (bmi, 'Normal')\n",
    "    elif bmi >= 25 and bmi < 30:\n",
    "        return (bmi, 'Overweight')\n",
    "    else:\n",
    "        return (bmi, 'Obese')"
   ]
  },
  {
   "cell_type": "code",
   "execution_count": 2,
   "metadata": {},
   "outputs": [
    {
     "data": {
      "text/plain": [
       "(27.12457585408998, 'Overweight')"
      ]
     },
     "execution_count": 2,
     "metadata": {},
     "output_type": "execute_result"
    }
   ],
   "source": [
    "my_bmi(200, 72)"
   ]
  },
  {
   "cell_type": "markdown",
   "metadata": {},
   "source": [
    "**Exercise**: Write three functions:\n",
    "\n",
    "1. `pounds_to_kg`: receives the weight in pounds and covert into kg.\n",
    "\n",
    "2. `inches_to_m`: receives the height in inches and convert into meters.\n",
    "\n",
    "3. `bmi_category`: receives the BMI and classify it using the American Cancer Association categories.\n",
    "\n",
    "Then, re-edit the `my_bmi` function to use the auxiliary functions."
   ]
  },
  {
   "cell_type": "code",
   "execution_count": 7,
   "metadata": {},
   "outputs": [],
   "source": [
    "## Your code here\n",
    "def pounds_to_kg(lbs):\n",
    "    kg = lbs * 0.453592\n",
    "    return kg\n",
    "\n",
    "def inches_to_m(inches):\n",
    "    m = inches * 0.0254\n",
    "    return m\n",
    "\n",
    "def bmi_category(bmi):\n",
    "    if bmi < 18.5:\n",
    "        category = \"Low\"\n",
    "    elif bmi >=18 and bmi <25:\n",
    "        category = \"Normal\"\n",
    "    elif bmi >= 25 and bmi < 30:\n",
    "        category = \"High\"\n",
    "    elif bmi >=30:\n",
    "        category = \"Obese\"\n",
    "    return category"
   ]
  },
  {
   "cell_type": "code",
   "execution_count": 8,
   "metadata": {},
   "outputs": [
    {
     "data": {
      "text/plain": [
       "(27.12457585408998, 'High')"
      ]
     },
     "execution_count": 8,
     "metadata": {},
     "output_type": "execute_result"
    }
   ],
   "source": [
    "def my_bmi(w, h):\n",
    "    \"\"\"Body mass index calculator.\n",
    "\n",
    "    Args:\n",
    "        w (int or float): Weight in pounds\n",
    "        h (int or float): Height in inches\n",
    "\n",
    "    Returns:\n",
    "        int for body mass index\n",
    "    \"\"\"\n",
    "    w_in_kg = pounds_to_kg(w)\n",
    "    h_in_m = inches_to_m(h)\n",
    "    bmi = w_in_kg/(h_in_m ** 2)\n",
    "    return bmi\n",
    "\n",
    "my_bmi(200, 72), bmi_category(my_bmi(200, 72))"
   ]
  },
  {
   "cell_type": "markdown",
   "metadata": {},
   "source": [
    "# Object Oriented Programming\n",
    "\n",
    "So far, we did `procedural programming`.\n",
    "\n",
    "Procedural programing consists in coding what we want as a sequence of steps.\n",
    "\n",
    "This is great for smaller tasks, such as a small data analysis project.\n",
    "\n",
    "However, if we want to have more flexibility in our coding, we need to change the paradigm to allow for building powerful tools, customized for our purposes. \n",
    "\n",
    "Here is where the object-oriented programming comes handy. We can make our coding more reusable and tailored for our own problems.\n",
    "\n",
    "There are two main concepts we need to learn to start Object-Oriented coding:\n",
    "\n",
    "- Objects\n",
    "\n",
    "- Classes"
   ]
  },
  {
   "cell_type": "markdown",
   "metadata": {},
   "source": [
    "## Objects and Classes\n",
    "\n",
    "In Python, everything is an object!\n",
    "\n",
    "Objects are data structures. As the `string` or the `int`, they have states, and behaviors. For example, I can have an object called `student`. Students have their student number, their emails, and other atributes. They can also sign in for office hours.\n",
    "\n",
    "A class is a template for these objects. For example, a particular object could be:\n",
    "\n",
    "- Umberto\n",
    "- 1234\n",
    "- 3\n",
    "- Monday, 2:00 PM\n",
    "\n",
    "And the class is:\n",
    "\n",
    "- name\n",
    "- number\n",
    "- grade\n",
    "- office-hours-scheduled\n",
    "\n",
    "An example of `states` (attributes) in here are how many students I have in my class. An example of `behavior` (methods) is a function to add another student to the class, or to update the grade of a student.\n",
    "\n",
    "- attributes -> represented by variables\n",
    "\n",
    "- methods -> represented by functions"
   ]
  },
  {
   "cell_type": "markdown",
   "metadata": {},
   "source": [
    "## Create Classes\n",
    "\n",
    "Let's get started with classes. To create a class, we use the `class` statement:\n",
    "\n",
    "**KNOWING THIS SEPERATES YOU FROM THOSE WHO CANT CODE WELL**"
   ]
  },
  {
   "cell_type": "code",
   "execution_count": 14,
   "metadata": {},
   "outputs": [],
   "source": [
    "# My code here\n",
    "class Student:\n",
    "    # This is my first method\n",
    "    def set_name(self, new_name):\n",
    "        self.name = new_name\n",
    "        \n",
    "    # Say hello to the student\n",
    "    def say_hello(self):\n",
    "        print(\"Hello \" + self.name + \" \\n\")"
   ]
  },
  {
   "cell_type": "code",
   "execution_count": 15,
   "metadata": {},
   "outputs": [],
   "source": [
    "# Creating a reference to the object that is a class Student\n",
    "stu = Student()"
   ]
  },
  {
   "cell_type": "code",
   "execution_count": 18,
   "metadata": {},
   "outputs": [
    {
     "data": {
      "text/plain": [
       "__main__.Student"
      ]
     },
     "execution_count": 18,
     "metadata": {},
     "output_type": "execute_result"
    }
   ],
   "source": [
    "# Get the type of variable stu is\n",
    "type(stu)"
   ]
  },
  {
   "cell_type": "code",
   "execution_count": 19,
   "metadata": {},
   "outputs": [],
   "source": [
    "stu.set_name('Mark')"
   ]
  },
  {
   "cell_type": "code",
   "execution_count": 22,
   "metadata": {},
   "outputs": [
    {
     "name": "stdout",
     "output_type": "stream",
     "text": [
      "Hello Mark \n",
      "\n"
     ]
    }
   ],
   "source": [
    "stu.say_hello()"
   ]
  },
  {
   "cell_type": "markdown",
   "metadata": {},
   "source": [
    "**Exercise**: Create a method that stores the student's grade."
   ]
  },
  {
   "cell_type": "code",
   "execution_count": 33,
   "metadata": {},
   "outputs": [],
   "source": [
    "# My code here\n",
    "class Student:\n",
    "    # This is my first method\n",
    "    def set_name(self, new_name):\n",
    "        self.name = new_name\n",
    "        \n",
    "    # Set grades\n",
    "    def set_grades(self, new_grades):\n",
    "        self.grades = new_grades\n",
    "        \n",
    "    # Say hello to the student\n",
    "    def say_hello(self):\n",
    "        print(\"Hello \" + self.name + \"\\n\")\n",
    "    \n",
    "    # Adding student grade\n",
    "    def append_grade(self, g):\n",
    "        self.grades.append(g)"
   ]
  },
  {
   "cell_type": "code",
   "execution_count": 34,
   "metadata": {},
   "outputs": [
    {
     "name": "stdout",
     "output_type": "stream",
     "text": [
      "Hello Mark\n",
      "\n"
     ]
    }
   ],
   "source": [
    "stu = Student()\n",
    "stu.set_name('Mark')\n",
    "stu.say_hello()\n",
    "stu.set_grades([1,2,3])"
   ]
  },
  {
   "cell_type": "code",
   "execution_count": 46,
   "metadata": {},
   "outputs": [
    {
     "name": "stdout",
     "output_type": "stream",
     "text": [
      "Methods for stu: \n",
      " ['__class__', '__delattr__', '__dict__', '__dir__', '__doc__', '__eq__', '__format__', '__ge__', '__getattribute__', '__gt__', '__hash__', '__init__', '__init_subclass__', '__le__', '__lt__', '__module__', '__ne__', '__new__', '__reduce__', '__reduce_ex__', '__repr__', '__setattr__', '__sizeof__', '__str__', '__subclasshook__', '__weakref__', 'append_grade', 'grades', 'name', 'say_hello', 'set_grades', 'set_name']\n"
     ]
    }
   ],
   "source": [
    "print(\"Methods for stu: \\n\", dir(stu))"
   ]
  },
  {
   "cell_type": "code",
   "execution_count": 49,
   "metadata": {},
   "outputs": [
    {
     "name": "stdout",
     "output_type": "stream",
     "text": [
      "Methods for 3: \n",
      " ['__abs__', '__add__', '__and__', '__bool__', '__ceil__', '__class__', '__delattr__', '__dir__', '__divmod__', '__doc__', '__eq__', '__float__', '__floor__', '__floordiv__', '__format__', '__ge__', '__getattribute__', '__getnewargs__', '__gt__', '__hash__', '__index__', '__init__', '__init_subclass__', '__int__', '__invert__', '__le__', '__lshift__', '__lt__', '__mod__', '__mul__', '__ne__', '__neg__', '__new__', '__or__', '__pos__', '__pow__', '__radd__', '__rand__', '__rdivmod__', '__reduce__', '__reduce_ex__', '__repr__', '__rfloordiv__', '__rlshift__', '__rmod__', '__rmul__', '__ror__', '__round__', '__rpow__', '__rrshift__', '__rshift__', '__rsub__', '__rtruediv__', '__rxor__', '__setattr__', '__sizeof__', '__str__', '__sub__', '__subclasshook__', '__truediv__', '__trunc__', '__xor__', 'as_integer_ratio', 'bit_length', 'conjugate', 'denominator', 'from_bytes', 'imag', 'numerator', 'real', 'to_bytes']\n"
     ]
    }
   ],
   "source": [
    "print(\"Methods for 3: \\n\", dir(3))"
   ]
  },
  {
   "cell_type": "code",
   "execution_count": 50,
   "metadata": {},
   "outputs": [
    {
     "data": {
      "text/plain": [
       "<__main__.Student at 0x7fcdf431a1f0>"
      ]
     },
     "execution_count": 50,
     "metadata": {},
     "output_type": "execute_result"
    }
   ],
   "source": [
    "stu"
   ]
  },
  {
   "cell_type": "code",
   "execution_count": 55,
   "metadata": {},
   "outputs": [
    {
     "name": "stdout",
     "output_type": "stream",
     "text": [
      "Mark\n",
      "[1, 2, 3]\n",
      "<__main__.Student object at 0x7fcdf431a1f0>\n"
     ]
    }
   ],
   "source": [
    "# The name that we input from before is saved in the memory\n",
    "print(stu.name) \n",
    "print(stu.grades)\n",
    "\n",
    "# This doesn't print every method. We need to implement that into our Class\n",
    "print(stu)"
   ]
  },
  {
   "cell_type": "markdown",
   "metadata": {},
   "source": [
    "## Working with Classes\n",
    "\n",
    "Try `dir` with our new class. You will see that the `Student` class has its own attributes. Now, let us create a method that updates the student's grade."
   ]
  },
  {
   "cell_type": "code",
   "execution_count": 62,
   "metadata": {},
   "outputs": [
    {
     "name": "stdout",
     "output_type": "stream",
     "text": [
      "['__class__', '__delattr__', '__dict__', '__dir__', '__doc__', '__eq__', '__format__', '__ge__', '__getattribute__', '__gt__', '__hash__', '__init__', '__init_subclass__', '__le__', '__lt__', '__module__', '__ne__', '__new__', '__reduce__', '__reduce_ex__', '__repr__', '__setattr__', '__sizeof__', '__str__', '__subclasshook__', '__weakref__', 'append_grade', 'say_hello', 'set_grades', 'set_name', 'update_grade']\n"
     ]
    }
   ],
   "source": [
    "print(dir(Student))"
   ]
  },
  {
   "cell_type": "markdown",
   "metadata": {},
   "source": [
    "**Exercise**: Create a function to update the student's grade."
   ]
  },
  {
   "cell_type": "code",
   "execution_count": 72,
   "metadata": {},
   "outputs": [
    {
     "name": "stdout",
     "output_type": "stream",
     "text": [
      "Hello Mark\n",
      "\n"
     ]
    }
   ],
   "source": [
    "# My code here\n",
    "class Student:\n",
    "    # This is my first method\n",
    "    def set_name(self, new_name):\n",
    "        self.name = new_name\n",
    "        \n",
    "    # Set grades\n",
    "    def set_grades(self, new_grades):\n",
    "        self.grades = new_grades\n",
    "        \n",
    "    # Say hello to the student\n",
    "    def say_hello(self):\n",
    "        print(\"Hello \" + self.name + \"\\n\")\n",
    "    \n",
    "    # Adding student grade\n",
    "    def append_grade(self, g):\n",
    "        self.grades.append(g)\n",
    "        \n",
    "    # Update student's grade\n",
    "    def update_grade(self, g):\n",
    "        x = self.grades.pop() \n",
    "        self.grades.append(g)\n",
    "        \n",
    "stu = Student()\n",
    "stu.set_name('Mark')\n",
    "stu.say_hello()\n",
    "stu.set_grades([1,2,3])"
   ]
  },
  {
   "cell_type": "code",
   "execution_count": 73,
   "metadata": {},
   "outputs": [
    {
     "name": "stdout",
     "output_type": "stream",
     "text": [
      "[1, 2, 3, 4]\n",
      "[1, 2, 3]\n",
      "4\n"
     ]
    }
   ],
   "source": [
    "# pop(): Removes the last element and replaces it.\n",
    "# Specify what position yuo want to replace with a number (2)\n",
    "x = [1,2,3,4]\n",
    "print(x)\n",
    "y = x.pop()\n",
    "print(x)\n",
    "print(y)"
   ]
  },
  {
   "cell_type": "code",
   "execution_count": 74,
   "metadata": {},
   "outputs": [
    {
     "name": "stdout",
     "output_type": "stream",
     "text": [
      "[1, 2, 4]\n"
     ]
    }
   ],
   "source": [
    "stu.update_grade(4)\n",
    "print(stu.grades)"
   ]
  },
  {
   "cell_type": "markdown",
   "metadata": {},
   "source": [
    "## Constructor\n",
    "\n",
    "Now, suppose that our class Student has the following:"
   ]
  },
  {
   "cell_type": "code",
   "execution_count": 76,
   "metadata": {
    "scrolled": true
   },
   "outputs": [],
   "source": [
    "# Inefficient to have to create each method\n",
    "class Student:\n",
    "    # This is my first method\n",
    "    def set_name(self, new_name):\n",
    "        pass\n",
    "    \n",
    "    # Set student number\n",
    "    def set_number(self, new_number):\n",
    "        pass\n",
    "    \n",
    "    def set_email(self, email):\n",
    "        pass\n",
    "    \n",
    "    def average(self):\n",
    "        pass\n",
    "    \n",
    "    def append_grade():\n",
    "        pass"
   ]
  },
  {
   "cell_type": "markdown",
   "metadata": {},
   "source": [
    "And now suppose that we need to add a new student. Is it going to take all the commands I used previously?\n",
    "\n",
    "If we use constructors, the answer is **no**!\n",
    "\n",
    "For instance, we can create a constructor:"
   ]
  },
  {
   "cell_type": "code",
   "execution_count": 95,
   "metadata": {},
   "outputs": [],
   "source": [
    "\n",
    "class StudentFromQTM:\n",
    "    \n",
    "    # Constructor\n",
    "    def __init__(self, nam, num, em, gr):\n",
    "        self.name = nam\n",
    "        self.number = num\n",
    "        self.email = em\n",
    "        self.grades = gr\n",
    "\n",
    "    \n",
    "    def set_name(self, nam):\n",
    "        self.name = nam\n",
    "    \n",
    "    def set_number(self, num):\n",
    "        self.number = num\n",
    "    \n",
    "    def set_email(self, em):\n",
    "        self.email = em\n",
    "    \n",
    "    def average(self):\n",
    "        pass\n",
    "\n",
    "    def set_grades(self, gr):\n",
    "        self.grades = gr\n",
    "    \n",
    "    def append_grade(self):\n",
    "        pass\n",
    "    \n",
    "    def print_it(self):\n",
    "        print('Hi, my name is ' + self.name + '\\nMy number is:' + str(self.number) + '\\nMy grades are ' + str(self.grades) + '\\nMy email is ' + self.email)\n",
    "        \n",
    "stu = Student('Mark', 1234, 'mark.stu@emory.edu', [1,2,3])"
   ]
  },
  {
   "cell_type": "code",
   "execution_count": 96,
   "metadata": {},
   "outputs": [
    {
     "name": "stdout",
     "output_type": "stream",
     "text": [
      "Hi, my name is Mark\n",
      "My number is:1234\n",
      "My grades are [1, 2, 3]\n",
      "My email is mark.stu@emory.edu\n"
     ]
    }
   ],
   "source": [
    "stu.print_it()"
   ]
  },
  {
   "cell_type": "markdown",
   "metadata": {},
   "source": [
    "## Best practices with Classes\n",
    "\n",
    "### Use CamelCase for classes\n",
    "\n",
    "For example, if my class denotes datasets, I can use:\n",
    "\n",
    "`DataSets`\n",
    "\n",
    "### Use lower_snakes for modules and attributes\n",
    "\n",
    "For example, if I need to compute the average grade in my `Student` class, use `average_grades` or something alike.\n",
    "\n",
    "### `self`\n",
    "\n",
    "The first attribute is always `self`. Keep it that way!\n",
    "\n",
    "### Document your class\n",
    "\n",
    "You can use docstring, in the same way you use to create functions."
   ]
  },
  {
   "cell_type": "code",
   "execution_count": 100,
   "metadata": {
    "collapsed": true
   },
   "outputs": [
    {
     "data": {
      "text/plain": [
       "['__class__',\n",
       " '__delattr__',\n",
       " '__dict__',\n",
       " '__dir__',\n",
       " '__doc__',\n",
       " '__eq__',\n",
       " '__format__',\n",
       " '__ge__',\n",
       " '__getattribute__',\n",
       " '__gt__',\n",
       " '__hash__',\n",
       " '__init__',\n",
       " '__init_subclass__',\n",
       " '__le__',\n",
       " '__lt__',\n",
       " '__module__',\n",
       " '__ne__',\n",
       " '__new__',\n",
       " '__reduce__',\n",
       " '__reduce_ex__',\n",
       " '__repr__',\n",
       " '__setattr__',\n",
       " '__sizeof__',\n",
       " '__str__',\n",
       " '__subclasshook__',\n",
       " '__weakref__',\n",
       " 'append_grade',\n",
       " 'average',\n",
       " 'email',\n",
       " 'grades',\n",
       " 'name',\n",
       " 'number',\n",
       " 'print_it',\n",
       " 'set_email',\n",
       " 'set_grades',\n",
       " 'set_name',\n",
       " 'set_number']"
      ]
     },
     "execution_count": 100,
     "metadata": {},
     "output_type": "execute_result"
    }
   ],
   "source": [
    "# My code here\n",
    "class StudentFromQTM:\n",
    "    \"\"\"Construct the Student's class.\n",
    "    \n",
    "    Args: \n",
    "        name\n",
    "        number\n",
    "        email\n",
    "        grades\n",
    "    \"\"\"\n",
    "    # Constructor\n",
    "    def __init__(self, nam, num, em, gr):\n",
    "        self.name = nam\n",
    "        self.number = num\n",
    "        self.email = em\n",
    "        self.grades = gr\n",
    "\n",
    "    \n",
    "    def set_name(self, nam):\n",
    "        self.name = nam\n",
    "    \n",
    "    def set_number(self, num):\n",
    "        self.number = num\n",
    "    \n",
    "    def set_email(self, em):\n",
    "        self.email = em\n",
    "    \n",
    "    def average(self):\n",
    "        pass\n",
    "\n",
    "    def set_grades(self, gr):\n",
    "        self.grades = gr\n",
    "    \n",
    "    def append_grade(self):\n",
    "        pass\n",
    "    \n",
    "    def print_it(self):\n",
    "        print('Hi, my name is ' + self.name + '\\nMy number is:' + str(self.number) + '\\nMy grades are ' + str(self.grades) + '\\nMy email is ' + self.email)\n",
    "        \n",
    "# dir(stu) -- Now has 'doc'"
   ]
  },
  {
   "cell_type": "markdown",
   "metadata": {},
   "source": [
    "**Exercise**: Create a class called Employee. It has to:\n",
    "\n",
    "1. Store:\n",
    "    - Name: first name of the person\n",
    "    - Age: age of the person\n",
    "    - Salary: salary\n",
    "    - Job: job description\n",
    "    \n",
    "2. Has the following methods:\n",
    "    - A constructor to build new elements\n",
    "    - A `birthday` method, to increase the age in one one year old.\n",
    "    - A `give_raise` method, to give the person x amount of raise.\n",
    "    - A `monthly_salary` method, that returns the monthly salary of the person\n",
    "    \n",
    "Test your class by creating an employee of your choice. \n",
    "\n",
    "You will have to submit it as your daily assignment for today's class.    "
   ]
  },
  {
   "cell_type": "code",
   "execution_count": 116,
   "metadata": {},
   "outputs": [],
   "source": [
    "## Your answers here!\n",
    "class Employee:\n",
    "\n",
    "    # Constructor\n",
    "    def __init__(self, n, a, s, j):\n",
    "        self.name = n\n",
    "        self.age = a\n",
    "        self.salary = s\n",
    "        self.job = j\n",
    "    \n",
    "    def birthday(self):\n",
    "        self.age +=1\n",
    "        \n",
    "    def give_raise(self, a):\n",
    "        self.salary +=a\n",
    "    \n",
    "    def monthly_salary(self):\n",
    "        return self.salary / 12\n",
    "    \n",
    "emp = Employee('Jen', 30, 80000, 'Manager')"
   ]
  },
  {
   "cell_type": "code",
   "execution_count": 117,
   "metadata": {},
   "outputs": [
    {
     "data": {
      "text/plain": [
       "'Jen'"
      ]
     },
     "execution_count": 117,
     "metadata": {},
     "output_type": "execute_result"
    }
   ],
   "source": [
    "emp.name"
   ]
  },
  {
   "cell_type": "code",
   "execution_count": 118,
   "metadata": {},
   "outputs": [
    {
     "data": {
      "text/plain": [
       "80000"
      ]
     },
     "execution_count": 118,
     "metadata": {},
     "output_type": "execute_result"
    }
   ],
   "source": [
    "emp.salary"
   ]
  },
  {
   "cell_type": "code",
   "execution_count": 119,
   "metadata": {},
   "outputs": [
    {
     "name": "stdout",
     "output_type": "stream",
     "text": [
      "85000\n"
     ]
    }
   ],
   "source": [
    "emp.give_raise(5000)\n",
    "print(emp.salary)"
   ]
  },
  {
   "cell_type": "code",
   "execution_count": 120,
   "metadata": {},
   "outputs": [
    {
     "data": {
      "text/plain": [
       "7083.333333333333"
      ]
     },
     "execution_count": 120,
     "metadata": {},
     "output_type": "execute_result"
    }
   ],
   "source": [
    "emp.monthly_salary()"
   ]
  },
  {
   "cell_type": "markdown",
   "metadata": {},
   "source": [
    "**Great job!!!**"
   ]
  }
 ],
 "metadata": {
  "kernelspec": {
   "display_name": "Python 3",
   "language": "python",
   "name": "python3"
  },
  "language_info": {
   "codemirror_mode": {
    "name": "ipython",
    "version": 3
   },
   "file_extension": ".py",
   "mimetype": "text/x-python",
   "name": "python",
   "nbconvert_exporter": "python",
   "pygments_lexer": "ipython3",
   "version": "3.8.3"
  }
 },
 "nbformat": 4,
 "nbformat_minor": 4
}
