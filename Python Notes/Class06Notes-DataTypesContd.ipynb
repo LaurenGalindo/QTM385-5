{
 "cells": [
  {
   "cell_type": "markdown",
   "metadata": {},
   "source": [
    "# QTM 385 - Data Types Continued\n",
    "\n",
    "> Files, Dates and Times, For loops, conditional statements"
   ]
  },
  {
   "cell_type": "markdown",
   "metadata": {},
   "source": [
    "## Files"
   ]
  },
  {
   "cell_type": "markdown",
   "metadata": {},
   "source": [
    "### Creating a file\n",
    "* Create file\n",
    " * `open('FILENAME')`\n",
    "\n",
    "* Atributes: \n",
    " * `'r'` to read\n",
    " * `'w'` to write in the file\n",
    " \n",
    "* Editing your file\n",
    " * `\\n` goes to the \"next line\"\n",
    " * `\\t` is \"tab\"\n",
    " \n",
    "* Update your file\n",
    " * `.close()`\n",
    "`Note: Adding text by default stays on the same line as the last entry.`"
   ]
  },
  {
   "cell_type": "code",
   "execution_count": 50,
   "metadata": {},
   "outputs": [],
   "source": [
    "# My code here\n",
    "f = open('my_file.txt', 'w')"
   ]
  },
  {
   "cell_type": "code",
   "execution_count": 51,
   "metadata": {},
   "outputs": [
    {
     "data": {
      "text/plain": [
       "63"
      ]
     },
     "execution_count": 51,
     "metadata": {},
     "output_type": "execute_result"
    }
   ],
   "source": [
    "# Add things to your file\n",
    "f.write('My first sentence.\\n This is on a new line. \\n This is on line 3.') \n",
    "    #f is the name of the file.\n",
    "    # The output is the number of characters in the file."
   ]
  },
  {
   "cell_type": "code",
   "execution_count": 52,
   "metadata": {},
   "outputs": [
    {
     "data": {
      "text/plain": [
       "8"
      ]
     },
     "execution_count": 52,
     "metadata": {},
     "output_type": "execute_result"
    }
   ],
   "source": [
    "f.write('Python is awesome!')\n",
    "f.write('The end.')"
   ]
  },
  {
   "cell_type": "code",
   "execution_count": 53,
   "metadata": {},
   "outputs": [],
   "source": [
    "f.close()\n",
    "    # Closes the link between python and the file"
   ]
  },
  {
   "cell_type": "markdown",
   "metadata": {},
   "source": [
    "### Reading the file"
   ]
  },
  {
   "cell_type": "code",
   "execution_count": 54,
   "metadata": {},
   "outputs": [],
   "source": [
    "# My code here\n",
    "g = open('my_file.txt')"
   ]
  },
  {
   "cell_type": "code",
   "execution_count": 55,
   "metadata": {},
   "outputs": [
    {
     "name": "stdout",
     "output_type": "stream",
     "text": [
      "My first sentence.\n",
      " This is on a new line. \n",
      " This is on line 3.Python is awesome!The end.\n"
     ]
    }
   ],
   "source": [
    "text = g.read() # .read() is what makes Python open the file\n",
    "print(text)"
   ]
  },
  {
   "cell_type": "code",
   "execution_count": 56,
   "metadata": {},
   "outputs": [
    {
     "data": {
      "text/plain": [
       "17"
      ]
     },
     "execution_count": 56,
     "metadata": {},
     "output_type": "execute_result"
    }
   ],
   "source": [
    "# Split up every word in the file\n",
    "L = text.split() \n",
    "\n",
    "# Tell us how many words we have\n",
    "len(L) "
   ]
  },
  {
   "cell_type": "markdown",
   "metadata": {},
   "source": [
    "* Editing your file in the file itself, you can view the updated text with g.read()\n",
    "* `print()` makes your text look formatted nicely. Without it, you'll see the raw code\n",
    "\n",
    "\n",
    "DONT FORGET TO CLOSE THE CONNECTION vvv"
   ]
  },
  {
   "cell_type": "code",
   "execution_count": 65,
   "metadata": {},
   "outputs": [],
   "source": [
    "g.close()"
   ]
  },
  {
   "cell_type": "markdown",
   "metadata": {},
   "source": [
    "**Exercise**: Create a file with your first name, last name, and your age. Then read it."
   ]
  },
  {
   "cell_type": "code",
   "execution_count": 68,
   "metadata": {},
   "outputs": [],
   "source": [
    "## Your answers here!\n",
    "\n",
    "f = open('my_file2', 'w') # Creating the file\n",
    "\n",
    "f.write('First name: Lauren\\nLast name: Galindo\\nAge: 20') # Writing in the file\n",
    "\n",
    "f.close() # Close the file to save"
   ]
  },
  {
   "cell_type": "code",
   "execution_count": 69,
   "metadata": {},
   "outputs": [
    {
     "name": "stdout",
     "output_type": "stream",
     "text": [
      "First name: Lauren\n",
      "Last name: Galindo\n",
      "Age: 20\n"
     ]
    }
   ],
   "source": [
    "# Reading the file\n",
    "g = open('my_file2')\n",
    "text = g.read()\n",
    "print(text)"
   ]
  },
  {
   "cell_type": "markdown",
   "metadata": {},
   "source": [
    "## Dates and Times"
   ]
  },
  {
   "cell_type": "markdown",
   "metadata": {},
   "source": [
    "### Dates and times: the wrong way"
   ]
  },
  {
   "cell_type": "code",
   "execution_count": 70,
   "metadata": {},
   "outputs": [],
   "source": [
    "# My code here\n",
    "my_date = 'Jan 20, 1932'"
   ]
  },
  {
   "cell_type": "code",
   "execution_count": 71,
   "metadata": {},
   "outputs": [
    {
     "data": {
      "text/plain": [
       "str"
      ]
     },
     "execution_count": 71,
     "metadata": {},
     "output_type": "execute_result"
    }
   ],
   "source": [
    "type(my_date)"
   ]
  },
  {
   "cell_type": "markdown",
   "metadata": {},
   "source": [
    "* The type of this object is a string!\n",
    "This is a problem"
   ]
  },
  {
   "cell_type": "code",
   "execution_count": 73,
   "metadata": {},
   "outputs": [],
   "source": [
    "my_date2 = 'Jan 20, 1933'\n",
    "# my_date2 - my_date -- Gives an error"
   ]
  },
  {
   "cell_type": "markdown",
   "metadata": {},
   "source": [
    "* Python doesnt know how to subtract the difference between two strings\n",
    "* We need to find a way to use operations on dates!\n",
    "\n",
    "**`Let's use Pandas:`**"
   ]
  },
  {
   "cell_type": "markdown",
   "metadata": {},
   "source": [
    "### Dates and times: the right way, using pandas\n",
    "\n",
    "We can see that the `Timestamp` function in pandas converts a string date into a Timestamp"
   ]
  },
  {
   "cell_type": "code",
   "execution_count": 74,
   "metadata": {},
   "outputs": [],
   "source": [
    "# My code here\n",
    "import pandas as pd"
   ]
  },
  {
   "cell_type": "code",
   "execution_count": 102,
   "metadata": {},
   "outputs": [],
   "source": [
    "t1 = pd.Timestamp('Jan 20, 1933')"
   ]
  },
  {
   "cell_type": "code",
   "execution_count": 103,
   "metadata": {},
   "outputs": [
    {
     "data": {
      "text/plain": [
       "pandas._libs.tslibs.timestamps.Timestamp"
      ]
     },
     "execution_count": 103,
     "metadata": {},
     "output_type": "execute_result"
    }
   ],
   "source": [
    "type(t1)"
   ]
  },
  {
   "cell_type": "code",
   "execution_count": 104,
   "metadata": {},
   "outputs": [
    {
     "name": "stdout",
     "output_type": "stream",
     "text": [
      "1933-01-20 00:00:00\n",
      "1933\n",
      "1\n",
      "January\n",
      "Friday\n"
     ]
    }
   ],
   "source": [
    "print(t1)\n",
    "print(t1.year)\n",
    "print(t1.month)\n",
    "print(t1.month_name())\n",
    "print(t1.day_name())"
   ]
  },
  {
   "cell_type": "markdown",
   "metadata": {},
   "source": [
    "**Exercise**: Do the same for your birthday."
   ]
  },
  {
   "cell_type": "code",
   "execution_count": 105,
   "metadata": {},
   "outputs": [
    {
     "name": "stdout",
     "output_type": "stream",
     "text": [
      "2000-10-09 00:00:00\n",
      "2000\n",
      "10\n",
      "October\n",
      "Monday\n"
     ]
    }
   ],
   "source": [
    "## Your answers here!\n",
    "t2 = pd.Timestamp('October 9, 2000')\n",
    "print(t2)\n",
    "print(t2.year)\n",
    "print(t2.month)\n",
    "print(t2.month_name())\n",
    "print(t2.day_name())"
   ]
  },
  {
   "cell_type": "markdown",
   "metadata": {},
   "source": [
    "### How many days"
   ]
  },
  {
   "cell_type": "code",
   "execution_count": 132,
   "metadata": {},
   "outputs": [
    {
     "name": "stdout",
     "output_type": "stream",
     "text": [
      "Timestamp: 2021-09-14 19:41:26.128214\n",
      "Difference in days: 32379\n",
      "Difference in weeks: 4625\n"
     ]
    }
   ],
   "source": [
    "# My code here\n",
    "tnow = pd.Timestamp.now() # Get the current live time\n",
    "print('Timestamp:', tnow)\n",
    "\n",
    "# How many days between the two dates\n",
    "diff = tnow - t1 \n",
    "diff = diff.days\n",
    "print('Difference in days:',diff)\n",
    "\n",
    "#How many weeks between the two dates\n",
    "print('Difference in weeks:', diff//7)"
   ]
  },
  {
   "cell_type": "markdown",
   "metadata": {},
   "source": [
    "**Exercise**: How old are you, in days?"
   ]
  },
  {
   "cell_type": "code",
   "execution_count": 111,
   "metadata": {},
   "outputs": [
    {
     "name": "stdout",
     "output_type": "stream",
     "text": [
      "I am 7645 days 19:36:08.105942 old!\n"
     ]
    }
   ],
   "source": [
    "## Your answers here!\n",
    "daysold = tnow - t2\n",
    "print('I am', daysold,'old!')"
   ]
  },
  {
   "cell_type": "markdown",
   "metadata": {},
   "source": [
    "## Loops\n",
    "* Create a loop to repeat the function by adding an index and stating what the repeating code is"
   ]
  },
  {
   "cell_type": "markdown",
   "metadata": {},
   "source": [
    "### Indentation\n",
    "When you are done with a `for` statement, use `:`\n",
    "\n",
    "for _index_ in ___ :"
   ]
  },
  {
   "cell_type": "code",
   "execution_count": 145,
   "metadata": {
    "collapsed": true
   },
   "outputs": [
    {
     "name": "stdout",
     "output_type": "stream",
     "text": [
      "1 3\n",
      "1 2\n",
      "1 1\n",
      "Round of j's done \n",
      "\n",
      "2 3\n",
      "2 2\n",
      "2 1\n",
      "Round of j's done \n",
      "\n",
      "3 3\n",
      "3 2\n",
      "3 1\n",
      "Round of j's done \n",
      "\n"
     ]
    }
   ],
   "source": [
    "# My code here\n",
    "for i in [1,2,3]:\n",
    "    for j in [3,2,1]:\n",
    "        print(i,j)\n",
    "    print(\"Round of j's done \\n\")"
   ]
  },
  {
   "cell_type": "code",
   "execution_count": 146,
   "metadata": {
    "collapsed": true
   },
   "outputs": [
    {
     "name": "stdout",
     "output_type": "stream",
     "text": [
      "1 3\n",
      "Round of j's done \n",
      "\n",
      "1 2\n",
      "Round of j's done \n",
      "\n",
      "1 1\n",
      "Round of j's done \n",
      "\n",
      "2 3\n",
      "Round of j's done \n",
      "\n",
      "2 2\n",
      "Round of j's done \n",
      "\n",
      "2 1\n",
      "Round of j's done \n",
      "\n",
      "3 3\n",
      "Round of j's done \n",
      "\n",
      "3 2\n",
      "Round of j's done \n",
      "\n",
      "3 1\n",
      "Round of j's done \n",
      "\n"
     ]
    }
   ],
   "source": [
    "# Indentation matters! Look at the difference:\n",
    "for i in [1,2,3]:\n",
    "    for j in [3,2,1]:\n",
    "        print(i,j)\n",
    "        print(\"Round of j's done \\n\")"
   ]
  },
  {
   "cell_type": "markdown",
   "metadata": {},
   "source": [
    "**This is how you would use loops in R**\n",
    "```{r}\n",
    "x <- function(y) {\n",
    "    for (1 in 1:10) {\n",
    "        for (j in 1:10) {\n",
    "            print('Hi')\n",
    "        }\n",
    "    }\n",
    "}\n",
    "```"
   ]
  },
  {
   "cell_type": "markdown",
   "metadata": {},
   "source": [
    "### For loops\n",
    "* Any iterable object (list, vector, tuples, etc.) can be used in a for loop\n",
    "* For loops sweep through the object"
   ]
  },
  {
   "cell_type": "code",
   "execution_count": 151,
   "metadata": {},
   "outputs": [
    {
     "name": "stdout",
     "output_type": "stream",
     "text": [
      "This is my text\n",
      "There are 15 characters in my_text\n"
     ]
    }
   ],
   "source": [
    "# My code here\n",
    "my_text = 'This is my text'\n",
    "print(my_text)\n",
    "print('There are',len(my_text), 'characters in my_text')"
   ]
  },
  {
   "cell_type": "code",
   "execution_count": 152,
   "metadata": {
    "collapsed": true
   },
   "outputs": [
    {
     "name": "stdout",
     "output_type": "stream",
     "text": [
      "T\n",
      "h\n",
      "i\n",
      "s\n",
      " \n",
      "i\n",
      "s\n",
      " \n",
      "m\n",
      "y\n",
      " \n",
      "t\n",
      "e\n",
      "x\n",
      "t\n"
     ]
    }
   ],
   "source": [
    "# Print each character in this string\n",
    "for i in range(len(my_text)):\n",
    "    print(my_text[i])"
   ]
  },
  {
   "cell_type": "code",
   "execution_count": 154,
   "metadata": {
    "collapsed": true
   },
   "outputs": [
    {
     "name": "stdout",
     "output_type": "stream",
     "text": [
      "0\n",
      "1\n",
      "4\n",
      "9\n",
      "16\n",
      "25\n",
      "36\n",
      "49\n",
      "64\n",
      "81\n",
      "100\n",
      "121\n",
      "144\n",
      "169\n",
      "196\n"
     ]
    }
   ],
   "source": [
    "# Print the position of each character and square it\n",
    "for i in range(len(my_text)):\n",
    "    print(i**2)"
   ]
  },
  {
   "cell_type": "markdown",
   "metadata": {},
   "source": [
    "### For loops (strings)"
   ]
  },
  {
   "cell_type": "code",
   "execution_count": 159,
   "metadata": {
    "collapsed": true
   },
   "outputs": [
    {
     "name": "stdout",
     "output_type": "stream",
     "text": [
      "TT\n",
      "TThh\n",
      "TThhii\n",
      "TThhiiss\n",
      "TThhiiss  \n",
      "TThhiiss  ii\n",
      "TThhiiss  iiss\n",
      "TThhiiss  iiss  \n",
      "TThhiiss  iiss  mm\n",
      "TThhiiss  iiss  mmyy\n",
      "TThhiiss  iiss  mmyy  \n",
      "TThhiiss  iiss  mmyy  tt\n",
      "TThhiiss  iiss  mmyy  ttee\n",
      "TThhiiss  iiss  mmyy  tteexx\n",
      "TThhiiss  iiss  mmyy  tteexxtt\n"
     ]
    }
   ],
   "source": [
    "# My code here\n",
    "my_results = ''\n",
    "for l in my_text:\n",
    "    my_results = my_results + l * 2\n",
    "    print(my_results)\n"
   ]
  },
  {
   "cell_type": "code",
   "execution_count": 165,
   "metadata": {},
   "outputs": [
    {
     "name": "stdout",
     "output_type": "stream",
     "text": [
      "1\n",
      "2\n",
      "3\n",
      "2\n",
      "1\n",
      "0\n"
     ]
    }
   ],
   "source": [
    "my_list = [1,2,3,2,1,0]\n",
    "for i in my_list:\n",
    "    print(i)"
   ]
  },
  {
   "cell_type": "markdown",
   "metadata": {},
   "source": [
    "### Loops and counting\n",
    "\n",
    "* Use counters to see how many iterations there are\n",
    "* Initialize the counter then create your loop"
   ]
  },
  {
   "cell_type": "code",
   "execution_count": 171,
   "metadata": {
    "collapsed": true
   },
   "outputs": [
    {
     "name": "stdout",
     "output_type": "stream",
     "text": [
      "This is my text\n",
      "T\n",
      "h\n",
      "i\n",
      "s\n",
      " \n",
      "i\n",
      "s\n",
      " \n",
      "m\n",
      "y\n",
      " \n",
      "t\n",
      "e\n",
      "x\n",
      "t\n",
      "15\n"
     ]
    },
    {
     "data": {
      "text/plain": [
       "15"
      ]
     },
     "execution_count": 171,
     "metadata": {},
     "output_type": "execute_result"
    }
   ],
   "source": [
    "# My code here\n",
    "print(my_text)\n",
    "\n",
    "count = 0\n",
    "for i in my_text:\n",
    "    print(i)\n",
    "    count += 1\n",
    "\n",
    "print(count) # Equal to len(my_text)\n",
    "len(my_text)"
   ]
  },
  {
   "cell_type": "markdown",
   "metadata": {},
   "source": [
    "**Exercise**: Ask the user to enter a string. Then, using loops, count how many letters the string has.\n",
    "* To ask users to enter a string, use `input('Enter a text')`"
   ]
  },
  {
   "cell_type": "code",
   "execution_count": 177,
   "metadata": {},
   "outputs": [
    {
     "name": "stdout",
     "output_type": "stream",
     "text": [
      "Enter a text: 12345\n",
      "You typed 5 characters!\n",
      "\n"
     ]
    }
   ],
   "source": [
    "## Your answers here!\n",
    "my_text = input('Enter a text: ')\n",
    "\n",
    "count = 0\n",
    "\n",
    "for i in my_text:\n",
    "    count +=1\n",
    "\n",
    "print('You typed', str(count), 'characters!\\n')"
   ]
  },
  {
   "cell_type": "markdown",
   "metadata": {},
   "source": [
    "## Conditional Statements"
   ]
  },
  {
   "cell_type": "markdown",
   "metadata": {},
   "source": [
    "### if\n",
    "* Checking if something happened\n",
    "* If yes, run some code\n",
    "* If no, either continue, run some other code, etc.\n",
    "\n",
    "\n",
    "* Boolean data types = assume two values (True, False)"
   ]
  },
  {
   "cell_type": "code",
   "execution_count": 182,
   "metadata": {},
   "outputs": [
    {
     "name": "stdout",
     "output_type": "stream",
     "text": [
      "False\n"
     ]
    },
    {
     "data": {
      "text/plain": [
       "bool"
      ]
     },
     "execution_count": 182,
     "metadata": {},
     "output_type": "execute_result"
    }
   ],
   "source": [
    "# Ways to compare values\n",
    "\n",
    "b1 = 1 == 2 # Equal\n",
    "b1 = 1 > 2 # Greater than\n",
    "b1 = 1 < 2 # Less than\n",
    "b1 = 1 <= 2 # Less than or equal\n",
    "b1 = 22 in [1,2,3] # Membership\n",
    "print(b1)\n",
    "type(b1)"
   ]
  },
  {
   "cell_type": "code",
   "execution_count": 188,
   "metadata": {},
   "outputs": [
    {
     "data": {
      "text/plain": [
       "False"
      ]
     },
     "execution_count": 188,
     "metadata": {},
     "output_type": "execute_result"
    }
   ],
   "source": [
    "2 != 3+3 != 4 # True + True = True\n",
    "2 != 3+3 == 4  # True + False = False\n",
    "\n",
    "# True + True = True\n",
    "# True + False = False\n",
    "# False + True = False\n",
    "# False + False = False"
   ]
  },
  {
   "cell_type": "markdown",
   "metadata": {},
   "source": [
    "### if in one line"
   ]
  },
  {
   "cell_type": "code",
   "execution_count": 19,
   "metadata": {},
   "outputs": [],
   "source": [
    "# My code here!"
   ]
  },
  {
   "cell_type": "markdown",
   "metadata": {},
   "source": [
    "### if-else"
   ]
  },
  {
   "cell_type": "code",
   "execution_count": 20,
   "metadata": {},
   "outputs": [],
   "source": [
    "# My code here"
   ]
  },
  {
   "cell_type": "markdown",
   "metadata": {},
   "source": [
    "**Great job!!!**"
   ]
  }
 ],
 "metadata": {
  "kernelspec": {
   "display_name": "Python 3",
   "language": "python",
   "name": "python3"
  },
  "language_info": {
   "codemirror_mode": {
    "name": "ipython",
    "version": 3
   },
   "file_extension": ".py",
   "mimetype": "text/x-python",
   "name": "python",
   "nbconvert_exporter": "python",
   "pygments_lexer": "ipython3",
   "version": "3.8.3"
  }
 },
 "nbformat": 4,
 "nbformat_minor": 4
}
