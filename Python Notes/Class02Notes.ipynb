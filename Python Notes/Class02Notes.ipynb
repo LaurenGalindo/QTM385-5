{
 "cells": [
  {
   "cell_type": "markdown",
   "metadata": {},
   "source": [
    "# Overview of Toolbar \n",
    "* File > has options to save your work\n",
    "* Edit > edit your code\n",
    "* View > See header/menu options\n",
    "* Insert >\n",
    "* Kernel > this is the software working in the background. To restart kernel and run all code chunks, go here\n",
    "* Help > References are useful, Jupyter Notebook has lots of shortcuts for you to play around with\n",
    "\n",
    "\n",
    "Misc:\n",
    "* Change title of notebook by hovering over current filename\n",
    "* When notebook is open, it is \"running\" \\ you can verify on the home page because it says \"running\""
   ]
  },
  {
   "cell_type": "markdown",
   "metadata": {},
   "source": [
    "## Keyboard Shortcuts\n",
    "* Command + Enter runs the code chunk\n",
    "* Shift + Enter runs the code chunk and creates a new one below\n",
    "* Esc + X Deletes cell\n",
    "* Esc + A Adds a cell above\n",
    "* Escape + B Adds a cell below\n",
    "\n",
    "And so many more!\n",
    "\n",
    "Use \"Help\" to find more shortcuts"
   ]
  },
  {
   "cell_type": "code",
   "execution_count": 4,
   "metadata": {
    "scrolled": true
   },
   "outputs": [
    {
     "data": {
      "text/plain": [
       "4"
      ]
     },
     "execution_count": 4,
     "metadata": {},
     "output_type": "execute_result"
    }
   ],
   "source": [
    "# This is a code cell\n",
    "2+2"
   ]
  },
  {
   "cell_type": "markdown",
   "metadata": {},
   "source": [
    "* `Esc` button takes you into command mode when you are done coding.\n",
    "\n",
    "Command mode is the jupyter notebook way to know that you are going to type some commands."
   ]
  },
  {
   "cell_type": "code",
   "execution_count": 8,
   "metadata": {},
   "outputs": [
    {
     "name": "stdout",
     "output_type": "stream",
     "text": [
      "What is your name?\n",
      "ll\n",
      "\n",
      " Hello, ll\n"
     ]
    }
   ],
   "source": [
    "# This is an interactive cell\n",
    "print(\"What is your name?\")\n",
    "x = input()\n",
    "print('\\n Hello, ' + x)"
   ]
  },
  {
   "cell_type": "markdown",
   "metadata": {},
   "source": [
    "## How to code\n",
    "Code in Jupyter NB, Shell, or Terminal.py\n",
    "Create .exc files to execute in Windows computers.\n",
    "The .py files are not so sophisticated to be a program. Python is a high level language. \n",
    "There are levels in computing... the higher the level, the closer to being like human language. Almost as if talking to a computer. A more high level program makes you lose in terms of speed! Python is great, but it's slower than C and C++. C5 is much lower level. R is higher level than Python, which is why Python is faster than R."
   ]
  },
  {
   "cell_type": "markdown",
   "metadata": {},
   "source": [
    "## Shell Steps to Download\n",
    "> python.org\n",
    "\n",
    "> Downloads\n",
    "\n",
    "> 3.9.7 is the most updated one\n",
    "\n",
    ">Installing it will do the same as Anaconda, but you'll have the IDLE launcher\n",
    "\n",
    ">IDLE is the ID you have in python\n",
    "\n",
    "Downloading is not necessary to code in Python. Jupyter Notebook does the same thing, and looks way better."
   ]
  },
  {
   "cell_type": "markdown",
   "metadata": {},
   "source": [
    "* Explain what is going on in Notebook chunks, so that if you look at your code years down the road, you will still understand what you did!"
   ]
  },
  {
   "cell_type": "code",
   "execution_count": 1,
   "metadata": {},
   "outputs": [
    {
     "name": "stdout",
     "output_type": "stream",
     "text": [
      "darwin\n"
     ]
    }
   ],
   "source": [
    "import sys\n",
    "print(sys.platform)"
   ]
  },
  {
   "cell_type": "code",
   "execution_count": null,
   "metadata": {},
   "outputs": [],
   "source": []
  }
 ],
 "metadata": {
  "kernelspec": {
   "display_name": "Python 3",
   "language": "python",
   "name": "python3"
  },
  "language_info": {
   "codemirror_mode": {
    "name": "ipython",
    "version": 3
   },
   "file_extension": ".py",
   "mimetype": "text/x-python",
   "name": "python",
   "nbconvert_exporter": "python",
   "pygments_lexer": "ipython3",
   "version": "3.8.3"
  }
 },
 "nbformat": 4,
 "nbformat_minor": 5
}
