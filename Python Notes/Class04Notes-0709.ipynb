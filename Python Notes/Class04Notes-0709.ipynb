{
 "cells": [
  {
   "cell_type": "markdown",
   "metadata": {},
   "source": [
    "# QTM 385\n",
    "\n",
    "> Class 07/09\n",
    "> Data Types continued"
   ]
  },
  {
   "cell_type": "markdown",
   "metadata": {},
   "source": [
    "## *Do things* with *stuff*?!\n",
    "Using functions (Do things) with our objects (stuff)"
   ]
  },
  {
   "cell_type": "code",
   "execution_count": 7,
   "metadata": {},
   "outputs": [
    {
     "name": "stdout",
     "output_type": "stream",
     "text": [
      "3\n"
     ]
    }
   ],
   "source": [
    "## Check object x = 3 here\n",
    "x = 3\n",
    "print(x)"
   ]
  },
  {
   "cell_type": "code",
   "execution_count": 9,
   "metadata": {},
   "outputs": [
    {
     "data": {
      "text/plain": [
       "int"
      ]
     },
     "execution_count": 9,
     "metadata": {},
     "output_type": "execute_result"
    }
   ],
   "source": [
    "type(x) # Give me the type (shape of the box)"
   ]
  },
  {
   "cell_type": "code",
   "execution_count": 15,
   "metadata": {
    "collapsed": true
   },
   "outputs": [
    {
     "data": {
      "text/plain": [
       "['__abs__',\n",
       " '__add__',\n",
       " '__and__',\n",
       " '__bool__',\n",
       " '__ceil__',\n",
       " '__class__',\n",
       " '__delattr__',\n",
       " '__dir__',\n",
       " '__divmod__',\n",
       " '__doc__',\n",
       " '__eq__',\n",
       " '__float__',\n",
       " '__floor__',\n",
       " '__floordiv__',\n",
       " '__format__',\n",
       " '__ge__',\n",
       " '__getattribute__',\n",
       " '__getnewargs__',\n",
       " '__gt__',\n",
       " '__hash__',\n",
       " '__index__',\n",
       " '__init__',\n",
       " '__init_subclass__',\n",
       " '__int__',\n",
       " '__invert__',\n",
       " '__le__',\n",
       " '__lshift__',\n",
       " '__lt__',\n",
       " '__mod__',\n",
       " '__mul__',\n",
       " '__ne__',\n",
       " '__neg__',\n",
       " '__new__',\n",
       " '__or__',\n",
       " '__pos__',\n",
       " '__pow__',\n",
       " '__radd__',\n",
       " '__rand__',\n",
       " '__rdivmod__',\n",
       " '__reduce__',\n",
       " '__reduce_ex__',\n",
       " '__repr__',\n",
       " '__rfloordiv__',\n",
       " '__rlshift__',\n",
       " '__rmod__',\n",
       " '__rmul__',\n",
       " '__ror__',\n",
       " '__round__',\n",
       " '__rpow__',\n",
       " '__rrshift__',\n",
       " '__rshift__',\n",
       " '__rsub__',\n",
       " '__rtruediv__',\n",
       " '__rxor__',\n",
       " '__setattr__',\n",
       " '__sizeof__',\n",
       " '__str__',\n",
       " '__sub__',\n",
       " '__subclasshook__',\n",
       " '__truediv__',\n",
       " '__trunc__',\n",
       " '__xor__',\n",
       " 'as_integer_ratio',\n",
       " 'bit_length',\n",
       " 'conjugate',\n",
       " 'denominator',\n",
       " 'from_bytes',\n",
       " 'imag',\n",
       " 'numerator',\n",
       " 'real',\n",
       " 'to_bytes']"
      ]
     },
     "execution_count": 15,
     "metadata": {},
     "output_type": "execute_result"
    }
   ],
   "source": [
    "dir(x) # Check methods asspcoated with type"
   ]
  },
  {
   "cell_type": "code",
   "execution_count": 17,
   "metadata": {},
   "outputs": [
    {
     "name": "stdout",
     "output_type": "stream",
     "text": [
      "Help on built-in function to_bytes:\n",
      "\n",
      "to_bytes(length, byteorder, *, signed=False) method of builtins.int instance\n",
      "    Return an array of bytes representing an integer.\n",
      "    \n",
      "    length\n",
      "      Length of bytes object to use.  An OverflowError is raised if the\n",
      "      integer is not representable with the given number of bytes.\n",
      "    byteorder\n",
      "      The byte order used to represent the integer.  If byteorder is 'big',\n",
      "      the most significant byte is at the beginning of the byte array.  If\n",
      "      byteorder is 'little', the most significant byte is at the end of the\n",
      "      byte array.  To request the native byte order of the host system, use\n",
      "      `sys.byteorder' as the byte order value.\n",
      "    signed\n",
      "      Determines whether two's complement is used to represent the integer.\n",
      "      If signed is False and a negative integer is given, an OverflowError\n",
      "      is raised.\n",
      "\n"
     ]
    }
   ],
   "source": [
    "# If we want to check what these methods do:\n",
    "help(x.to_bytes)"
   ]
  },
  {
   "cell_type": "markdown",
   "metadata": {},
   "source": [
    "**Exercise**: Check the methods available for the variable `y = 2.1` and search one of your choice"
   ]
  },
  {
   "cell_type": "code",
   "execution_count": 29,
   "metadata": {},
   "outputs": [
    {
     "name": "stdout",
     "output_type": "stream",
     "text": [
      "<class 'float'>\n",
      "['__abs__', '__add__', '__bool__', '__class__', '__delattr__', '__dir__', '__divmod__', '__doc__', '__eq__', '__float__', '__floordiv__', '__format__', '__ge__', '__getattribute__', '__getformat__', '__getnewargs__', '__gt__', '__hash__', '__init__', '__init_subclass__', '__int__', '__le__', '__lt__', '__mod__', '__mul__', '__ne__', '__neg__', '__new__', '__pos__', '__pow__', '__radd__', '__rdivmod__', '__reduce__', '__reduce_ex__', '__repr__', '__rfloordiv__', '__rmod__', '__rmul__', '__round__', '__rpow__', '__rsub__', '__rtruediv__', '__set_format__', '__setattr__', '__sizeof__', '__str__', '__sub__', '__subclasshook__', '__truediv__', '__trunc__', 'as_integer_ratio', 'conjugate', 'fromhex', 'hex', 'imag', 'is_integer', 'real']\n"
     ]
    }
   ],
   "source": [
    "## Your answer here\n",
    "y = 2.1\n",
    "print(type(y))\n",
    "print(dir(y))"
   ]
  },
  {
   "cell_type": "code",
   "execution_count": 32,
   "metadata": {},
   "outputs": [
    {
     "name": "stdout",
     "output_type": "stream",
     "text": [
      "Help on built-in function as_integer_ratio:\n",
      "\n",
      "as_integer_ratio() method of builtins.float instance\n",
      "    Return integer ratio.\n",
      "    \n",
      "    Return a pair of integers, whose ratio is exactly equal to the original float\n",
      "    and with a positive denominator.\n",
      "    \n",
      "    Raise OverflowError on infinities and a ValueError on NaNs.\n",
      "    \n",
      "    >>> (10.0).as_integer_ratio()\n",
      "    (10, 1)\n",
      "    >>> (0.0).as_integer_ratio()\n",
      "    (0, 1)\n",
      "    >>> (-.25).as_integer_ratio()\n",
      "    (-1, 4)\n",
      "\n"
     ]
    }
   ],
   "source": [
    "help(y.as_integer_ratio)"
   ]
  },
  {
   "cell_type": "markdown",
   "metadata": {},
   "source": [
    "## Strings\n",
    "\n",
    "Strings are a method that has characters\n",
    "\n",
    "'House' is a string. Strings have more methods than integers and floats do. This is because you can do more with texts."
   ]
  },
  {
   "cell_type": "markdown",
   "metadata": {},
   "source": [
    "### Creating Strings\n",
    "\n",
    "Strings can be indexed however we want."
   ]
  },
  {
   "cell_type": "code",
   "execution_count": 37,
   "metadata": {},
   "outputs": [
    {
     "name": "stdout",
     "output_type": "stream",
     "text": [
      "My first string\n",
      "<class 'str'>\n"
     ]
    }
   ],
   "source": [
    "# My code here\n",
    "x = 'My first string'\n",
    "print(x)\n",
    "print(type(x))"
   ]
  },
  {
   "cell_type": "markdown",
   "metadata": {},
   "source": [
    "### Checking methods available"
   ]
  },
  {
   "cell_type": "code",
   "execution_count": 38,
   "metadata": {},
   "outputs": [
    {
     "name": "stdout",
     "output_type": "stream",
     "text": [
      "['__add__', '__class__', '__contains__', '__delattr__', '__dir__', '__doc__', '__eq__', '__format__', '__ge__', '__getattribute__', '__getitem__', '__getnewargs__', '__gt__', '__hash__', '__init__', '__init_subclass__', '__iter__', '__le__', '__len__', '__lt__', '__mod__', '__mul__', '__ne__', '__new__', '__reduce__', '__reduce_ex__', '__repr__', '__rmod__', '__rmul__', '__setattr__', '__sizeof__', '__str__', '__subclasshook__', 'capitalize', 'casefold', 'center', 'count', 'encode', 'endswith', 'expandtabs', 'find', 'format', 'format_map', 'index', 'isalnum', 'isalpha', 'isascii', 'isdecimal', 'isdigit', 'isidentifier', 'islower', 'isnumeric', 'isprintable', 'isspace', 'istitle', 'isupper', 'join', 'ljust', 'lower', 'lstrip', 'maketrans', 'partition', 'replace', 'rfind', 'rindex', 'rjust', 'rpartition', 'rsplit', 'rstrip', 'split', 'splitlines', 'startswith', 'strip', 'swapcase', 'title', 'translate', 'upper', 'zfill']\n"
     ]
    }
   ],
   "source": [
    "# My code here\n",
    "print(dir(x))"
   ]
  },
  {
   "cell_type": "markdown",
   "metadata": {},
   "source": [
    "### Sequence operations\n",
    "**Polymorphism**: When you have one operator that is supposed to do something with other objects, but with a different object, it still works but it does something a little different.\n",
    "\n",
    "Ex: You can add/Multiply strings together. The operators \"+\" can work with strings in Python.\n",
    "\n",
    "Python doesn't care if multiplying strings (repeating) is wrong, or adding numeric strings and conjoining them is wrong."
   ]
  },
  {
   "cell_type": "code",
   "execution_count": 44,
   "metadata": {},
   "outputs": [
    {
     "name": "stdout",
     "output_type": "stream",
     "text": [
      "My first string\n",
      "My first string is beautiful!\n",
      "My first stringMy first string\n"
     ]
    }
   ],
   "source": [
    "# My code here\n",
    "print(x)\n",
    "print(x + ' is beautiful!')\n",
    "print(x * 2)\n",
    "# print(x / 2) -- Doesn't work"
   ]
  },
  {
   "cell_type": "code",
   "execution_count": 46,
   "metadata": {},
   "outputs": [
    {
     "data": {
      "text/plain": [
       "'3.22.2'"
      ]
     },
     "execution_count": 46,
     "metadata": {},
     "output_type": "execute_result"
    }
   ],
   "source": [
    "x = '3.2'\n",
    "y = '2.2'\n",
    "x + y # This is not our intended result! Python just merged the two values, didn't actually add them."
   ]
  },
  {
   "cell_type": "markdown",
   "metadata": {},
   "source": [
    "### String Slicing\n",
    "\n",
    "You can select certain characters by slicing strings:\n",
    "* 'My_first_string' has 15 characters, but it is indexed from 0 to 14\n",
    "\n",
    " * Python is 0-based, so \"M\" is in position 0\n",
    " * x[1] selects the second character\n",
    " * x[5:8] selects \"rst\" because it doesn't include the last bound\n",
    " * x[-1] selects the last value (Not 0 indexed in reverse)"
   ]
  },
  {
   "cell_type": "code",
   "execution_count": 58,
   "metadata": {},
   "outputs": [
    {
     "name": "stdout",
     "output_type": "stream",
     "text": [
      "y\n",
      "rst\n",
      "My \n",
      "g\n",
      "ring\n"
     ]
    }
   ],
   "source": [
    "# My code here\n",
    "x = 'My first string'\n",
    "print(x[1])\n",
    "print(x[5:8])\n",
    "print(x[0:3])\n",
    "print(x[-1])\n",
    "print(x[-4:])"
   ]
  },
  {
   "cell_type": "markdown",
   "metadata": {},
   "source": [
    "### String Immutability\n",
    "\n",
    "Some objects are \"mutable\", or changeable. Others are \"immutible\".\n",
    "* Immutible objects require a different method to be able to change them\n",
    "* Strings need special method to change them: REPLACE\n",
    "\n",
    "Why are some objects immutible? It's as if Python is helping you to defent against the user. This ensures the consistency of the object when it is immutible. If we need to change it, it's a little bit harder."
   ]
  },
  {
   "cell_type": "code",
   "execution_count": 68,
   "metadata": {},
   "outputs": [
    {
     "name": "stdout",
     "output_type": "stream",
     "text": [
      "My second string\n",
      "15\n"
     ]
    }
   ],
   "source": [
    "# My code here\n",
    "x = 'My first string'\n",
    "\n",
    "# x[3:8] = 'second' -- Doesn't work because strings cannot be assined objects\n",
    "\n",
    "print(x.replace('first', 'second'))\n",
    "print(len(x))"
   ]
  },
  {
   "cell_type": "markdown",
   "metadata": {},
   "source": [
    "**Exercise**: Create a variable `first_name` and `last_name` with your names. Then:\n",
    "\n",
    "- Concatenate as last name, first name. E.g. Mignozzetti, Umberto\n",
    "- Display only the first letters of your names. E.g. UM\n",
    "- Check the length of your first and last names."
   ]
  },
  {
   "cell_type": "code",
   "execution_count": 83,
   "metadata": {},
   "outputs": [
    {
     "name": "stdout",
     "output_type": "stream",
     "text": [
      "Lauren Galindo\n",
      "LG\n",
      "6 7\n"
     ]
    }
   ],
   "source": [
    "## Your answers here!\n",
    "first_name = 'Lauren'\n",
    "last_name = 'Galindo'\n",
    "\n",
    "print(first_name + ' ' + last_name)\n",
    "print(first_name[0] + last_name[0])\n",
    "print(len(first_name), len(last_name))"
   ]
  },
  {
   "cell_type": "markdown",
   "metadata": {},
   "source": [
    "### Find and replace parts of a string\n",
    "There are methods so that you don't have to count the exact place of characters you want to extract\n",
    "* You can find keywords with `find()`\n",
    "* The `replace` funciton doesn't save. You have to assign it to another variable if you want to keep it in your memory\n",
    "* You can capitalize/lowercase strings with `upper` and `lower`"
   ]
  },
  {
   "cell_type": "code",
   "execution_count": 91,
   "metadata": {},
   "outputs": [
    {
     "name": "stdout",
     "output_type": "stream",
     "text": [
      "My first string\n",
      "3\n",
      "My first string\n",
      "My last string\n",
      "MY LAST STRING\n"
     ]
    }
   ],
   "source": [
    "# My code here\n",
    "print(x)\n",
    "print(x.find('first')) # 3 is the position that the word started\n",
    "\n",
    "y = (x.replace('first', 'last'))\n",
    "print(x)\n",
    "print(y)\n",
    "\n",
    "print(y.upper())"
   ]
  },
  {
   "cell_type": "markdown",
   "metadata": {},
   "source": [
    "**Exercise**: Change the `nice` for `ugly` in `myNiceString = 'My nice string'`. Then, change the answer to upper case.\n",
    "* Python knows that you are applying an operation then saving it with the same name"
   ]
  },
  {
   "cell_type": "code",
   "execution_count": 96,
   "metadata": {},
   "outputs": [
    {
     "name": "stdout",
     "output_type": "stream",
     "text": [
      "MY UGLY STRING\n",
      "my ugly string\n"
     ]
    }
   ],
   "source": [
    "## Your answers here!\n",
    "myNiceString = 'My nice string'\n",
    "\n",
    "myNiceString = myNiceString.replace(\"nice\", \"ugly\")\n",
    "\n",
    "print(myNiceString.upper())\n",
    "print(myNiceString.lower())"
   ]
  },
  {
   "cell_type": "markdown",
   "metadata": {},
   "source": [
    "## Dynamic typing\n",
    "Python is efficient. It erases old varialbes if you override them by asigning something new to them"
   ]
  },
  {
   "cell_type": "code",
   "execution_count": 102,
   "metadata": {},
   "outputs": [
    {
     "name": "stdout",
     "output_type": "stream",
     "text": [
      "3.0\n",
      "<class 'float'>\n"
     ]
    }
   ],
   "source": [
    "# My code here\n",
    "x = 'three'\n",
    "x = 3.0\n",
    "print(x)\n",
    "print(type(x))"
   ]
  },
  {
   "cell_type": "markdown",
   "metadata": {},
   "source": [
    "**Exercise**:\n",
    "\n",
    "- Create a variable x with number 3 inside\n",
    "- Find its type\n",
    "- Change for '3'\n",
    "- Check its type now"
   ]
  },
  {
   "cell_type": "code",
   "execution_count": 103,
   "metadata": {},
   "outputs": [
    {
     "data": {
      "text/plain": [
       "str"
      ]
     },
     "execution_count": 103,
     "metadata": {},
     "output_type": "execute_result"
    }
   ],
   "source": [
    "## Your answers here!\n",
    "x = 3\n",
    "x = '3'\n",
    "type(x)"
   ]
  },
  {
   "cell_type": "markdown",
   "metadata": {},
   "source": [
    "## Tuples\n",
    "* Tuples are sequences of immutible objects\n",
    "* You have to seperate each value with commas\n",
    "* If you try to replace values in a tuple, you get an error"
   ]
  },
  {
   "cell_type": "code",
   "execution_count": 111,
   "metadata": {},
   "outputs": [
    {
     "name": "stdout",
     "output_type": "stream",
     "text": [
      "('x', 3, 3, 'house')\n"
     ]
    }
   ],
   "source": [
    "# My code here\n",
    "tpl = 'x', 3, 3, 'house'\n",
    "print(tpl)\n",
    "# tpl[0] = 'y' immutible!"
   ]
  },
  {
   "cell_type": "markdown",
   "metadata": {},
   "source": [
    "**Exercise**: Create a tuple with:\n",
    "\n",
    "- 'I want'\n",
    "- 3\n",
    "- 'cups of coffee'\n",
    "- 'now!'"
   ]
  },
  {
   "cell_type": "code",
   "execution_count": 114,
   "metadata": {},
   "outputs": [
    {
     "name": "stdout",
     "output_type": "stream",
     "text": [
      "('I want', 3, 'cups of coffee', 'now!')\n"
     ]
    },
    {
     "data": {
      "text/plain": [
       "4"
      ]
     },
     "execution_count": 114,
     "metadata": {},
     "output_type": "execute_result"
    }
   ],
   "source": [
    "## Your answers here!\n",
    "tpl2 = 'I want', 3, 'cups of coffee', 'now!'\n",
    "print(tpl2)\n",
    "type(tpl2)\n",
    "len(tpl2)"
   ]
  },
  {
   "cell_type": "markdown",
   "metadata": {},
   "source": [
    "## Lists\n",
    "Similar to a tuple, but it is mutable!\n",
    "* Use `[]`\n",
    "* Reassign values with brackets and position number!\n",
    "* Great if you are working with dynamic data\n",
    "\n",
    "* You can put a list inside a list by using `[[]]`"
   ]
  },
  {
   "cell_type": "code",
   "execution_count": 148,
   "metadata": {},
   "outputs": [
    {
     "name": "stdout",
     "output_type": "stream",
     "text": [
      "[1, 2, 3, 4]\n",
      "4\n",
      "<class 'list'>\n"
     ]
    },
    {
     "data": {
      "text/plain": [
       "[1, -2, 3, 4]"
      ]
     },
     "execution_count": 148,
     "metadata": {},
     "output_type": "execute_result"
    }
   ],
   "source": [
    "# My code here\n",
    "L = [1,2,3,4]\n",
    "print(L)\n",
    "print(len(L))\n",
    "print(type(L))\n",
    "L[1] = -2\n",
    "L"
   ]
  },
  {
   "cell_type": "code",
   "execution_count": 149,
   "metadata": {},
   "outputs": [
    {
     "data": {
      "text/plain": [
       "[1, 'two', 3, 4]"
      ]
     },
     "execution_count": 149,
     "metadata": {},
     "output_type": "execute_result"
    }
   ],
   "source": [
    "L[1] = 'two'\n",
    "L"
   ]
  },
  {
   "cell_type": "markdown",
   "metadata": {},
   "source": [
    "**Exercise**: Create a list with the following elements:\n",
    "\n",
    "- 'I want'\n",
    "- 3\n",
    "- 'cups of coffee'\n",
    "- 'now!'\n",
    "\n",
    "Now:\n",
    "\n",
    "1. Find the length of this list\n",
    "2. Use the first and last element to create: 'I want coffee now!'"
   ]
  },
  {
   "cell_type": "code",
   "execution_count": 152,
   "metadata": {},
   "outputs": [
    {
     "name": "stdout",
     "output_type": "stream",
     "text": [
      "['I want', 3, 'cups of coffee', 'now!']\n",
      "4\n",
      "I want cups of coffee now!\n"
     ]
    }
   ],
   "source": [
    "## Your answers here!\n",
    "L2 = ['I want', 3, 'cups of coffee', 'now!']\n",
    "\n",
    "print(L2)\n",
    "\n",
    "print(len(L2))\n",
    "print(L2[0] + ' '+ L2[2] +' '+ L2[3])"
   ]
  },
  {
   "cell_type": "markdown",
   "metadata": {},
   "source": [
    "### Methods and slicing"
   ]
  },
  {
   "cell_type": "code",
   "execution_count": 151,
   "metadata": {},
   "outputs": [
    {
     "name": "stdout",
     "output_type": "stream",
     "text": [
      "[1, 'three', 'minus 1', 4]\n",
      "three\n",
      "minus 1\n",
      "[1, ['three', 'minus 1'], 4]\n"
     ]
    }
   ],
   "source": [
    "# My code here\n",
    "print(L)\n",
    "print(L[1])\n",
    "print(L[-2])\n",
    "\n",
    "L[1:3] = [['three', 'minus 1']]\n",
    "print(L)"
   ]
  },
  {
   "cell_type": "markdown",
   "metadata": {},
   "source": [
    "### Special Methods"
   ]
  },
  {
   "cell_type": "code",
   "execution_count": 18,
   "metadata": {},
   "outputs": [],
   "source": [
    "# My code here"
   ]
  },
  {
   "cell_type": "markdown",
   "metadata": {},
   "source": [
    "### Sort and reverse"
   ]
  },
  {
   "cell_type": "code",
   "execution_count": 19,
   "metadata": {},
   "outputs": [],
   "source": [
    "# My code here"
   ]
  },
  {
   "cell_type": "markdown",
   "metadata": {},
   "source": [
    "**Exercise**: Create a list with the following elements:\n",
    "\n",
    "- 'QTM'\n",
    "- 385\n",
    "\n",
    "Now sort them."
   ]
  },
  {
   "cell_type": "code",
   "execution_count": 20,
   "metadata": {},
   "outputs": [],
   "source": [
    "## Your answers here!"
   ]
  },
  {
   "cell_type": "markdown",
   "metadata": {},
   "source": [
    "### Out of boundaries"
   ]
  },
  {
   "cell_type": "code",
   "execution_count": 21,
   "metadata": {},
   "outputs": [],
   "source": [
    "# My code here"
   ]
  },
  {
   "cell_type": "markdown",
   "metadata": {},
   "source": [
    "### Nesting"
   ]
  },
  {
   "cell_type": "code",
   "execution_count": 22,
   "metadata": {},
   "outputs": [],
   "source": [
    "# My code here"
   ]
  },
  {
   "cell_type": "markdown",
   "metadata": {},
   "source": [
    "**Exercise**: Create a list with the following elements:\n",
    "\n",
    "- ['QTM', '385']\n",
    "- ['Professor','Umberto']\n",
    "- ['Student', YOUR FIRST NAME, YOUR LAST NAME]"
   ]
  },
  {
   "cell_type": "code",
   "execution_count": 23,
   "metadata": {},
   "outputs": [],
   "source": [
    "## Your answers here!"
   ]
  },
  {
   "cell_type": "markdown",
   "metadata": {},
   "source": [
    "**Great job!!!**"
   ]
  }
 ],
 "metadata": {
  "kernelspec": {
   "display_name": "Python 3",
   "language": "python",
   "name": "python3"
  },
  "language_info": {
   "codemirror_mode": {
    "name": "ipython",
    "version": 3
   },
   "file_extension": ".py",
   "mimetype": "text/x-python",
   "name": "python",
   "nbconvert_exporter": "python",
   "pygments_lexer": "ipython3",
   "version": "3.8.3"
  }
 },
 "nbformat": 4,
 "nbformat_minor": 4
}
