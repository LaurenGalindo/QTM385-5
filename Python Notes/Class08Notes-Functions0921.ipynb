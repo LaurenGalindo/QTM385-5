{
 "cells": [
  {
   "cell_type": "markdown",
   "metadata": {},
   "source": [
    "# QTM 385\n",
    "\n",
    "> Functions"
   ]
  },
  {
   "cell_type": "markdown",
   "metadata": {},
   "source": [
    "# Python functions"
   ]
  },
  {
   "cell_type": "markdown",
   "metadata": {},
   "source": [
    "In this class, we will create functions using Python.\n",
    "\n",
    "Functions are great for two things:\n",
    "\n",
    "1. Maximizing code reuse and minimizing redundancy\n",
    "2. Procedural decomposition\n",
    "\n",
    "First, if you catch yourself copying and pasting code around, it means that a function could help you up. \n",
    "\n",
    "Second, functions are great ways to compartimentalize the code. If you have an error, functions can help you determine where you went wrong, instead of messing up multiple times.\n",
    "\n",
    "Let's check an example function?"
   ]
  },
  {
   "cell_type": "markdown",
   "metadata": {},
   "source": [
    "## The `def` statement\n",
    "\n",
    "The `def` statement creates functions in Python. The way it works is fairly simple:\n",
    "\n",
    "```\n",
    "# One example\n",
    "def name(arg1, arg2,... argN):\n",
    "    statements\n",
    "    \n",
    "# Another example\n",
    "def name(arg1, arg2,... argN):\n",
    "    statements\n",
    "    return something_here\n",
    "```\n",
    "\n",
    "Your function has to have a `name,` it receives a bunch of `arguments,` and inside it, you put `statements,` that are supposed to do something with the arguments, and (eventually) `return`s a result."
   ]
  },
  {
   "cell_type": "code",
   "execution_count": 5,
   "metadata": {},
   "outputs": [],
   "source": [
    "# Create a function\n",
    "def square(n):\n",
    "    return(n**2)"
   ]
  },
  {
   "cell_type": "code",
   "execution_count": 6,
   "metadata": {},
   "outputs": [],
   "source": [
    "def times(a1, a2):\n",
    "    return a1 * a2"
   ]
  },
  {
   "cell_type": "markdown",
   "metadata": {},
   "source": [
    "Due to rounding problems, the code below won't be a clean number."
   ]
  },
  {
   "cell_type": "code",
   "execution_count": 8,
   "metadata": {},
   "outputs": [
    {
     "data": {
      "text/plain": [
       "4.620000000000001"
      ]
     },
     "execution_count": 8,
     "metadata": {},
     "output_type": "execute_result"
    }
   ],
   "source": [
    "times(2.1, 2.2)"
   ]
  },
  {
   "cell_type": "markdown",
   "metadata": {},
   "source": [
    "You can even input `string` $\\times$ `number` to duplicate it"
   ]
  },
  {
   "cell_type": "code",
   "execution_count": 9,
   "metadata": {},
   "outputs": [
    {
     "data": {
      "text/plain": [
       "'QTMQTMQTMQTMQTMQTMQTMQTMQTMQTM'"
      ]
     },
     "execution_count": 9,
     "metadata": {},
     "output_type": "execute_result"
    }
   ],
   "source": [
    "times('QTM', 10)"
   ]
  },
  {
   "cell_type": "markdown",
   "metadata": {},
   "source": [
    "**Exercise**: Create a function that receives a number, and compute the remainder (%) of a division by two."
   ]
  },
  {
   "cell_type": "code",
   "execution_count": 14,
   "metadata": {},
   "outputs": [
    {
     "data": {
      "text/plain": [
       "1"
      ]
     },
     "execution_count": 14,
     "metadata": {},
     "output_type": "execute_result"
    }
   ],
   "source": [
    "## % is the symbol to extract the remainder\n",
    "def remainder2(n):\n",
    "    return n % 2"
   ]
  },
  {
   "cell_type": "code",
   "execution_count": 21,
   "metadata": {},
   "outputs": [
    {
     "data": {
      "text/plain": [
       "(0, 1, 0)"
      ]
     },
     "execution_count": 21,
     "metadata": {},
     "output_type": "execute_result"
    }
   ],
   "source": [
    "# Test\n",
    "remainder2(12), remainder2(3), remainder2(12)#, remainder2('H') -- Gives an error"
   ]
  },
  {
   "cell_type": "markdown",
   "metadata": {},
   "source": [
    "Make sure that your function uses `return` and NOT `print` because in this case, we are assigning NA to x instead of 0.\n",
    "\n",
    "Some functions do things but return nothing.\n",
    "Other functions do and return things to the user.\n",
    "\n",
    "Know when to return something and not. Implement the code accordingly."
   ]
  },
  {
   "cell_type": "code",
   "execution_count": 23,
   "metadata": {},
   "outputs": [
    {
     "name": "stdout",
     "output_type": "stream",
     "text": [
      "0\n",
      "None\n"
     ]
    }
   ],
   "source": [
    "def remainder2(n):\n",
    "    print(n % 2)\n",
    "\n",
    "x = remainder2(2)\n",
    "print(x)"
   ]
  },
  {
   "cell_type": "markdown",
   "metadata": {},
   "source": [
    "## Nesting statements inside functions\n",
    "\n",
    "We can also nest `if`s, `for`s, and `while`s inside functions. For example, we can create the command prompt from the previous quiz:"
   ]
  },
  {
   "cell_type": "code",
   "execution_count": 1,
   "metadata": {},
   "outputs": [],
   "source": [
    "# Mirror my prompt\n",
    "def my_prompt(): # This function recieves no argument\n",
    "    while True:\n",
    "        x = input('My prompt: <<\\o/>>: ')\n",
    "        if x == 'stop': \n",
    "            break\n",
    "        if x == 'Stop': \n",
    "            break\n",
    "        print(x[::-1]) #  begin:end:step"
   ]
  },
  {
   "cell_type": "code",
   "execution_count": null,
   "metadata": {},
   "outputs": [
    {
     "name": "stdout",
     "output_type": "stream",
     "text": [
      "My prompt: <<\\o/>>: 123\n",
      "321\n"
     ]
    }
   ],
   "source": [
    "my_prompt()"
   ]
  },
  {
   "cell_type": "markdown",
   "metadata": {},
   "source": [
    "As another example, we can build a function that matches two sequences:"
   ]
  },
  {
   "cell_type": "code",
   "execution_count": 31,
   "metadata": {},
   "outputs": [],
   "source": [
    "# Function that matches two sequences\n",
    "def intersect(s1, s2):\n",
    "    res = []               # Create an empty list\n",
    "    for x in s1:           # Select x in sequence 1\n",
    "        if x in s2:        # If x is also in sequence 2\n",
    "            res.append(x)  # Add the x to your list\n",
    "    return res"
   ]
  },
  {
   "cell_type": "code",
   "execution_count": 35,
   "metadata": {},
   "outputs": [
    {
     "data": {
      "text/plain": [
       "[1, 5]"
      ]
     },
     "execution_count": 35,
     "metadata": {},
     "output_type": "execute_result"
    }
   ],
   "source": [
    "x = [1, 2, '3', 4, 5, 8, 10]\n",
    "y = [1, 3, 5, 7, 9, 1]\n",
    "\n",
    "intersect(x,y)"
   ]
  },
  {
   "cell_type": "markdown",
   "metadata": {},
   "source": [
    "**Exercise**: Create a function that receives the weight (in pounds), and the height (in inches), and returns the BMI."
   ]
  },
  {
   "cell_type": "code",
   "execution_count": 81,
   "metadata": {},
   "outputs": [
    {
     "data": {
      "text/plain": [
       "23.028211337349866"
      ]
     },
     "execution_count": 81,
     "metadata": {},
     "output_type": "execute_result"
    }
   ],
   "source": [
    "## Your answers here!\n",
    "\n",
    "def bmi(weight, height):\n",
    "    \"\"\"Computes the Body Mass Index (BMI)\n",
    "    \n",
    "    Args:\n",
    "        weight (float): Weight in pounds\n",
    "        height (float): Height in inches\n",
    "        \n",
    "    Returns:\n",
    "        bmi: Body Mass Index\n",
    "    \"\"\"\n",
    "    from_pounds_to_kg = 0.453592\n",
    "    from_inches_to_m = 0.0254\n",
    "    \n",
    "    new_w = weight * from_pounds_to_kg\n",
    "    new_h = height * from_inches_to_m\n",
    "    \n",
    "    bmi = new_w/(new_h**2)\n",
    "    \n",
    "    return bmi\n",
    "    \n",
    "bmi(130, 63)"
   ]
  },
  {
   "cell_type": "code",
   "execution_count": 82,
   "metadata": {},
   "outputs": [
    {
     "name": "stdout",
     "output_type": "stream",
     "text": [
      "Computes the Body Mass Index (BMI)\n",
      "\n",
      "Args:\n",
      "    weight (float): Weight in pounds\n",
      "    height (float): Height in inches\n",
      "    \n",
      "Returns:\n",
      "    bmi: Body Mass Index\n"
     ]
    }
   ],
   "source": [
    "print(insp.getdoc(bmi))"
   ]
  },
  {
   "cell_type": "markdown",
   "metadata": {},
   "source": [
    "## Function behavior\n",
    "\n",
    "Note that the polymorphism of operators is carried out in the functions. Note also that the function `res` only exists inside the function. "
   ]
  },
  {
   "cell_type": "code",
   "execution_count": 63,
   "metadata": {
    "scrolled": true
   },
   "outputs": [],
   "source": [
    "# res() -- Can't be called"
   ]
  },
  {
   "cell_type": "markdown",
   "metadata": {},
   "source": [
    "**Exercise**: What happens if you try a text in your BMI function? Why do you think this happens?"
   ]
  },
  {
   "cell_type": "code",
   "execution_count": 7,
   "metadata": {},
   "outputs": [],
   "source": [
    "# bmi('text', 60) -- Trying to multiply float by integer won't work in this case\n",
    "# Polymorphism isn't working \n",
    "# Don't do this"
   ]
  },
  {
   "cell_type": "markdown",
   "metadata": {},
   "source": [
    "## Best practices with functions\n",
    "\n",
    "There are three best practices to adopt when writing a function:\n",
    "\n",
    "1. Document your function\n",
    "2. Don't repeat yourself\n",
    "3. Do one thing -- If your function does several things, you can split it up! This will help you realize where the mistakes are in your code. Try to split up in general."
   ]
  },
  {
   "cell_type": "code",
   "execution_count": 8,
   "metadata": {},
   "outputs": [],
   "source": [
    "# My code here"
   ]
  },
  {
   "cell_type": "markdown",
   "metadata": {},
   "source": [
    "### Google Style\n",
    "\n",
    "For example:\n",
    "\n",
    "```\n",
    "def myfunc(x):\n",
    "    \"\"\"Square the number. [What the function does]\n",
    "    \n",
    "    Args: [What does the function recieve?]\n",
    "        x (int): Number inserted by the user \n",
    "    \n",
    "    Returns: [What the function returns]\n",
    "        int \n",
    "    \"\"\"\n",
    "    return x ** 2\n",
    "```\n",
    "\n",
    "And now, the function has a `docstring` attached to it."
   ]
  },
  {
   "cell_type": "code",
   "execution_count": 66,
   "metadata": {},
   "outputs": [],
   "source": [
    "# My code here\n",
    "def myfunc(x):\n",
    "    \"\"\"Square the number. [What the function does]\n",
    "    \n",
    "    Args: [What does the function recieve?]\n",
    "        x (int): Number inserted by the user \n",
    "    \n",
    "    Returns: [What the function returns]\n",
    "        int \n",
    "    \"\"\"\n",
    "    return x ** 2"
   ]
  },
  {
   "cell_type": "code",
   "execution_count": 68,
   "metadata": {},
   "outputs": [
    {
     "data": {
      "text/plain": [
       "256"
      ]
     },
     "execution_count": 68,
     "metadata": {},
     "output_type": "execute_result"
    }
   ],
   "source": [
    "myfunc(16)"
   ]
  },
  {
   "cell_type": "code",
   "execution_count": 72,
   "metadata": {},
   "outputs": [
    {
     "name": "stdout",
     "output_type": "stream",
     "text": [
      "Square the number. [What the function does]\n",
      "    \n",
      "    Args: [What does the function recieve?]\n",
      "        x (int): Number inserted by the user \n",
      "    \n",
      "    Returns: [What the function returns]\n",
      "        int \n",
      "    \n"
     ]
    }
   ],
   "source": [
    "dir(myfunc)\n",
    "print(myfunc.__doc__)"
   ]
  },
  {
   "cell_type": "code",
   "execution_count": 70,
   "metadata": {},
   "outputs": [],
   "source": [
    "?myfunc # Displays the help page for this function"
   ]
  },
  {
   "cell_type": "code",
   "execution_count": 74,
   "metadata": {
    "collapsed": true
   },
   "outputs": [
    {
     "name": "stdout",
     "output_type": "stream",
     "text": [
      "print(value, ..., sep=' ', end='\\n', file=sys.stdout, flush=False)\n",
      "\n",
      "Prints the values to a stream, or to sys.stdout by default.\n",
      "Optional keyword arguments:\n",
      "file:  a file-like object (stream); defaults to the current sys.stdout.\n",
      "sep:   string inserted between values, default a space.\n",
      "end:   string appended after the last value, default a newline.\n",
      "flush: whether to forcibly flush the stream.\n"
     ]
    }
   ],
   "source": [
    "print(print.__doc__)"
   ]
  },
  {
   "cell_type": "code",
   "execution_count": 75,
   "metadata": {},
   "outputs": [],
   "source": [
    "import inspect as insp"
   ]
  },
  {
   "cell_type": "code",
   "execution_count": 77,
   "metadata": {
    "scrolled": true
   },
   "outputs": [
    {
     "name": "stdout",
     "output_type": "stream",
     "text": [
      "Square the number. [What the function does]\n",
      "\n",
      "Args: [What does the function recieve?]\n",
      "    x (int): Number inserted by the user \n",
      "\n",
      "Returns: [What the function returns]\n",
      "    int \n"
     ]
    }
   ],
   "source": [
    "insp.getdoc(myfunc)\n",
    "print(insp.getdoc(myfunc))"
   ]
  },
  {
   "cell_type": "code",
   "execution_count": 78,
   "metadata": {
    "scrolled": true
   },
   "outputs": [
    {
     "name": "stdout",
     "output_type": "stream",
     "text": [
      "type(object_or_name, bases, dict)\n",
      "type(object) -> the object's type\n",
      "type(name, bases, dict) -> a new type\n"
     ]
    }
   ],
   "source": [
    "print(insp.getdoc(type))"
   ]
  },
  {
   "cell_type": "markdown",
   "metadata": {},
   "source": [
    "### Don't repeat yourself\n",
    "\n",
    "When you find yourself repeating the code around, you probably need a function.\n",
    "\n",
    "Example:\n",
    "\n",
    "```\n",
    "# John\n",
    "bmi = 29\n",
    "if bmi > 28:\n",
    "    print(\"BMI higher than 28\")\n",
    "\n",
    "# Anna\n",
    "bmi = 22\n",
    "if bmi > 28:\n",
    "    print(\"BMI higher than 28\")\n",
    "\n",
    "# Lin\n",
    "bmi = 32\n",
    "if bmi > 28:\n",
    "    print(\"BMI higher than 28\")\n",
    "```\n",
    "\n",
    "We can build a function!"
   ]
  },
  {
   "cell_type": "code",
   "execution_count": 10,
   "metadata": {},
   "outputs": [],
   "source": [
    "# My code here"
   ]
  },
  {
   "cell_type": "markdown",
   "metadata": {},
   "source": [
    "### Don't repeat yourself\n",
    "\n",
    "When you find yourself repeating the code around, you probably need a function.\n",
    "\n",
    "Example:\n",
    "\n",
    "```\n",
    "# John\n",
    "bmi = 29\n",
    "if bmi > 28:\n",
    "    print(\"BMI higher than 28\")\n",
    "\n",
    "# Anna\n",
    "bmi = 22\n",
    "if bmi > 28:\n",
    "    print(\"BMI higher than 28\")\n",
    "\n",
    "# Lin\n",
    "bmi = 32\n",
    "if bmi > 28:\n",
    "    print(\"BMI higher than 28\")\n",
    "```\n",
    "\n",
    "* Issue: If there needs to be an adjustment, you have to manually do it to all 3 lines... This is tedious.\n",
    "* We can build a function!"
   ]
  },
  {
   "cell_type": "code",
   "execution_count": 93,
   "metadata": {},
   "outputs": [
    {
     "data": {
      "text/plain": [
       "('BMI is higher than 28', 'BMI is ok!', 'BMI is higher than 28')"
      ]
     },
     "execution_count": 93,
     "metadata": {},
     "output_type": "execute_result"
    }
   ],
   "source": [
    "# My code here\n",
    "def is_high(bmi):\n",
    "    \"\"\" Flags BMI higher than 28\n",
    "\n",
    "    Args:\n",
    "        bmi (int): BMI\n",
    "    \n",
    "    Returns:\n",
    "        None\n",
    "    \"\"\"\n",
    "    if bmi > 28:\n",
    "        return \"BMI is higher than 28\"\n",
    "    else: \n",
    "        return \"BMI is ok!\"\n",
    "\n",
    "is_high(29), is_high(22), is_high(32)#, is_high('House') -- Doesn't work because \n",
    "                                     #\">\" doesnt work between strings and integers"
   ]
  },
  {
   "cell_type": "markdown",
   "metadata": {},
   "source": [
    "**Exercise**: Create a documented function that receives the weight in pounds, the height in inches, and return a tuple with BMI, and the words Low, Normal, High, based on the BMI."
   ]
  },
  {
   "cell_type": "code",
   "execution_count": 101,
   "metadata": {},
   "outputs": [],
   "source": [
    "## Your answers here!\n",
    "def new_funct(weight,height):\n",
    "    \"\"\" BMI Classifier\n",
    "    \n",
    "    Inputs:\n",
    "        weight (int): weight in pounds\n",
    "        height (int): height in inches\n",
    "        \n",
    "    Output:\n",
    "        BMI\n",
    "        status: Low, Normal, High\n",
    "    \"\"\"\n",
    "    from_pounds_to_kg = 0.453592\n",
    "    from_inches_to_m = 0.0254\n",
    "    new_w = weight * from_pounds_to_kg\n",
    "    new_h = height * from_inches_to_m\n",
    "    \n",
    "    bmi = new_w/(new_h**2)\n",
    "    \n",
    "    if bmi > 30:\n",
    "        status = \"High\"\n",
    "    if bmi < 20: \n",
    "        status = \"Low\"\n",
    "    else:\n",
    "        status = \"Normal\"\n",
    "    return bmi, status"
   ]
  },
  {
   "cell_type": "code",
   "execution_count": 102,
   "metadata": {},
   "outputs": [
    {
     "data": {
      "text/plain": [
       "(37.49701366069399, 'Normal')"
      ]
     },
     "execution_count": 102,
     "metadata": {},
     "output_type": "execute_result"
    }
   ],
   "source": [
    "new_funct(12,15)"
   ]
  },
  {
   "cell_type": "markdown",
   "metadata": {},
   "source": [
    "### Do one thing\n",
    "\n",
    "The function we created here returns two values. Let's fix it?"
   ]
  },
  {
   "cell_type": "code",
   "execution_count": 13,
   "metadata": {},
   "outputs": [],
   "source": [
    "# My code here"
   ]
  },
  {
   "cell_type": "markdown",
   "metadata": {},
   "source": [
    "**Great job!!!**"
   ]
  }
 ],
 "metadata": {
  "kernelspec": {
   "display_name": "Python 3",
   "language": "python",
   "name": "python3"
  },
  "language_info": {
   "codemirror_mode": {
    "name": "ipython",
    "version": 3
   },
   "file_extension": ".py",
   "mimetype": "text/x-python",
   "name": "python",
   "nbconvert_exporter": "python",
   "pygments_lexer": "ipython3",
   "version": "3.8.3"
  }
 },
 "nbformat": 4,
 "nbformat_minor": 4
}
