{
 "cells": [
  {
   "cell_type": "markdown",
   "metadata": {},
   "source": [
    "# QTM 385\n",
    "\n",
    "> Statements, Conditional Statements, While Loops"
   ]
  },
  {
   "cell_type": "markdown",
   "metadata": {},
   "source": [
    "## Conditional Statements\n",
    "If something is the case, we want to create a loop that does something with the data."
   ]
  },
  {
   "cell_type": "code",
   "execution_count": 1,
   "metadata": {},
   "outputs": [
    {
     "data": {
      "text/plain": [
       "True"
      ]
     },
     "execution_count": 1,
     "metadata": {},
     "output_type": "execute_result"
    }
   ],
   "source": [
    "2>0"
   ]
  },
  {
   "cell_type": "code",
   "execution_count": 2,
   "metadata": {},
   "outputs": [
    {
     "data": {
      "text/plain": [
       "True"
      ]
     },
     "execution_count": 2,
     "metadata": {},
     "output_type": "execute_result"
    }
   ],
   "source": [
    "2 in [1,2,3]"
   ]
  },
  {
   "cell_type": "markdown",
   "metadata": {},
   "source": [
    "__ Or __ gives the following results :\n",
    "* True + True = True\n",
    "* True + False = False\n",
    "* False + True = False\n",
    "* False + False = False"
   ]
  },
  {
   "cell_type": "code",
   "execution_count": 3,
   "metadata": {},
   "outputs": [
    {
     "data": {
      "text/plain": [
       "False"
      ]
     },
     "execution_count": 3,
     "metadata": {},
     "output_type": "execute_result"
    }
   ],
   "source": [
    "c1 = 1 > 2\n",
    "c2 = 2 > 3\n",
    "c1 or c2"
   ]
  },
  {
   "cell_type": "code",
   "execution_count": 12,
   "metadata": {},
   "outputs": [
    {
     "name": "stdout",
     "output_type": "stream",
     "text": [
      "Two isnt bigger than one\n",
      "Try again\n"
     ]
    }
   ],
   "source": [
    "if 2 < 1:\n",
    "    print('Two is bigger than one!\\nThe condition has been met')\n",
    "else:\n",
    "    print('Two isnt bigger than one\\nTry again')"
   ]
  },
  {
   "cell_type": "code",
   "execution_count": 13,
   "metadata": {},
   "outputs": [
    {
     "name": "stdout",
     "output_type": "stream",
     "text": [
      "I am always True\n",
      "\n"
     ]
    }
   ],
   "source": [
    "if True:\n",
    "    print('I am always True\\n')"
   ]
  },
  {
   "cell_type": "code",
   "execution_count": 31,
   "metadata": {},
   "outputs": [
    {
     "name": "stdout",
     "output_type": "stream",
     "text": [
      "Some code is happening here...\n",
      "This is my inside if...\n",
      "Some more code is happening here...\n",
      "4 is Greater than 1\n",
      "5 is Greater than 1\n"
     ]
    }
   ],
   "source": [
    "print('Some code is happening here...')\n",
    "\n",
    "if 2 > 1:\n",
    "    print('This is my inside if...')\n",
    "    \n",
    "print('Some more code is happening here...')\n",
    "\n",
    "for i in [0,1,-2,4,5]:\n",
    "    if i > 1:\n",
    "        print(i, 'is Greater than 1')"
   ]
  },
  {
   "cell_type": "code",
   "execution_count": 78,
   "metadata": {},
   "outputs": [
    {
     "name": "stdout",
     "output_type": "stream",
     "text": [
      "The condition is satisfied!\n"
     ]
    }
   ],
   "source": [
    "cond = True\n",
    "# cond = False\n",
    "\n",
    "# If statements can be in one line... be careful here!\n",
    "if cond: print('The condition is satisfied!')"
   ]
  },
  {
   "cell_type": "code",
   "execution_count": 25,
   "metadata": {},
   "outputs": [
    {
     "name": "stdout",
     "output_type": "stream",
     "text": [
      "my x\n",
      "my y\n",
      "my z\n"
     ]
    }
   ],
   "source": [
    "for i in 'xyz':\n",
    "    print('my '+i)"
   ]
  },
  {
   "cell_type": "code",
   "execution_count": 32,
   "metadata": {},
   "outputs": [
    {
     "name": "stdout",
     "output_type": "stream",
     "text": [
      "first step...\n",
      "second step...\n",
      "last step...\n"
     ]
    }
   ],
   "source": [
    "if 2>1:\n",
    "    print('first step...')\n",
    "    print('second step...')\n",
    "    print('last step...')"
   ]
  },
  {
   "cell_type": "markdown",
   "metadata": {},
   "source": [
    "Print if the condition is satisfied, and not if it isn't.\n",
    "\n",
    "When there is a fork in the path... use if + else"
   ]
  },
  {
   "cell_type": "code",
   "execution_count": 34,
   "metadata": {},
   "outputs": [
    {
     "name": "stdout",
     "output_type": "stream",
     "text": [
      "The condition failed\n"
     ]
    }
   ],
   "source": [
    "cond = False\n",
    "\n",
    "if cond:\n",
    "    print('The condition is satisfied!')\n",
    "else:\n",
    "    print('The condition failed')"
   ]
  },
  {
   "cell_type": "markdown",
   "metadata": {},
   "source": [
    "## Exercise:\n",
    "Ask user for a text. If it has more than 20 characters, display \"You really like to write!\""
   ]
  },
  {
   "cell_type": "code",
   "execution_count": 39,
   "metadata": {},
   "outputs": [
    {
     "name": "stdout",
     "output_type": "stream",
     "text": [
      "What's on your mind? 12345678901234567890123\n",
      "Wow, you really like to write!\n"
     ]
    }
   ],
   "source": [
    "my_text = input(\"What's on your mind? \")\n",
    "\n",
    "if len(my_text)>20:\n",
    "    print('Wow, you really like to write!')\n",
    "else:\n",
    "    print('Short and sweet.')\n",
    "    print('\\nI think you should elaborate')"
   ]
  },
  {
   "cell_type": "markdown",
   "metadata": {},
   "source": [
    "## Python Hierarchy\n",
    "\n",
    "1. Programs are composed of modules.\n",
    "\n",
    "2. Modules contain statements.\n",
    "\n",
    "3. Statements contain expressions.\n",
    "\n",
    "4. Expressions create and process objects.\n",
    "\n",
    "**Statements**: things you tell Python it should do."
   ]
  },
  {
   "cell_type": "markdown",
   "metadata": {},
   "source": [
    "## Types of Statements\n",
    "\n",
    "There are several types of statements in Python:\n",
    "\n",
    "| Statement                   | Role                         |\n",
    "|-----------------------------|------------------------------|\n",
    "| Assignment                  | Creating references          |\n",
    "| Calls and other expressions | Running functions            |\n",
    "| print calls                 | Printing objects             |\n",
    "| if/elif/else                | Selecting actions            |\n",
    "| for/else                    | Iteration                    |\n",
    "| while/else                  | General loops                |\n",
    "| pass                        | Empty placeholder            |\n",
    "| break                       | Loop exit                    |\n",
    "| continue                    | Loop continue                |\n",
    "| def                         | Functions and methods        |\n",
    "| return                      | Functions results            |\n",
    "| yield                       | Generator functions          |\n",
    "| global                      | Namespaces                   |\n",
    "| nonlocal                    | Namespaces (3.X)             |\n",
    "| import                      | Module access                |\n",
    "| from                        | Attribute access             |\n",
    "| class                       | Building objects             |\n",
    "| try/except/ finally         | Catching exceptions          |\n",
    "| raise                       | Triggering exceptions        |\n",
    "| assert                      | Debugging checks             |\n",
    "| with/as                     | Context managers (3.X, 2.6+) |\n",
    "| del                         | Deleting references          |\n",
    "\n",
    "Each statement has its own specific purpose and its own operation rules. We did learn some of those by now. We will learn some more.\n",
    "\n",
    "## Today's Agenda\n",
    "\n",
    "1. Perfecting if-else (if-elif-else)\n",
    "\n",
    "2. Learn boolean types\n",
    "\n",
    "3. Learn `while` loops\n",
    "\n",
    "****"
   ]
  },
  {
   "cell_type": "markdown",
   "metadata": {},
   "source": [
    "## If-elif-else"
   ]
  },
  {
   "cell_type": "markdown",
   "metadata": {},
   "source": [
    "The basic syntax for this is:\n",
    "\n",
    "```\n",
    "if test1:                 # if test\n",
    "    statements1           # Associated block\n",
    "elif test2:               # Optional elifs\n",
    "    statements2\n",
    "else:                     # Optional else\n",
    "    statements3\n",
    "```\n",
    "\n",
    "* `if` is a test for Python\n",
    "* `elif` is the same as \"else if\"\n",
    "* `else` this is your last alternative option"
   ]
  },
  {
   "cell_type": "code",
   "execution_count": 44,
   "metadata": {},
   "outputs": [
    {
     "name": "stdout",
     "output_type": "stream",
     "text": [
      "Choose a sandwich: spam, ham, house or other? other\n",
      "not ok choice!\n"
     ]
    }
   ],
   "source": [
    "# My code here\n",
    "choice = input('Choose a sandwich: spam, ham, house or other? ')\n",
    "\n",
    "if choice == 'spam':\n",
    "    print('great choice!')\n",
    "elif choice == 'ham':\n",
    "    print('ok choice')\n",
    "elif choice == 'house':\n",
    "    print('Awesome choice')\n",
    "else:\n",
    "    print('not ok choice!')"
   ]
  },
  {
   "cell_type": "markdown",
   "metadata": {},
   "source": [
    "**Exercise**: A paper just out at [PLOS One](https://journals.plos.org/plosone/article?id=10.1371/journal.pone.0247023) showed that people with low or high BMI have higher chance of severe COVID. Create an if-elif-else to warn the person.\n",
    "**Note: Low BMI < 18, High BMI > 30**"
   ]
  },
  {
   "cell_type": "code",
   "execution_count": 65,
   "metadata": {},
   "outputs": [
    {
     "name": "stdout",
     "output_type": "stream",
     "text": [
      "You are at a higher chance of severe COVID.\n"
     ]
    }
   ],
   "source": [
    "## Your answers here!\n",
    "bmi = 1\n",
    "#-12    -- BMIs cannot be negative but the code still runs.\n",
    "#input('What is your BMI? ') -- Doesn't work because it gets saved as string. Not number.\n",
    "\n",
    "if (bmi >=0 and bmi < 15) or bmi > 30:    # Combining multiple lines in one\n",
    "                                          # Make sure to use parenthesis! Errors occur if you don't\n",
    "    print(\"You are at a higher chance of severe COVID.\")\n",
    "elif bmi >= 15 and bmi <=30:\n",
    "    print('Low risk!')\n",
    "else:\n",
    "    print('Not a valid number!')"
   ]
  },
  {
   "cell_type": "markdown",
   "metadata": {},
   "source": [
    "### Memberships and ifs"
   ]
  },
  {
   "cell_type": "code",
   "execution_count": 71,
   "metadata": {},
   "outputs": [
    {
     "name": "stdout",
     "output_type": "stream",
     "text": [
      "Not there!\n",
      "\n",
      "18\n"
     ]
    }
   ],
   "source": [
    "# Check for membership in a dictionary:\n",
    "D = {\n",
    "    'low': 18,\n",
    "    'ok': 25,\n",
    "    'high': 35\n",
    "}\n",
    "\n",
    "# Test 1\n",
    "if 'astronomical' in D:\n",
    "    print(D['astronomical\\n'])\n",
    "else:\n",
    "    print('Not there!\\n')\n",
    "    \n",
    "# Test 2    \n",
    "if 'low' in D:\n",
    "    print(D['low'])\n",
    "else:\n",
    "    print('Not there!')"
   ]
  },
  {
   "cell_type": "markdown",
   "metadata": {},
   "source": [
    "### Membership error\n",
    "```\n",
    "D['astronomical'] -- Gives you a key error\n",
    "```\n",
    "How do you deal with this error? \n",
    "**Try-except** is a good option"
   ]
  },
  {
   "cell_type": "code",
   "execution_count": 74,
   "metadata": {},
   "outputs": [
    {
     "ename": "KeyError",
     "evalue": "'astronomical'",
     "output_type": "error",
     "traceback": [
      "\u001b[0;31m---------------------------------------------------------------------------\u001b[0m",
      "\u001b[0;31mKeyError\u001b[0m                                  Traceback (most recent call last)",
      "\u001b[0;32m<ipython-input-74-5dac349ee055>\u001b[0m in \u001b[0;36m<module>\u001b[0;34m\u001b[0m\n\u001b[0;32m----> 1\u001b[0;31m \u001b[0mD\u001b[0m\u001b[0;34m[\u001b[0m\u001b[0;34m'astronomical'\u001b[0m\u001b[0;34m]\u001b[0m\u001b[0;34m\u001b[0m\u001b[0;34m\u001b[0m\u001b[0m\n\u001b[0m",
      "\u001b[0;31mKeyError\u001b[0m: 'astronomical'"
     ]
    }
   ],
   "source": [
    "D['astronomical']"
   ]
  },
  {
   "cell_type": "markdown",
   "metadata": {},
   "source": [
    "### Try-except"
   ]
  },
  {
   "cell_type": "code",
   "execution_count": 77,
   "metadata": {},
   "outputs": [
    {
     "name": "stdout",
     "output_type": "stream",
     "text": [
      "100\n"
     ]
    }
   ],
   "source": [
    "# Checking for membership\n",
    "D['astronomical'] = 100\n",
    "\n",
    "# Try-except is like IF but it's more special. Be careful with these\n",
    "try:\n",
    "    print(D['astronomical'])\n",
    "except KeyError:\n",
    "    print('Not a good key')"
   ]
  },
  {
   "cell_type": "markdown",
   "metadata": {},
   "source": [
    "## Boolean"
   ]
  },
  {
   "cell_type": "code",
   "execution_count": 5,
   "metadata": {},
   "outputs": [],
   "source": [
    "# My code here"
   ]
  },
  {
   "cell_type": "markdown",
   "metadata": {},
   "source": [
    "**Exercise**: Rewrite the previous warning exercise using only two lines. One for the BMI, and the other for the warning."
   ]
  },
  {
   "cell_type": "code",
   "execution_count": 6,
   "metadata": {},
   "outputs": [],
   "source": [
    "## Your answers here!"
   ]
  },
  {
   "cell_type": "markdown",
   "metadata": {},
   "source": [
    "## `while`"
   ]
  },
  {
   "cell_type": "markdown",
   "metadata": {},
   "source": [
    "The basic syntax for the `while` loop is:\n",
    "\n",
    "```\n",
    "while test:                     # Loop test\n",
    "    statements                  # Loop body\n",
    "else:                           # Optional else\n",
    "    statements                  # Run if didn't exit loop with break\n",
    "```"
   ]
  },
  {
   "cell_type": "code",
   "execution_count": 90,
   "metadata": {},
   "outputs": [
    {
     "name": "stdout",
     "output_type": "stream",
     "text": [
      "1\n",
      "2\n",
      "3\n",
      "  i\n",
      "   i\n",
      "    i\n"
     ]
    }
   ],
   "source": [
    "# My code here!\n",
    "for i in [1,2,3]: \n",
    "    print(i)\n",
    "\n",
    "for i in [1,2,3]: \n",
    "    print(i*' ','i')"
   ]
  },
  {
   "cell_type": "code",
   "execution_count": 91,
   "metadata": {},
   "outputs": [
    {
     "name": "stdout",
     "output_type": "stream",
     "text": [
      "0\n",
      "1\n",
      "2\n",
      "3\n",
      "4\n",
      "5\n",
      "6\n",
      "7\n",
      "8\n",
      "9\n"
     ]
    }
   ],
   "source": [
    "counter = 0\n",
    "while counter < 10:\n",
    "    print(counter)\n",
    "    counter +=1        # This will keep going forever if you dont specify limit! End the while!"
   ]
  },
  {
   "cell_type": "markdown",
   "metadata": {},
   "source": [
    "### Customizing the `while` loop\n",
    "\n",
    "There are several statements that we can use to make the `while` loop behave in the way we want:\n",
    "\n",
    "1. **break**: stops execution\n",
    "2. **continue**: jumps to the header.\n",
    "3. **pass**: does nothing, just keep going.\n",
    "4. loop **else** block: add an else block at the end of the loop\n",
    "\n",
    "And the basic syntax is:\n",
    "\n",
    "```\n",
    "while test:\n",
    "    statements\n",
    "    if test: break                 # Exit loop now, skip else if present\n",
    "    if test: continue              # Go to test at top of loop now\n",
    "else:\n",
    "    statements                     # Run if we didn't hit a 'break'\n",
    "```"
   ]
  },
  {
   "cell_type": "code",
   "execution_count": 94,
   "metadata": {},
   "outputs": [
    {
     "name": "stdout",
     "output_type": "stream",
     "text": [
      "0\n",
      "1\n",
      "2\n",
      "3\n",
      "4\n",
      "I'm done\n"
     ]
    }
   ],
   "source": [
    "# My code here!\n",
    "counter = 0\n",
    "while counter < 5:\n",
    "    print(counter)\n",
    "    counter +=1    \n",
    "else:                     # The else always goes at the end to close the loop\n",
    "    print(\"I'm done\")"
   ]
  },
  {
   "cell_type": "markdown",
   "metadata": {},
   "source": [
    "### continue\n",
    "`continue` makes it stop when counter = 3. The code on this loop won't be worked with. It's getting skipped and the loop continues without it."
   ]
  },
  {
   "cell_type": "code",
   "execution_count": 96,
   "metadata": {},
   "outputs": [
    {
     "name": "stdout",
     "output_type": "stream",
     "text": [
      "1\n",
      "2\n",
      "4\n",
      "5\n",
      "I'm done!\n"
     ]
    }
   ],
   "source": [
    "counter = 0\n",
    "while counter < 5:\n",
    "    counter +=1    \n",
    "    if counter == 3:\n",
    "        continue\n",
    "    print(counter)\n",
    "else:\n",
    "    print(\"I'm done!\")"
   ]
  },
  {
   "cell_type": "markdown",
   "metadata": {},
   "source": [
    "### break\n",
    "`break` stops the code and executes the if statement right away."
   ]
  },
  {
   "cell_type": "code",
   "execution_count": 113,
   "metadata": {},
   "outputs": [
    {
     "name": "stdout",
     "output_type": "stream",
     "text": [
      "1\n",
      "2\n",
      "I am at 3\n"
     ]
    }
   ],
   "source": [
    "# My code here\n",
    "counter = 0\n",
    "while counter < 5:\n",
    "    counter +=1    \n",
    "    if counter == 3:\n",
    "        print('I am at 3')\n",
    "        break\n",
    "    print(counter)\n",
    "else:\n",
    "    print(\"I'm done!\")"
   ]
  },
  {
   "cell_type": "markdown",
   "metadata": {},
   "source": [
    "### loop-else"
   ]
  },
  {
   "cell_type": "code",
   "execution_count": 11,
   "metadata": {},
   "outputs": [],
   "source": [
    "# My code here"
   ]
  },
  {
   "cell_type": "markdown",
   "metadata": {},
   "source": [
    "**Exercise**: Create a loop from 1 to 100 (increasing), that displays all the multiples of 2, 3, and 5."
   ]
  },
  {
   "cell_type": "code",
   "execution_count": 116,
   "metadata": {
    "collapsed": true
   },
   "outputs": [
    {
     "name": "stdout",
     "output_type": "stream",
     "text": [
      "2\n",
      "3\n",
      "4\n",
      "5\n",
      "6\n",
      "8\n",
      "9\n",
      "10\n",
      "12\n",
      "14\n",
      "15\n",
      "16\n",
      "18\n",
      "20\n",
      "21\n",
      "22\n",
      "24\n",
      "25\n",
      "26\n",
      "27\n",
      "28\n",
      "30\n",
      "32\n",
      "33\n",
      "34\n",
      "35\n",
      "36\n",
      "38\n",
      "39\n",
      "40\n",
      "42\n",
      "44\n",
      "45\n",
      "46\n",
      "48\n",
      "50\n",
      "51\n",
      "52\n",
      "54\n",
      "55\n",
      "56\n",
      "57\n",
      "58\n",
      "60\n",
      "62\n",
      "63\n",
      "64\n",
      "65\n",
      "66\n",
      "68\n",
      "69\n",
      "70\n",
      "72\n",
      "74\n",
      "75\n",
      "76\n",
      "78\n",
      "80\n",
      "81\n",
      "82\n",
      "84\n",
      "85\n",
      "86\n",
      "87\n",
      "88\n",
      "90\n",
      "92\n",
      "93\n",
      "94\n",
      "95\n",
      "96\n",
      "98\n",
      "99\n"
     ]
    }
   ],
   "source": [
    "## Your answers here!\n",
    "i = 1\n",
    "\n",
    "while i < 100:\n",
    "    if (i % 2 == 0) or (i % 3 == 0) or (i % 5 == 0):\n",
    "        print(i)\n",
    "    i +=1"
   ]
  },
  {
   "cell_type": "code",
   "execution_count": 109,
   "metadata": {},
   "outputs": [
    {
     "data": {
      "text/plain": [
       "2"
      ]
     },
     "execution_count": 109,
     "metadata": {},
     "output_type": "execute_result"
    }
   ],
   "source": [
    "counter % 3 # '%' is used to find the remainder"
   ]
  },
  {
   "cell_type": "markdown",
   "metadata": {},
   "source": [
    "## Counting lines in a book"
   ]
  },
  {
   "cell_type": "markdown",
   "metadata": {},
   "source": [
    "### Project Gutenberg\n",
    "\n",
    "Project Gutenberg is a website with many open books on it. You can check it out using the following URL: https://www.gutenberg.org"
   ]
  },
  {
   "cell_type": "markdown",
   "metadata": {},
   "source": [
    "### Find working directory"
   ]
  },
  {
   "cell_type": "code",
   "execution_count": 30,
   "metadata": {},
   "outputs": [],
   "source": [
    "# My code here"
   ]
  },
  {
   "cell_type": "markdown",
   "metadata": {},
   "source": [
    "### Open file and counting lines"
   ]
  },
  {
   "cell_type": "code",
   "execution_count": 14,
   "metadata": {},
   "outputs": [],
   "source": [
    "# My code here"
   ]
  },
  {
   "cell_type": "markdown",
   "metadata": {},
   "source": [
    "**Exercise**: Now count how many characters you have in the book."
   ]
  },
  {
   "cell_type": "code",
   "execution_count": 15,
   "metadata": {},
   "outputs": [],
   "source": [
    "## Your answers here!"
   ]
  },
  {
   "cell_type": "markdown",
   "metadata": {},
   "source": [
    "**Great job!!!**"
   ]
  }
 ],
 "metadata": {
  "kernelspec": {
   "display_name": "Python 3",
   "language": "python",
   "name": "python3"
  },
  "language_info": {
   "codemirror_mode": {
    "name": "ipython",
    "version": 3
   },
   "file_extension": ".py",
   "mimetype": "text/x-python",
   "name": "python",
   "nbconvert_exporter": "python",
   "pygments_lexer": "ipython3",
   "version": "3.8.3"
  }
 },
 "nbformat": 4,
 "nbformat_minor": 4
}
