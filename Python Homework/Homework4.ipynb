{
 "cells": [
  {
   "cell_type": "markdown",
   "metadata": {},
   "source": [
    "# QTM 385\n",
    "\n",
    "***\n",
    "\n",
    "## Homework 4\n",
    "\n",
    "Student: Lauren Galindo [ID: 2345756]"
   ]
  },
  {
   "cell_type": "markdown",
   "metadata": {},
   "source": [
    "In this homework, we will create an object called Student, that is useful for a professor to store information about a student."
   ]
  },
  {
   "cell_type": "markdown",
   "metadata": {},
   "source": [
    "\n",
    "***\n",
    "\n",
    "### Question 1\n",
    "\n",
    "Create a class Student, that has:\n",
    "\n",
    "0. Id number (5-digits integer, starting with 1)\n",
    "1. First Name (str)\n",
    "2. Last Name (str)\n",
    "3. Grades (list of floats)\n",
    "4. Credits (list of integers)\n",
    "5. Major (str)\n",
    "\n",
    "Provide a constructor for your class and create one fictitious student."
   ]
  },
  {
   "cell_type": "code",
   "execution_count": 1,
   "metadata": {},
   "outputs": [],
   "source": [
    "# Your answer here\n",
    "class Student():\n",
    "    def __init__(self, num, fn, ln, gr, cr, maj):\n",
    "        self.number = num\n",
    "        self.first = fn\n",
    "        self.last = ln\n",
    "        self.grades = gr\n",
    "        self.credits = cr\n",
    "        self.major = maj"
   ]
  },
  {
   "cell_type": "code",
   "execution_count": 2,
   "metadata": {},
   "outputs": [
    {
     "data": {
      "text/plain": [
       "[1.0, 0.99, 0.98]"
      ]
     },
     "execution_count": 2,
     "metadata": {},
     "output_type": "execute_result"
    }
   ],
   "source": [
    "stu = Student(12345, 'Larry', 'Guzman', [1.00,.99,.98], [3, 4, 3], 'Economics')\n",
    "stu.grades"
   ]
  },
  {
   "cell_type": "markdown",
   "metadata": {},
   "source": [
    "\n",
    "***\n",
    "\n",
    "### Question 2\n",
    "\n",
    "Create a method to nicely display the student when we type `print`. It should display, for example:\n",
    "\n",
    "```\n",
    "Student:\n",
    "    Id: 12345\n",
    "    Name: Mig, Umberto\n",
    "    Major: QSS\n",
    "```\n",
    "\n",
    "Create a method that, when a variable storing a student is typed in the console, displays:\n",
    "\n",
    "```\n",
    "Student(Mig, Umberto; 12345)\n",
    "```\n",
    "\n",
    "Provide some testing with a fictitious result of your choice."
   ]
  },
  {
   "cell_type": "code",
   "execution_count": 3,
   "metadata": {},
   "outputs": [],
   "source": [
    "# Your answer here\n",
    "class Student():\n",
    "    def __init__(self, num, fn, ln, gr, cr, maj):\n",
    "        self.number = num\n",
    "        self.first = fn\n",
    "        self.last = ln\n",
    "        self.grades = gr\n",
    "        self.credits = cr\n",
    "        self.major = maj\n",
    "        \n",
    "    def __str__(self):\n",
    "        st_info = \"\"\"\n",
    "Student:\n",
    "    Id: {num}\n",
    "    Name: {ln}, {fn}\n",
    "    Major: {maj}\n",
    "        \"\"\".format(num = self.number, ln = self.last, fn = self.first, maj = self.major)\n",
    "        return(st_info)\n",
    "        \n",
    "    def __repr__(self):\n",
    "        return \"Student({ln}, {fn}; {num})\".format(ln = self.last, fn = self.first, num = self.number)"
   ]
  },
  {
   "cell_type": "code",
   "execution_count": 4,
   "metadata": {},
   "outputs": [
    {
     "name": "stdout",
     "output_type": "stream",
     "text": [
      "\n",
      "Student:\n",
      "    Id: 12345\n",
      "    Name: Conda, Anna\n",
      "    Major: Economics\n",
      "        \n"
     ]
    },
    {
     "data": {
      "text/plain": [
       "Student(Conda, Anna; 12345)"
      ]
     },
     "execution_count": 4,
     "metadata": {},
     "output_type": "execute_result"
    }
   ],
   "source": [
    "stu = Student(num = 12345, fn='Anna', ln='Conda', gr=[1.00,.99,.98], cr=[3, 4, 3], maj='Economics')\n",
    "print(stu)\n",
    "stu"
   ]
  },
  {
   "cell_type": "markdown",
   "metadata": {},
   "source": [
    "\n",
    "***\n",
    "\n",
    "### Question 3\n",
    "\n",
    "Implement class methods for:\n",
    "\n",
    "1. Check if the id number is valid (remember: 5 digits, starting with number one)\n",
    "2. Check if the grades list has the same length as the credits list. The idea is that every grade corresponds to a course that gave the student a certain amount of credits.\n",
    "3. Append grade and credit: given a grade, and credits attached to the grade, append both to each respective place.\n",
    "\n",
    "Test your function with a toy student of your choice."
   ]
  },
  {
   "cell_type": "code",
   "execution_count": 5,
   "metadata": {},
   "outputs": [],
   "source": [
    "# Your answer here\n",
    "class Student():\n",
    "    def __init__(self, num, fn, ln, gr, cr, maj):\n",
    "        self.number = num\n",
    "        self.first = fn\n",
    "        self.last = ln\n",
    "        self.grades = gr\n",
    "        self.credits = cr\n",
    "        self.major = maj\n",
    "        \n",
    "    def __str__(self):\n",
    "        st_info = \"\"\"\n",
    "Student:\n",
    "    Id: {num}\n",
    "    Name: {ln}, {fn}\n",
    "    Major: {maj}\n",
    "        \"\"\".format(num = self.number, ln = self.last, fn = self.first, maj = self.major)\n",
    "        return(st_info)\n",
    "        \n",
    "    def __repr__(self):\n",
    "        return \"Student({ln}, {fn}; {num})\".format(ln = self.last, fn = self.first, num = self.number)\n",
    "    \n",
    "    def validity(self):\n",
    "        number = str(self.number)\n",
    "        if (list(number)[0] == \"1\") & (len(list(number)) == 5):\n",
    "            print('Valid ID:', number)\n",
    "        else:\n",
    "            print('Invalid ID:', number)\n",
    "            \n",
    "    def creditcheck(self):\n",
    "        if len(self.grades) == len(self.credits):\n",
    "            print('Number of Grades match Credits')\n",
    "        else:\n",
    "            print('There are an unequal number of grades and credits')\n",
    "    \n",
    "    def add_grcr(self, newgrade, newcredit):\n",
    "        self.grades.append(newgrade)\n",
    "        self.credits.append(newcredit)\n",
    "        print(\"Grades:\", self.grades, \"Credits: \", self.credits)"
   ]
  },
  {
   "cell_type": "code",
   "execution_count": 6,
   "metadata": {},
   "outputs": [],
   "source": [
    "stu = Student(num = 12345, fn='Anna', ln='Conda', gr=[1.00,.99,.98], cr=[4, 4, 4], maj='Economics')\n",
    "stu2 = Student(num = 1234, fn='Anna', ln='Conda', gr=[1.00,.99,.98], cr=[4, 4, 4, 4], maj='Economics')\n",
    "stu3 = Student(num = 91234, fn='Anna', ln='Conda', gr=[1.00,.99,.98], cr=[4, 4, 4], maj='Economics')"
   ]
  },
  {
   "cell_type": "code",
   "execution_count": 7,
   "metadata": {},
   "outputs": [
    {
     "name": "stdout",
     "output_type": "stream",
     "text": [
      "Valid ID: 12345\n",
      "Invalid ID: 1234\n",
      "Invalid ID: 91234\n"
     ]
    }
   ],
   "source": [
    "stu.validity()\n",
    "stu2.validity()\n",
    "stu3.validity()"
   ]
  },
  {
   "cell_type": "code",
   "execution_count": 8,
   "metadata": {},
   "outputs": [
    {
     "name": "stdout",
     "output_type": "stream",
     "text": [
      "Number of Grades match Credits\n",
      "There are an unequal number of grades and credits\n"
     ]
    }
   ],
   "source": [
    "stu.creditcheck()\n",
    "stu2.creditcheck()"
   ]
  },
  {
   "cell_type": "code",
   "execution_count": 9,
   "metadata": {},
   "outputs": [
    {
     "name": "stdout",
     "output_type": "stream",
     "text": [
      "Grades: [1.0, 0.99, 0.98, 0.87] Credits:  [4, 4, 4, 3]\n"
     ]
    }
   ],
   "source": [
    "stu.add_grcr(newgrade = .87, newcredit = 3)"
   ]
  },
  {
   "cell_type": "markdown",
   "metadata": {},
   "source": [
    "***\n",
    "\n",
    "### Question 4\n",
    "\n",
    "Create a module in the class Student that computes the unweighted average of the student's grades."
   ]
  },
  {
   "cell_type": "code",
   "execution_count": 10,
   "metadata": {},
   "outputs": [],
   "source": [
    "# Your answer here\n",
    "class Student():\n",
    "    def __init__(self, num, fn, ln, gr, cr, maj):\n",
    "        self.number = num\n",
    "        self.first = fn\n",
    "        self.last = ln\n",
    "        self.grades = gr\n",
    "        self.credits = cr\n",
    "        self.major = maj\n",
    "        \n",
    "    def __str__(self):\n",
    "        pass\n",
    "        \n",
    "    def __repr__(self):\n",
    "        pass\n",
    "    \n",
    "    def validity(self):\n",
    "        pass\n",
    "    \n",
    "    def creditcheck(self):\n",
    "        pass\n",
    "    \n",
    "    def add_grcr(self, newgrade, newcredit):\n",
    "        pass\n",
    "    \n",
    "    def unweight_avg(self):\n",
    "        return sum(self.grades)/len(self.grades)"
   ]
  },
  {
   "cell_type": "code",
   "execution_count": 11,
   "metadata": {},
   "outputs": [
    {
     "data": {
      "text/plain": [
       "0.8000000000000002"
      ]
     },
     "execution_count": 11,
     "metadata": {},
     "output_type": "execute_result"
    }
   ],
   "source": [
    "stu = Student(num = 12345, fn='Anna', ln='Conda', gr=[1.00,.6,.8], cr=[4, 1, 3], maj='Economics')\n",
    "stu.unweight_avg()"
   ]
  },
  {
   "cell_type": "markdown",
   "metadata": {},
   "source": [
    "\n",
    "***\n",
    "\n",
    "### Question 5\n",
    "\n",
    "Create a module in the class Student that computes the weighted average of the student's grades, weighted by the credits."
   ]
  },
  {
   "cell_type": "code",
   "execution_count": 12,
   "metadata": {},
   "outputs": [],
   "source": [
    "# Your answer here\n",
    "class Student():\n",
    "    def __init__(self, num, fn, ln, gr, cr, maj):\n",
    "        self.number = num\n",
    "        self.first = fn\n",
    "        self.last = ln\n",
    "        self.grades = gr\n",
    "        self.credits = cr\n",
    "        self.major = maj\n",
    "        \n",
    "    def __str__(self):\n",
    "        pass\n",
    "        \n",
    "    def __repr__(self):\n",
    "        pass\n",
    "    \n",
    "    def validity(self):\n",
    "        pass\n",
    "    \n",
    "    def creditcheck(self):\n",
    "        pass\n",
    "    \n",
    "    def add_grcr(self, newgrade, newcredit):\n",
    "        pass\n",
    "    \n",
    "    def unweight_avg(self):\n",
    "        return sum(self.grades)/len(self.grades)\n",
    "    \n",
    "    def weight_avg(self):\n",
    "        combined = []\n",
    "        for i in range(0, len(self.grades)):\n",
    "            combined.append(self.grades[i]*self.credits[i])\n",
    "        return sum(combined)/sum(self.credits)"
   ]
  },
  {
   "cell_type": "code",
   "execution_count": 13,
   "metadata": {},
   "outputs": [
    {
     "data": {
      "text/plain": [
       "0.875"
      ]
     },
     "execution_count": 13,
     "metadata": {},
     "output_type": "execute_result"
    }
   ],
   "source": [
    "stu = Student(num = 12345, fn='Anna', ln='Conda', gr=[1.00,.6,.8], cr=[4, 1, 3], maj='Economics')\n",
    "stu.weight_avg()"
   ]
  },
  {
   "cell_type": "markdown",
   "metadata": {},
   "source": [
    "**That's all, folks!**"
   ]
  }
 ],
 "metadata": {
  "kernelspec": {
   "display_name": "Python 3",
   "language": "python",
   "name": "python3"
  },
  "language_info": {
   "codemirror_mode": {
    "name": "ipython",
    "version": 3
   },
   "file_extension": ".py",
   "mimetype": "text/x-python",
   "name": "python",
   "nbconvert_exporter": "python",
   "pygments_lexer": "ipython3",
   "version": "3.8.3"
  }
 },
 "nbformat": 4,
 "nbformat_minor": 4
}
