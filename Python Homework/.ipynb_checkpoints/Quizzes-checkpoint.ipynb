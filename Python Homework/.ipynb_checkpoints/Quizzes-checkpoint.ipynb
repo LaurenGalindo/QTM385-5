{
 "cells": [
  {
   "cell_type": "markdown",
   "metadata": {},
   "source": [
    "# Quiz 5"
   ]
  },
  {
   "cell_type": "markdown",
   "metadata": {},
   "source": [
    "Create a 3x3 matrix with the following letters, starting with 'a'. Then:\n",
    "\n",
    "1. Extract the diagonal.\n",
    "2. Extract the diagonal and make it upper case."
   ]
  },
  {
   "cell_type": "code",
   "execution_count": null,
   "metadata": {},
   "outputs": [],
   "source": [
    "# 1. Submission:\n",
    "import numpy as np\n",
    "matrix = np.array([['a','b','c'],\n",
    "                  ['d','e','f'],\n",
    "                  ['g','h','i']])\n",
    "\n",
    "# Matrix has been created. Now we can extract the diagonal using np.diag()\n",
    "diagonal = np.diag(matrix)\n",
    "\n",
    "print(diagonal)"
   ]
  },
  {
   "cell_type": "code",
   "execution_count": null,
   "metadata": {},
   "outputs": [],
   "source": [
    "# 2. Submission\n",
    "\n",
    "# We can capitalize elements in this new matrix using .char.capitalize()\n",
    "cap = np.char.capitalize(diagonal)\n",
    "print(cap)"
   ]
  },
  {
   "cell_type": "markdown",
   "metadata": {},
   "source": [
    "# Quiz 6"
   ]
  },
  {
   "cell_type": "markdown",
   "metadata": {},
   "source": [
    "1. \n",
    "Let the matrix:\n",
    "\n",
    "M = [[1, 2, 3], [4, 5, 6], [7, 8, 9]]\n",
    "\n",
    "In one line of code, extract the off-diagonal of the matrix. If you don't know what is the off-diagonal, is the red and bold numbers in the following matrix:\n",
    "\n",
    "    1\t2\t**3**\n",
    "\n",
    "    4\t**5**\t6\n",
    "\n",
    "    **7**\t8\t9\n",
    "\n",
    "The resulting data type should be a list."
   ]
  },
  {
   "cell_type": "code",
   "execution_count": null,
   "metadata": {},
   "outputs": [],
   "source": [
    "import numpy as np"
   ]
  },
  {
   "cell_type": "code",
   "execution_count": null,
   "metadata": {},
   "outputs": [],
   "source": [
    "M = [[1, 2, 3], [4, 5, 6], [7, 8, 9]]"
   ]
  },
  {
   "cell_type": "code",
   "execution_count": null,
   "metadata": {},
   "outputs": [],
   "source": [
    "np.diag(np.fliplr(M)).tolist() # Flipping the matrix from left to right \n",
    "                               # then extracting the diagonal and \n",
    "                               # converting to list"
   ]
  },
  {
   "cell_type": "markdown",
   "metadata": {},
   "source": [
    "2. Suppose you have a dataset with frequencies of snowing days, by month:\n",
    "\n",
    "        January: 2 \n",
    "        February: 1\n",
    "        March: 0\n",
    "        April: 0\n",
    "        May: 0\n",
    "        June: 0\n",
    "        July: 0\n",
    "        August: 0\n",
    "        September: 0\n",
    "        October: 0\n",
    "        November: 1\n",
    "        December: 1\n",
    "\n",
    "Now:\n",
    "\n",
    "* Create a dictionary with these values.\n",
    "* Add one extra snowing day to December.\n",
    "* Display the months and snowing days, sorting by month name."
   ]
  },
  {
   "cell_type": "code",
   "execution_count": null,
   "metadata": {},
   "outputs": [],
   "source": [
    "months = {'January': 2,\n",
    "         'February': 1,\n",
    "         'March': 0,\n",
    "         'April': 0,\n",
    "         'May': 0,\n",
    "         'June': 0,\n",
    "         'July': 0,\n",
    "         'August': 0,\n",
    "         'September': 0,\n",
    "         'October': 0,\n",
    "         'November': 1,\n",
    "         'December': 1}\n",
    "\n",
    "months['December'] += 1    # Adding one day to December"
   ]
  },
  {
   "cell_type": "code",
   "execution_count": null,
   "metadata": {},
   "outputs": [],
   "source": [
    "import operator\n",
    "for w in sorted(months.items(), key = operator.itemgetter(0)):\n",
    "    print(w)"
   ]
  },
  {
   "cell_type": "markdown",
   "metadata": {},
   "source": [
    "# Quiz 7"
   ]
  },
  {
   "cell_type": "markdown",
   "metadata": {},
   "source": [
    "1. The code\n",
    "\n",
    "        for i in [1,2,3]:\n",
    "            print(i)\n",
    "    does:"
   ]
  },
  {
   "cell_type": "code",
   "execution_count": null,
   "metadata": {},
   "outputs": [],
   "source": [
    "for i in [1,2,3]:\n",
    "    print(i)"
   ]
  },
  {
   "cell_type": "markdown",
   "metadata": {},
   "source": [
    "2. The code\n",
    "\n",
    "        for i in 'abc':\n",
    "            print(i)\n",
    "does:"
   ]
  },
  {
   "cell_type": "code",
   "execution_count": null,
   "metadata": {},
   "outputs": [],
   "source": [
    "for i in 'abc':\n",
    "     print(i)"
   ]
  },
  {
   "cell_type": "markdown",
   "metadata": {},
   "source": [
    "3. The code\n",
    "        for i in [1,2,3]:\n",
    "       print(i ** 2)\n",
    "   does:"
   ]
  },
  {
   "cell_type": "code",
   "execution_count": null,
   "metadata": {},
   "outputs": [],
   "source": [
    "# Creates an error. Look at the indentation!\n",
    "#  for i in [1,2,3]:\n",
    "# print(i ** 2)"
   ]
  },
  {
   "cell_type": "markdown",
   "metadata": {},
   "source": [
    "# Quiz 8\n",
    "Write a command prompt that:\n",
    "\n",
    "1. Takes all that the user inserts and reverts it.\n",
    "\n",
    "2. Stops when the user types stop."
   ]
  },
  {
   "cell_type": "code",
   "execution_count": 8,
   "metadata": {},
   "outputs": [],
   "source": [
    "def my_prompt():\n",
    "    while True:\n",
    "        x = input('My prompt: ')\n",
    "        if x == 'stop':\n",
    "            break\n",
    "        print(x)"
   ]
  },
  {
   "cell_type": "code",
   "execution_count": 10,
   "metadata": {},
   "outputs": [
    {
     "name": "stdout",
     "output_type": "stream",
     "text": [
      "My prompt: 123\n",
      "123\n",
      "My prompt: 123\n",
      "123\n",
      "My prompt: 1234\n",
      "1234\n",
      "My prompt: 12345\n",
      "12345\n",
      "My prompt: 124356\n",
      "124356\n",
      "My prompt: 2134v\n",
      "2134v\n",
      "My prompt: stop\n"
     ]
    }
   ],
   "source": [
    "my_prompt()"
   ]
  },
  {
   "cell_type": "markdown",
   "metadata": {},
   "source": [
    "# Quiz 9\n",
    "\n",
    "In homework 2, question 5, you created a text scrambler. Now, create a function that receives a string and then returns a scrambled text. Call the function my_scrambler. (hint: you will not need to use all the lines you wrote for the original homework answer)."
   ]
  },
  {
   "cell_type": "code",
   "execution_count": 3,
   "metadata": {},
   "outputs": [
    {
     "name": "stdout",
     "output_type": "stream",
     "text": [
      "Enter some text here: 123\n",
      "Scrambled text:  231\n"
     ]
    }
   ],
   "source": [
    "# Homework 2 Answer\n",
    "def Scrambler():\n",
    "    \"\"\"Scramble your entered text\n",
    "    \n",
    "    Inputs:\n",
    "        NA --Follow directions on the prompt\n",
    "    \n",
    "    Outputs:\n",
    "        Scrambled text\n",
    "    \"\"\"\n",
    "    x = input('Enter some text here: ')\n",
    "    y = list(x)\n",
    "    z = rd.sample(y, len(y))\n",
    "    z = ''.join(z)\n",
    "    print(\"Scrambled text: \",z)\n",
    "\n",
    "Scrambler()"
   ]
  },
  {
   "cell_type": "code",
   "execution_count": 36,
   "metadata": {},
   "outputs": [],
   "source": [
    "import random as rd\n",
    "\n",
    "# Answer\n",
    "def my_scrambler(string):\n",
    "    \"\"\"Scramble your input\n",
    "    \n",
    "    Inputs: \n",
    "        String: Any string\n",
    "        \n",
    "    Outputs:\n",
    "        Scrambled string joined together\n",
    "    \"\"\"\n",
    "    x = rd.sample(string, len(string))\n",
    "    y = ''.join(x)\n",
    "    print(y)"
   ]
  },
  {
   "cell_type": "code",
   "execution_count": 37,
   "metadata": {},
   "outputs": [
    {
     "name": "stdout",
     "output_type": "stream",
     "text": [
      "llew\n"
     ]
    }
   ],
   "source": [
    "# Testing the function\n",
    "my_scrambler('well')"
   ]
  },
  {
   "cell_type": "code",
   "execution_count": null,
   "metadata": {},
   "outputs": [],
   "source": []
  }
 ],
 "metadata": {
  "kernelspec": {
   "display_name": "Python 3",
   "language": "python",
   "name": "python3"
  },
  "language_info": {
   "codemirror_mode": {
    "name": "ipython",
    "version": 3
   },
   "file_extension": ".py",
   "mimetype": "text/x-python",
   "name": "python",
   "nbconvert_exporter": "python",
   "pygments_lexer": "ipython3",
   "version": "3.8.3"
  }
 },
 "nbformat": 4,
 "nbformat_minor": 4
}
