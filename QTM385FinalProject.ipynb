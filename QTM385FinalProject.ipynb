{
 "cells": [
  {
   "cell_type": "markdown",
   "metadata": {},
   "source": [
    "# Group 3 - Final Project\n",
    "\n",
    "1. Write a python function that receives a string with a sentence and compute the average word size in the string.\n",
    "\n",
    "\n",
    "Breaking down the question:\n",
    "   * We want to break the string down into individual words so we can get the length of the sentence (or the # of words)\n",
    "   * We want to break the words down so we can count the letters and compute the average word count\n",
    "   * We need to make sure that punctuation marks are excluded from the count. \n",
    "        * We can use the string package to refer to all puntuation marks"
   ]
  },
  {
   "cell_type": "code",
   "execution_count": 1,
   "metadata": {},
   "outputs": [],
   "source": [
    "import string\n",
    "\n",
    "def TextAvg(my_entry):\n",
    "    my_entry = ''.join(filter(lambda x: x not in string.punctuation, my_entry))\n",
    "    my_entry = my_entry.split()\n",
    "    l = []\n",
    "    for word in my_entry:\n",
    "        l.append(len(word))\n",
    "        mn = round(sum(l) / len(l), 4)\n",
    "    \n",
    "    print(\"Your string's average word length is:\", mn)"
   ]
  },
  {
   "cell_type": "code",
   "execution_count": 4,
   "metadata": {},
   "outputs": [
    {
     "name": "stdout",
     "output_type": "stream",
     "text": [
      "Your string's average word length is: 3.25\n",
      "Your string's average word length is: 3.8571\n"
     ]
    }
   ],
   "source": [
    "TextAvg('This is a string.')\n",
    "\n",
    "TextAvg('This is a string that keeps going. . . . . . . . . . .')"
   ]
  },
  {
   "cell_type": "markdown",
   "metadata": {},
   "source": [
    "2. Write a python function that counts each of the letters in a python string. Hint: you can assume that the string is all lower case letters."
   ]
  },
  {
   "cell_type": "code",
   "execution_count": 5,
   "metadata": {},
   "outputs": [
    {
     "data": {
      "text/plain": [
       "18"
      ]
     },
     "execution_count": 5,
     "metadata": {},
     "output_type": "execute_result"
    }
   ],
   "source": [
    "import re\n",
    "def count_char(str):\n",
    "    return len(re.findall('[a-z]', str))\n",
    "\n",
    "test_str = \"i like to eat apple pie!\"\n",
    "count_char(test_str)"
   ]
  },
  {
   "cell_type": "markdown",
   "metadata": {},
   "source": [
    "3. Write a SQL code that fetches intersecting records of two tables."
   ]
  },
  {
   "cell_type": "code",
   "execution_count": null,
   "metadata": {},
   "outputs": [],
   "source": []
  },
  {
   "cell_type": "code",
   "execution_count": 1,
   "metadata": {},
   "outputs": [],
   "source": [
    "def TextAvg(my_entry):\n",
    "    \n",
    "    my_entry = my_entry.split()\n",
    "    \n",
    "    l = []\n",
    "    nwords = len(my_entry)\n",
    "    for word in my_entry:\n",
    "        for letter in word:\n",
    "            if letter.isalpha() == True:\n",
    "                l.append(letter)\n",
    "                mn = round(len(l)/nwords,4)\n",
    "            else:\n",
    "                pass\n",
    "\n",
    "    print(\"Your string's average word length is:\", mn)"
   ]
  },
  {
   "cell_type": "code",
   "execution_count": 2,
   "metadata": {},
   "outputs": [
    {
     "name": "stdout",
     "output_type": "stream",
     "text": [
      "Your string's average word length is: 3.9333\n"
     ]
    },
    {
     "data": {
      "text/plain": [
       "3.933333333333333"
      ]
     },
     "execution_count": 2,
     "metadata": {},
     "output_type": "execute_result"
    }
   ],
   "source": [
    "TextAvg(\"This is a sample string! Do you know the average word count in this string?\")\n",
    "((4 + 2 + 1 + 6 + 6) + (2 + 3 + 4 + 3 + 7 + 4 + 5 + 2 + 4 + 6))/15"
   ]
  }
 ],
 "metadata": {
  "kernelspec": {
   "display_name": "Python 3",
   "language": "python",
   "name": "python3"
  },
  "language_info": {
   "codemirror_mode": {
    "name": "ipython",
    "version": 3
   },
   "file_extension": ".py",
   "mimetype": "text/x-python",
   "name": "python",
   "nbconvert_exporter": "python",
   "pygments_lexer": "ipython3",
   "version": "3.8.3"
  }
 },
 "nbformat": 4,
 "nbformat_minor": 4
}
